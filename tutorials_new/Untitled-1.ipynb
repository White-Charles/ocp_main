{
 "cells": [
  {
   "cell_type": "code",
   "execution_count": 1,
   "metadata": {},
   "outputs": [],
   "source": [
    "import numpy as np\n",
    "from ase.build import bulk\n",
    "from ase.visualize import view\n"
   ]
  },
  {
   "cell_type": "code",
   "execution_count": 2,
   "metadata": {},
   "outputs": [
    {
     "name": "stdout",
     "output_type": "stream",
     "text": [
      "[[0.    0.    0.   ]\n",
      " [0.    1.805 1.805]\n",
      " [1.805 0.    1.805]\n",
      " [1.805 1.805 0.   ]]\n",
      "Cell([3.61, 3.61, 3.61])\n"
     ]
    }
   ],
   "source": [
    "\n",
    "# 构建铜晶体体系\n",
    "cu = bulk(\"Cu\", cubic=True)\n",
    "print(cu.positions)\n",
    "print(cu.cell)"
   ]
  },
  {
   "cell_type": "code",
   "execution_count": 3,
   "metadata": {},
   "outputs": [
    {
     "name": "stdout",
     "output_type": "stream",
     "text": [
      "[[0.    0.    0.   ]\n",
      " [0.    1.805 1.805]\n",
      " [1.805 0.    1.805]\n",
      " [1.805 1.805 0.   ]]\n",
      "Cell([5.415, 3.61, 3.61])\n"
     ]
    }
   ],
   "source": [
    "# 获取当前的晶格矩阵\n",
    "matrix = cu.get_cell()\n",
    "\n",
    "# 在 x 方向上添加应变\n",
    "matrix[0][0] *= 1.5\n",
    "\n",
    "# 将新的晶格矩阵赋值给 原始 Cu 对象 \n",
    "cu.set_cell(matrix)\n",
    "\n",
    "# 输出 Cu 对象中的所有原子坐标\n",
    "print(cu.positions)\n",
    "print(cu.cell)"
   ]
  },
  {
   "cell_type": "code",
   "execution_count": 7,
   "metadata": {},
   "outputs": [
    {
     "name": "stdout",
     "output_type": "stream",
     "text": [
      "原始晶格矩阵：\n",
      "Cell([3.61, 3.61, 3.61])\n",
      "[[0.    0.    0.   ]\n",
      " [0.    1.805 1.805]\n",
      " [1.805 0.    1.805]\n",
      " [1.805 1.805 0.   ]]\n",
      "\n",
      " 新的晶格矩阵：\n",
      "Cell([5.415, 3.61, 3.61])\n",
      "[[0.     0.     0.    ]\n",
      " [0.     1.805  1.805 ]\n",
      " [2.7075 0.     1.805 ]\n",
      " [2.7075 1.805  0.    ]]\n"
     ]
    }
   ],
   "source": [
    "from ase.build import bulk\n",
    "\n",
    "# 构建铜晶体体系\n",
    "cu = bulk(\"Cu\", cubic=True)\n",
    "\n",
    "# 输出原始的晶格矩阵\n",
    "print(\"原始晶格矩阵：\")\n",
    "print(cu.get_cell())\n",
    "print(cu.positions)\n",
    "# 在 x 方向上添加应变\n",
    "matrix = cu.get_cell()\n",
    "matrix[0][0] *= 1.5\n",
    "\n",
    "# 将新的晶格矩阵赋值给 Cu 对象 \n",
    "cu.set_cell(matrix, scale_atoms=True)\n",
    "\n",
    "# 输出新的晶格矩阵\n",
    "print(\"\\n 新的晶格矩阵：\" )\n",
    "print(cu.get_cell())\n",
    "print(cu.positions)"
   ]
  },
  {
   "cell_type": "code",
   "execution_count": 5,
   "metadata": {},
   "outputs": [
    {
     "ename": "NameError",
     "evalue": "name 'ag' is not defined",
     "output_type": "error",
     "traceback": [
      "\u001b[0;31m---------------------------------------------------------------------------\u001b[0m",
      "\u001b[0;31mNameError\u001b[0m                                 Traceback (most recent call last)",
      "Cell \u001b[0;32mIn[5], line 4\u001b[0m\n\u001b[1;32m      1\u001b[0m \u001b[39mfrom\u001b[39;00m \u001b[39mase\u001b[39;00m\u001b[39m.\u001b[39;00m\u001b[39mconstraints\u001b[39;00m \u001b[39mimport\u001b[39;00m FixConstraint\n\u001b[1;32m      3\u001b[0m \u001b[39m# 创建 FixConstraint 对象，将所有银原子在 z 方向上的运动限制为不可动\u001b[39;00m\n\u001b[0;32m----> 4\u001b[0m constraints \u001b[39m=\u001b[39m FixConstraint([\u001b[39mFalse\u001b[39;00m, \u001b[39mFalse\u001b[39;00m, \u001b[39mTrue\u001b[39;00m] \u001b[39m*\u001b[39m \u001b[39mlen\u001b[39m(ag))\n",
      "\u001b[0;31mNameError\u001b[0m: name 'ag' is not defined"
     ]
    }
   ],
   "source": [
    "from ase.constraints import FixConstraint\n",
    "\n",
    "# 创建 FixConstraint 对象，将所有银原子在 z 方向上的运动限制为不可动\n",
    "constraints = FixConstraint([False, False, True] * len(ag))"
   ]
  },
  {
   "cell_type": "code",
   "execution_count": 1,
   "metadata": {},
   "outputs": [],
   "source": [
    "import numpy as np\n",
    "\n",
    "def replace_nan_with_max(matrix):\n",
    "    \"\"\"\n",
    "    将矩阵中的 NaN 值替换为对应列的最大值\n",
    "    \n",
    "    Args：\n",
    "        matrix: 要处理的二维列表，其中可能包含 NaN 值\n",
    "        \n",
    "    Returns:\n",
    "        list: 返回处理后的二维列表\n",
    "    \"\"\"\n",
    "    matrix = np.array(matrix) # 转换为 numpy 数组，以便使用 numpy 的函数\n",
    "    max_values = np.nanmax(matrix, axis=0) # 按列计算最大值，忽略 NaN 值\n",
    "    nan_mask = np.isnan(matrix) # 找出所有的 NaN 值\n",
    "    matrix[nan_mask] = np.take(max_values, np.where(nan_mask)[1]) # 替换 NaN 值为对应列的最大值\n",
    "    return matrix.tolist() # 转换回 Python 列表并返回\n"
   ]
  },
  {
   "cell_type": "code",
   "execution_count": 2,
   "metadata": {},
   "outputs": [
    {
     "name": "stdout",
     "output_type": "stream",
     "text": [
      "[[1.0, 2.0, 6.0], [4.0, 8.0, 6.0], [7.0, 8.0, 6.0]]\n"
     ]
    }
   ],
   "source": [
    "my_matrix = [\n",
    "    [1, 2, np.nan],\n",
    "    [4, np.nan, 6],\n",
    "    [7, 8, np.nan]\n",
    "]\n",
    "\n",
    "new_matrix = replace_nan_with_max(my_matrix)\n",
    "print(new_matrix)\n"
   ]
  },
  {
   "cell_type": "code",
   "execution_count": 7,
   "metadata": {},
   "outputs": [
    {
     "ename": "ValueError",
     "evalue": "Num should be positive",
     "output_type": "error",
     "traceback": [
      "\u001b[0;31m---------------------------------------------------------------------------\u001b[0m",
      "\u001b[0;31mValueError\u001b[0m                                Traceback (most recent call last)",
      "Cell \u001b[0;32mIn[7], line 6\u001b[0m\n\u001b[1;32m      3\u001b[0m         \u001b[39mraise\u001b[39;00m \u001b[39mValueError\u001b[39;00m(\u001b[39m\"\u001b[39m\u001b[39mNum should be positive\u001b[39m\u001b[39m\"\u001b[39m)\n\u001b[1;32m      4\u001b[0m     \u001b[39mreturn\u001b[39;00m(num\u001b[39m+\u001b[39m\u001b[39m1\u001b[39m)\n\u001b[0;32m----> 6\u001b[0m my_func(\u001b[39m-\u001b[39;49m\u001b[39m1\u001b[39;49m)  \u001b[39m# 抛出 ValueError 异常\u001b[39;00m\n",
      "Cell \u001b[0;32mIn[7], line 3\u001b[0m, in \u001b[0;36mmy_func\u001b[0;34m(num)\u001b[0m\n\u001b[1;32m      1\u001b[0m \u001b[39mdef\u001b[39;00m \u001b[39mmy_func\u001b[39m(num):\n\u001b[1;32m      2\u001b[0m     \u001b[39mif\u001b[39;00m num \u001b[39m<\u001b[39m \u001b[39m0\u001b[39m:\n\u001b[0;32m----> 3\u001b[0m         \u001b[39mraise\u001b[39;00m \u001b[39mValueError\u001b[39;00m(\u001b[39m\"\u001b[39m\u001b[39mNum should be positive\u001b[39m\u001b[39m\"\u001b[39m)\n\u001b[1;32m      4\u001b[0m     \u001b[39mreturn\u001b[39;00m(num\u001b[39m+\u001b[39m\u001b[39m1\u001b[39m)\n",
      "\u001b[0;31mValueError\u001b[0m: Num should be positive"
     ]
    }
   ],
   "source": [
    "def my_func(num):\n",
    "    if num < 0:\n",
    "        raise ValueError(\"Num should be positive\")\n",
    "    return(num+1)\n",
    "\n",
    "my_func(-1)  # 抛出 ValueError 异常\n",
    "\n"
   ]
  }
 ],
 "metadata": {
  "kernelspec": {
   "display_name": "ocp-models",
   "language": "python",
   "name": "python3"
  },
  "language_info": {
   "codemirror_mode": {
    "name": "ipython",
    "version": 3
   },
   "file_extension": ".py",
   "mimetype": "text/x-python",
   "name": "python",
   "nbconvert_exporter": "python",
   "pygments_lexer": "ipython3",
   "version": "3.9.16"
  },
  "orig_nbformat": 4
 },
 "nbformat": 4,
 "nbformat_minor": 2
}
