{
 "cells": [
  {
   "attachments": {},
   "cell_type": "markdown",
   "metadata": {},
   "source": [
    "如果是在一个金属表面吸附一个原子，一个原子在表面上有两个自由度，在金属表面上构成一个能量曲面。\n",
    "如果是在表面吸附一个多原子分子，由于每个原子都有自由度，将会有更高维度的能量曲面。\n",
    "我们的目标是通过训练模型及其能量，知悉整个高维能量曲面。"
   ]
  },
  {
   "cell_type": "code",
   "execution_count": 1,
   "metadata": {},
   "outputs": [],
   "source": [
    "from ase.build import bulk\n",
    "from ase.optimize import LBFGS\n",
    "from ase.calculators.emt import EMT\n",
    "from ase.visualize import view\n",
    "from ase.io import write\n",
    "from ase.build import fcc100, add_adsorbate, molecule, fcc111\n",
    "from ase.constraints import FixAtoms, FixCartesian\n",
    "from ase.atoms import Atoms\n",
    "import os\n",
    "import numpy as np"
   ]
  },
  {
   "attachments": {},
   "cell_type": "markdown",
   "metadata": {},
   "source": [
    "\n",
    "Function part"
   ]
  },
  {
   "cell_type": "code",
   "execution_count": 2,
   "metadata": {},
   "outputs": [],
   "source": [
    "def compare_atoms(ini_atoms, pre_atoms):\n",
    "    # 函数用于计算应变，变形前模型：ini_atoms, 变形后模型：pre_atoms，两个模型的属性是 ase.atoms.Atoms，\n",
    "    # 如果两个模型不是Atoms(Type Error)，或者不具有应变变换(Value Error)，会提示错误。\n",
    "\n",
    "    isAtoms = isinstance(ini_atoms, Atoms) + isinstance(pre_atoms, Atoms)\n",
    "    len_queal= len(ini_atoms.positions) == len(pre_atoms.positions)\n",
    "    if isAtoms*len_queal == 0:\n",
    "        print('Two model are Atoms:', isAtoms==2)\n",
    "        print('Two models with equal atomic numbers :', len_queal==1)\n",
    "        raise TypeError(\"Model should be Atoms\")\n",
    "    \n",
    "    ini_cor = np.concatenate((ini_atoms.cell.array, ini_atoms.positions), axis=0)  # 盒子和原子都统一至坐标 \n",
    "    pre_cor = np.concatenate((pre_atoms.cell.array, pre_atoms.positions), axis=0)\n",
    "    np.seterr(divide='ignore', invalid='ignore')  # 忽略警告，因为坐标值有0值做除数\n",
    "    strains = pre_cor / ini_cor  # 坐标相除，获得比例\n",
    "\n",
    "    strains = np.array(strains) # 转换为 numpy 数组，以便使用 numpy 的函数\n",
    "    max_values = np.nanmax(strains, axis=0) # 按列计算最大值，忽略 NaN 值\n",
    "    nan_mask = np.isnan(strains) # 找出所有的 NaN 值\n",
    "    strains[nan_mask] = np.take(max_values, np.where(nan_mask)[1]) # 替换 NaN 值为对应列的最大值\n",
    "    strains.tolist() # 转换回 Python 列表并返回\n",
    "\n",
    "    strain_list = np.full(3, np.nan)\n",
    "    for column in range(3):  # 检查每一列是否都具有相同的应变\n",
    "        strains_column = strains[:,column]\n",
    "        strain_equal = all(x == strains_column[0] for x in strains_column)\n",
    "        if strain_equal ==1:\n",
    "            strain_list[column] = strains_column[0]\n",
    "        else:\n",
    "            raise ValueError(\"Strain are not uniform\")\n",
    "    strain_list = strain_list-1\n",
    "    print('strain: ',strain_list )\n",
    "    return(strain_list)"
   ]
  },
  {
   "cell_type": "code",
   "execution_count": 3,
   "metadata": {},
   "outputs": [],
   "source": [
    "def cal_LBFGC(ini_model, potential = EMT, fmax=1E-6, steps=1000):\n",
    "    # 执行动力学过程，默认的势函数是EMT，力收敛判断值1E-6，最大动力学步数1E3\n",
    "    ini_model.set_calculator(potential()) # setting the calculated potential \n",
    "    # 创建 LBFGS 实例\n",
    "    dyn = LBFGS(ini_model)\n",
    "    # 进行能量最小化优化计算\n",
    "    dyn.run(fmax, steps)\n",
    "\n",
    "    # 输出优化后的结构信息和能量值\n",
    "    opt_config = dyn.atoms # initial model\n",
    "    opt_energy = dyn.atoms.get_potential_energy()\n",
    "    print('Limited-memory Broyden-Fletcher-Goldfarb-Shanno algorithm')\n",
    "    return(opt_config, opt_energy)"
   ]
  },
  {
   "cell_type": "code",
   "execution_count": 4,
   "metadata": {},
   "outputs": [],
   "source": [
    "def set_strain(ini_model, strain=[0,0,0], is_opt=True):\n",
    "    # strain 表面应变由三个值控制 [ε1 ε2 ε6]\n",
    "    isAtoms = isinstance(ini_model, Atoms)\n",
    "    if isAtoms == 0:\n",
    "        raise TypeError(\"Model should be Atoms\")\n",
    "    \n",
    "    strain_slab = ini_model.copy()\n",
    "    # 获取当前的晶格矩阵, 复制初始无应变构型\n",
    "    cell = strain_slab.get_cell()\n",
    "\n",
    "    strains = np.array([[strain[0], strain[2]],\n",
    "               [strain[2], strain[1]]])\n",
    "    deform = strains + np.identity(2)\n",
    "    cell[:2,:2] = np.dot(cell[:2,:2], deform) \n",
    "    # 将新的晶格矩阵赋值给 原始 Cu 对象 \n",
    "    strain_slab.set_cell(cell, scale_atoms=True, apply_constraint=False)  # scale_Atoms=True must be set to True to ensure that ...\n",
    "    \n",
    "    # ...the atomic coordinates adapt to changes in the lattice matrix\n",
    "    \n",
    "    if is_opt==True:\n",
    "        opt_strain_slab, opt_strain_energr = cal_LBFGC(strain_slab)\n",
    "    else:\n",
    "        opt_strain_slab, opt_strain_energr = strain_slab, False\n",
    "    # strain = compare_atoms(ini_model,strain_slab)\n",
    "    return(opt_strain_slab, opt_strain_energr)"
   ]
  },
  {
   "attachments": {},
   "cell_type": "markdown",
   "metadata": {},
   "source": [
    "1. initial cofiguration of Cu bulk"
   ]
  },
  {
   "cell_type": "code",
   "execution_count": 5,
   "metadata": {},
   "outputs": [
    {
     "name": "stdout",
     "output_type": "stream",
     "text": [
      "       Step     Time          Energy         fmax\n",
      "*Force-consistent energies used in optimization.\n",
      "LBFGS:    0 13:44:39       -0.153401*       0.0000\n",
      "Limited-memory Broyden-Fletcher-Goldfarb-Shanno algorithm\n",
      "\n",
      " inipotential =  -0.15340080668105394 \n",
      "\n",
      "strain:  [0. 0. 0.]\n"
     ]
    }
   ],
   "source": [
    "adslab = fcc111(\"Cu\", size=(3, 3, 3),periodic=True)\n",
    "# cons= FixAtoms(indices=[atom.index for atom in adslab if (atom.tag == 0)])\n",
    "# adslab.set_constraint(cons)\n",
    "# adslab.center(vacuum=13.0, axis=2)\n",
    "adslab.set_pbc(True)\n",
    "# adslab.set_calculator(EMT()) # setting the calculated potential \n",
    "# print(adslab.positions[:,0])\n",
    "# print(type(adslab))\n",
    "opt_config, opt_energe= cal_LBFGC(adslab)\n",
    "print('\\n inipotential = ', opt_energe, '\\n')\n",
    "strain = compare_atoms(adslab,adslab)\n"
   ]
  },
  {
   "cell_type": "code",
   "execution_count": 6,
   "metadata": {},
   "outputs": [
    {
     "name": "stdout",
     "output_type": "stream",
     "text": [
      "Cell([[7.65796644025031, 0.0, 0.0], [3.828983220125155, 6.6319934785854535, 0.0], [0.0, 0.0, 6.252703415323648]])\n",
      "       Step     Time          Energy         fmax\n",
      "*Force-consistent energies used in optimization.\n",
      "LBFGS:    0 13:44:39        1.780340*       0.0000\n",
      "Limited-memory Broyden-Fletcher-Goldfarb-Shanno algorithm\n",
      "strain:  [0.1 0.  0. ]\n"
     ]
    }
   ],
   "source": [
    "print(opt_config.cell)\n",
    "strain_model, strain_energe= set_strain(opt_config, strain=[0.1,0,0],is_opt=True)\n",
    "strain = compare_atoms(adslab,strain_model)"
   ]
  },
  {
   "cell_type": "code",
   "execution_count": 7,
   "metadata": {},
   "outputs": [
    {
     "name": "stdout",
     "output_type": "stream",
     "text": [
      "       Step     Time          Energy         fmax\n",
      "*Force-consistent energies used in optimization.\n",
      "LBFGS:    0 13:44:39        1.780340*       0.0000\n",
      "LBFGS:    1 13:44:39        1.780340*       0.0000\n",
      "LBFGS:    2 13:44:39       94.770000*       0.0000\n",
      "LBFGS:    3 13:44:39       94.770000*       0.0000\n",
      "LBFGS:    4 13:44:39       94.770000*       0.0000\n",
      "LBFGS:    5 13:44:39       94.770000*       0.0000\n",
      "LBFGS:    6 13:44:39       94.770000*       0.0000\n",
      "LBFGS:    7 13:44:39       94.770000*       0.0000\n",
      "LBFGS:    8 13:44:39       94.770000*       0.0000\n",
      "LBFGS:    9 13:44:39       94.770000*       0.0000\n",
      "LBFGS:   10 13:44:39       94.770000*       0.0000\n",
      "LBFGS:   11 13:44:39       94.770000*       0.0000\n",
      "LBFGS:   12 13:44:39       94.770000*       0.0000\n",
      "LBFGS:   13 13:44:39       94.770000*       0.0000\n",
      "LBFGS:   14 13:44:39       94.770000*       0.0000\n",
      "LBFGS:   15 13:44:39       94.770000*       0.0000\n",
      "LBFGS:   16 13:44:39       94.770000*       0.0000\n",
      "LBFGS:   17 13:44:39       94.770000*       0.0000\n",
      "LBFGS:   18 13:44:39       94.770000*       0.0000\n",
      "LBFGS:   19 13:44:39       94.770000*       0.0000\n",
      "LBFGS:   20 13:44:39       94.770000*       0.0000\n",
      "LBFGS:   21 13:44:39       94.770000*       0.0000\n",
      "LBFGS:   22 13:44:39       94.770000*       0.0000\n",
      "LBFGS:   23 13:44:39       94.770000*       0.0000\n",
      "LBFGS:   24 13:44:39       94.770000*       0.0000\n",
      "LBFGS:   25 13:44:39       94.770000*       0.0000\n",
      "LBFGS:   26 13:44:39       94.770000*       0.0000\n",
      "LBFGS:   27 13:44:39       94.770000*       0.0000\n",
      "LBFGS:   28 13:44:39       94.770000*       0.0000\n",
      "LBFGS:   29 13:44:40       94.770000*       0.0000\n",
      "LBFGS:   30 13:44:40       94.770000*       0.0000\n",
      "LBFGS:   31 13:44:40       94.770000*       0.0000\n",
      "LBFGS:   32 13:44:40       94.770000*       0.0000\n",
      "LBFGS:   33 13:44:40       94.770000*       0.0000\n",
      "LBFGS:   34 13:44:40       94.770000*       0.0000\n",
      "LBFGS:   35 13:44:40       94.770000*       0.0000\n",
      "LBFGS:   36 13:44:40       94.770000*       0.0000\n",
      "LBFGS:   37 13:44:40       94.770000*       0.0000\n",
      "LBFGS:   38 13:44:40       94.770000*       0.0000\n",
      "LBFGS:   39 13:44:40       94.770000*       0.0000\n",
      "LBFGS:   40 13:44:40       94.770000*       0.0000\n",
      "LBFGS:   41 13:44:40       94.770000*       0.0000\n",
      "LBFGS:   42 13:44:40       94.770000*       0.0000\n",
      "LBFGS:   43 13:44:40       94.770000*       0.0000\n",
      "LBFGS:   44 13:44:40       94.770000*       0.0000\n",
      "LBFGS:   45 13:44:40       94.770000*       0.0000\n",
      "LBFGS:   46 13:44:40       94.770000*       0.0000\n",
      "LBFGS:   47 13:44:40       94.770000*       0.0000\n",
      "LBFGS:   48 13:44:40       94.770000*       0.0000\n",
      "LBFGS:   49 13:44:40       94.770000*       0.0000\n",
      "LBFGS:   50 13:44:40       94.770000*       0.0000\n",
      "LBFGS:   51 13:44:40       94.770000*       0.0000\n",
      "LBFGS:   52 13:44:40       94.770000*       0.0000\n",
      "LBFGS:   53 13:44:40       94.770000*       0.0000\n",
      "LBFGS:   54 13:44:40       94.770000*       0.0000\n",
      "LBFGS:   55 13:44:40       94.770000*       0.0000\n",
      "LBFGS:   56 13:44:40       94.770000*       0.0000\n",
      "LBFGS:   57 13:44:40       94.770000*       0.0000\n",
      "LBFGS:   58 13:44:40       94.770000*       0.0000\n",
      "LBFGS:   59 13:44:40       94.770000*       0.0000\n",
      "LBFGS:   60 13:44:40       94.770000*       0.0000\n",
      "LBFGS:   61 13:44:40       94.770000*       0.0000\n",
      "LBFGS:   62 13:44:40       94.770000*       0.0000\n",
      "LBFGS:   63 13:44:40       94.770000*       0.0000\n",
      "LBFGS:   64 13:44:40       94.770000*       0.0000\n",
      "LBFGS:   65 13:44:40       94.770000*       0.0000\n",
      "LBFGS:   66 13:44:40       94.770000*       0.0000\n",
      "LBFGS:   67 13:44:40       94.770000*       0.0000\n",
      "LBFGS:   68 13:44:40       94.770000*       0.0000\n",
      "LBFGS:   69 13:44:40       94.770000*       0.0000\n",
      "LBFGS:   70 13:44:41       94.770000*       0.0000\n",
      "LBFGS:   71 13:44:41       94.770000*       0.0000\n",
      "LBFGS:   72 13:44:41       94.770000*       0.0000\n",
      "LBFGS:   73 13:44:41       94.770000*       0.0000\n",
      "LBFGS:   74 13:44:41       94.770000*       0.0000\n",
      "LBFGS:   75 13:44:41       94.770000*       0.0000\n",
      "LBFGS:   76 13:44:41       94.770000*       0.0000\n",
      "LBFGS:   77 13:44:41       94.770000*       0.0000\n",
      "LBFGS:   78 13:44:41       94.770000*       0.0000\n",
      "LBFGS:   79 13:44:41       94.770000*       0.0000\n",
      "LBFGS:   80 13:44:41       94.770000*       0.0000\n",
      "LBFGS:   81 13:44:41       94.770000*       0.0000\n",
      "LBFGS:   82 13:44:41       94.770000*       0.0000\n",
      "LBFGS:   83 13:44:41       94.770000*       0.0000\n",
      "LBFGS:   84 13:44:41       94.770000*       0.0000\n",
      "LBFGS:   85 13:44:41       94.770000*       0.0000\n",
      "LBFGS:   86 13:44:41       94.770000*       0.0000\n",
      "LBFGS:   87 13:44:41       94.770000*       0.0000\n",
      "LBFGS:   88 13:44:41       94.770000*       0.0000\n",
      "LBFGS:   89 13:44:41       94.770000*       0.0000\n",
      "LBFGS:   90 13:44:41       94.770000*       0.0000\n",
      "LBFGS:   91 13:44:41       94.770000*       0.0000\n",
      "LBFGS:   92 13:44:41       94.770000*       0.0000\n",
      "LBFGS:   93 13:44:41       94.770000*       0.0000\n",
      "LBFGS:   94 13:44:41       94.770000*       0.0000\n",
      "LBFGS:   95 13:44:41       94.770000*       0.0000\n",
      "LBFGS:   96 13:44:41       94.770000*       0.0000\n",
      "LBFGS:   97 13:44:41       94.770000*       0.0000\n",
      "LBFGS:   98 13:44:41       94.770000*       0.0000\n",
      "LBFGS:   99 13:44:41       94.770000*       0.0000\n",
      "LBFGS:  100 13:44:41       94.770000*       0.0000\n",
      "Initial cell parameters:  Cell([[8.423763084275341, 0.0, 0.0], [4.211881542137671, 6.6319934785854535, 0.0], [0.0, 0.0, 6.252703415323648]])\n",
      "Final cell parameters:  Cell([[8.423763084275341, 0.0, 0.0], [4.211881542137671, 6.6319934785854535, 0.0], [0.0, 0.0, 6.252703415323648]])\n"
     ]
    }
   ],
   "source": [
    "from ase.io import read\n",
    "from ase.calculators.emt import EMT\n",
    "from ase.optimize import BFGS\n",
    "\n",
    "def optimize_structure(atoms):\n",
    "    # 读取初始结构信息\n",
    "    # 创建势函数对象\n",
    "    calc = EMT()\n",
    "    atoms.set_calculator(calc)\n",
    "\n",
    "    # 进行 BFGS 优化\n",
    "    dyn = LBFGS(atoms)\n",
    "    dyn.run(fmax=0, steps=100)\n",
    "\n",
    "    # 打印优化前后的晶格参数\n",
    "    print('Initial cell parameters: ', atoms.cell)\n",
    "    print('Final cell parameters: ', atoms.get_cell())\n",
    "\n",
    "    # 返回优化后的结构信息\n",
    "    return atoms\n",
    "\n",
    "# 调用函数进行结构优化\n",
    "optimized_structure = optimize_structure(strain_model)\n"
   ]
  },
  {
   "cell_type": "code",
   "execution_count": 8,
   "metadata": {},
   "outputs": [
    {
     "name": "stdout",
     "output_type": "stream",
     "text": [
      "Help on method set_cell in module ase.atoms:\n",
      "\n",
      "set_cell(cell, scale_atoms=False, apply_constraint=True) method of ase.atoms.Atoms instance\n",
      "    Set unit cell vectors.\n",
      "    \n",
      "    Parameters:\n",
      "    \n",
      "    cell: 3x3 matrix or length 3 or 6 vector\n",
      "        Unit cell.  A 3x3 matrix (the three unit cell vectors) or\n",
      "        just three numbers for an orthorhombic cell. Another option is\n",
      "        6 numbers, which describes unit cell with lengths of unit cell\n",
      "        vectors and with angles between them (in degrees), in following\n",
      "        order: [len(a), len(b), len(c), angle(b,c), angle(a,c),\n",
      "        angle(a,b)].  First vector will lie in x-direction, second in\n",
      "        xy-plane, and the third one in z-positive subspace.\n",
      "    scale_atoms: bool\n",
      "        Fix atomic positions or move atoms with the unit cell?\n",
      "        Default behavior is to *not* move the atoms (scale_atoms=False).\n",
      "    apply_constraint: bool\n",
      "        Whether to apply constraints to the given cell.\n",
      "    \n",
      "    Examples:\n",
      "    \n",
      "    Two equivalent ways to define an orthorhombic cell:\n",
      "    \n",
      "    >>> atoms = Atoms('He')\n",
      "    >>> a, b, c = 7, 7.5, 8\n",
      "    >>> atoms.set_cell([a, b, c])\n",
      "    >>> atoms.set_cell([(a, 0, 0), (0, b, 0), (0, 0, c)])\n",
      "    \n",
      "    FCC unit cell:\n",
      "    \n",
      "    >>> atoms.set_cell([(0, b, b), (b, 0, b), (b, b, 0)])\n",
      "    \n",
      "    Hexagonal unit cell:\n",
      "    \n",
      "    >>> atoms.set_cell([a, a, c, 90, 90, 120])\n",
      "    \n",
      "    Rhombohedral unit cell:\n",
      "    \n",
      "    >>> alpha = 77\n",
      "    >>> atoms.set_cell([a, a, a, alpha, alpha, alpha])\n",
      "\n"
     ]
    }
   ],
   "source": [
    "strain_model.constraints\n",
    "help(strain_model.set_cell)"
   ]
  },
  {
   "cell_type": "code",
   "execution_count": 9,
   "metadata": {},
   "outputs": [
    {
     "name": "stdout",
     "output_type": "stream",
     "text": [
      "strain:  [0.1 0.  0. ]\n",
      "<bound method Atoms.get_cell of Atoms(symbols='Cu27', pbc=True, cell=[[8.423763084275341, 0.0, 0.0], [4.211881542137671, 6.6319934785854535, 0.0], [0.0, 0.0, 6.252703415323648]], tags=...)>\n"
     ]
    }
   ],
   "source": [
    "strain_slab = opt_config.copy()\n",
    "# 获取当前的晶格矩阵, 复制初始无应变构型\n",
    "strains = strain_slab.get_cell()\n",
    "# 在 x 方向上添加应变\n",
    "strains[:,0] *= 1.1\n",
    "# 将新的晶格矩阵赋值给 原始 Cu 对象 \n",
    "strain_slab.set_cell(strains, scale_atoms=True)  # scale_Atoms=True must be set to True to ensure that ...\n",
    "# ...the atomic coordinates adapt to changes in the lattice matrix\n",
    "strain = compare_atoms(adslab,strain_slab)\n",
    "print(strain_slab.get_cell)"
   ]
  },
  {
   "cell_type": "code",
   "execution_count": 10,
   "metadata": {},
   "outputs": [],
   "source": [
    "# 创建一个 FixCartesian 约束对象，冻结 x、y 和 z 方向上的自由度\n",
    "FixCartesian(strain_slab, mask=[True, True, False])\n",
    "strain_slab.set_pbc(True)\n",
    "strain_slab.set_calculator(EMT()) # setting the calculated potential "
   ]
  },
  {
   "cell_type": "code",
   "execution_count": 11,
   "metadata": {},
   "outputs": [
    {
     "name": "stdout",
     "output_type": "stream",
     "text": [
      "       Step     Time          Energy         fmax\n",
      "*Force-consistent energies used in optimization.\n",
      "LBFGS:    0 13:44:41        1.780340*       0.0000\n",
      "strain:  [0.1 0.  0. ]\n"
     ]
    }
   ],
   "source": [
    "strain_slab.set_calculator(EMT()) # setting the calculated potential \n",
    "# 创建 LBFGS 实例\n",
    "dyn = LBFGS(strain_slab)\n",
    "# 进行能量最小化优化计算\n",
    "dyn.run(fmax=1E-8, steps=100)\n",
    "\n",
    "# 输出优化后的结构信息和能量值\n",
    "opt_config = dyn.atoms # initial model\n",
    "opt_energy = dyn.atoms.get_potential_energy()\n",
    "strain = compare_atoms(adslab,opt_config)"
   ]
  },
  {
   "cell_type": "code",
   "execution_count": 12,
   "metadata": {},
   "outputs": [
    {
     "name": "stdout",
     "output_type": "stream",
     "text": [
      "start\n"
     ]
    }
   ],
   "source": [
    "if __name__ == '__main__':\n",
    "    # 这里是你要执行的代码\n",
    "    print('start')"
   ]
  }
 ],
 "metadata": {
  "kernelspec": {
   "display_name": "ocp-models",
   "language": "python",
   "name": "python3"
  },
  "language_info": {
   "codemirror_mode": {
    "name": "ipython",
    "version": 3
   },
   "file_extension": ".py",
   "mimetype": "text/x-python",
   "name": "python",
   "nbconvert_exporter": "python",
   "pygments_lexer": "ipython3",
   "version": "3.9.16"
  },
  "orig_nbformat": 4
 },
 "nbformat": 4,
 "nbformat_minor": 2
}
