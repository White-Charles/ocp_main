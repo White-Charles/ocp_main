{
 "cells": [
  {
   "cell_type": "markdown",
   "id": "controversial-lodge",
   "metadata": {},
   "source": [
    "### OCP LMDB Dataset Tutorial\n",
    "\n",
    "This notebook provides an overview of how to create LMDB datasets to be used with the OCP repo. This tutorial is intended for those who wish to use OCP to train on their own datasets. Those interested in just using OCP data need not worry about these steps as they've been automated as part of the download script: https://github.com/Open-Catalyst-Project/ocp/blob/master/scripts/download_data.py."
   ]
  },
  {
   "cell_type": "code",
   "execution_count": 48,
   "id": "cardiac-message",
   "metadata": {},
   "outputs": [],
   "source": [
    "from ocpmodels.preprocessing import AtomsToGraphs\n",
    "from ocpmodels.datasets import SinglePointLmdbDataset, TrajectoryLmdbDataset\n",
    "import ase.io\n",
    "from ase.build import bulk\n",
    "from ase.build import fcc100, add_adsorbate, molecule\n",
    "from ase.constraints import FixAtoms\n",
    "from ase.calculators.emt import EMT\n",
    "from ase.optimize import BFGS\n",
    "import matplotlib.pyplot as plt\n",
    "import lmdb\n",
    "import pickle\n",
    "from tqdm import tqdm\n",
    "import torch\n",
    "import os\n",
    "import numpy as np"
   ]
  },
  {
   "cell_type": "markdown",
   "id": "municipal-passenger",
   "metadata": {},
   "source": [
    "### Generate toy dataset: Relaxation of CO on Cu"
   ]
  },
  {
   "cell_type": "code",
   "execution_count": 49,
   "id": "amended-thread",
   "metadata": {},
   "outputs": [
    {
     "data": {
      "text/plain": [
       "Atoms(symbols='Cu12OC', pbc=[True, True, False], cell=[5.105310960166873, 5.105310960166873, 0.0], tags=...)"
      ]
     },
     "execution_count": 49,
     "metadata": {},
     "output_type": "execute_result"
    }
   ],
   "source": [
    "adslab = fcc100(\"Cu\", size=(2, 2, 3))\n",
    "ads = molecule(\"CO\")\n",
    "add_adsorbate(adslab, ads, 3, offset=(1, 1))\n",
    "adslab"
   ]
  },
  {
   "cell_type": "code",
   "execution_count": 50,
   "id": "e6d641be",
   "metadata": {},
   "outputs": [
    {
     "data": {
      "text/plain": [
       "FixAtoms(indices=[0, 1, 2, 3])"
      ]
     },
     "execution_count": 50,
     "metadata": {},
     "output_type": "execute_result"
    }
   ],
   "source": [
    "\n",
    "cons = FixAtoms(indices=[atom.index for atom in adslab if (atom.tag == 3)]) # Fix slab atoms \n",
    "# atom.tag is defined as the layers to which they belong\n",
    "cons"
   ]
  },
  {
   "cell_type": "code",
   "execution_count": 51,
   "id": "bc35ce9e",
   "metadata": {},
   "outputs": [
    {
     "data": {
      "text/plain": [
       "False"
      ]
     },
     "execution_count": 51,
     "metadata": {},
     "output_type": "execute_result"
    }
   ],
   "source": [
    "adslab.set_constraint(cons)\n",
    "adslab.center(vacuum=13.0, axis=2)\n",
    "adslab.set_pbc(True)\n",
    "adslab.set_calculator(EMT())\n",
    "dyn = BFGS(adslab, trajectory=\"CuCO_adslab.traj\", logfile=None)\n",
    "dyn.run(fmax=0, steps=1000) # Force convergence standard, if fmax is zero, MD will run untill max steps"
   ]
  },
  {
   "cell_type": "code",
   "execution_count": 52,
   "id": "voluntary-hotel",
   "metadata": {},
   "outputs": [
    {
     "data": {
      "text/plain": [
       "1001"
      ]
     },
     "execution_count": 52,
     "metadata": {},
     "output_type": "execute_result"
    }
   ],
   "source": [
    "raw_data = ase.io.read(\"CuCO_adslab.traj\", \":\")\n",
    "len(raw_data)"
   ]
  },
  {
   "cell_type": "code",
   "execution_count": 53,
   "id": "f956828f",
   "metadata": {},
   "outputs": [
    {
     "name": "stdout",
     "output_type": "stream",
     "text": [
      "Final energy:  3.9683558933957266\n",
      "Final forces:  [[ 0.00000000e+00  0.00000000e+00  0.00000000e+00]\n",
      " [ 0.00000000e+00  0.00000000e+00  0.00000000e+00]\n",
      " [ 0.00000000e+00  0.00000000e+00  0.00000000e+00]\n",
      " [ 0.00000000e+00  0.00000000e+00  0.00000000e+00]\n",
      " [ 3.36074213e-15 -5.34363271e-15  2.39283962e-14]\n",
      " [-5.83868958e-15  6.63572387e-15  3.15184348e-15]\n",
      " [ 3.21956546e-15 -9.11119460e-16  1.07486245e-14]\n",
      " [ 4.45129642e-15 -3.14072045e-15  3.23037921e-15]\n",
      " [ 3.95777161e-15  6.61666902e-15 -3.02449038e-15]\n",
      " [ 1.52675190e-15 -2.10942375e-15 -1.30936928e-14]\n",
      " [-6.10622664e-16  1.42263038e-15 -4.16333634e-15]\n",
      " [-2.07201877e-15 -2.45751568e-15 -1.42098044e-14]\n",
      " [ 1.74827600e-17 -6.69494842e-18  2.87540597e-14]\n",
      " [-2.88397778e-16  6.28837260e-17 -2.37761200e-14]]\n",
      "Energy convergence = True 0.0\n",
      "Force  convergence = True 0.0\n"
     ]
    }
   ],
   "source": [
    "# 访问最后一个构型\n",
    "last_atoms = raw_data[-1]\n",
    "next_atoms = raw_data[-2]\n",
    "# 输出能量和力信息\n",
    "print(\"Final energy: \", last_atoms.get_potential_energy())\n",
    "print(\"Final forces: \", last_atoms.get_forces())\n",
    "energy_con =  last_atoms.get_potential_energy()-next_atoms.get_potential_energy()\n",
    "force_con = np.amax(last_atoms.get_forces())-np.amax(next_atoms.get_forces())\n",
    "print(\"Energy convergence =\", energy_con<1E-6, energy_con)\n",
    "print(\"Force  convergence =\",energy_con<1E-6, force_con)\n",
    "\n"
   ]
  },
  {
   "attachments": {},
   "cell_type": "markdown",
   "id": "quality-renewal",
   "metadata": {},
   "source": [
    "### Initial Structure to Relaxed Energy/Structure (IS2RE/IS2RS) LMDBs\n",
    "\n",
    "IS2RE/IS2RS LMDBs utilize the SinglePointLmdb dataset. This dataset expects the data to be contained in a SINGLE LMDB file. In addition to the attributes defined by AtomsToGraph, the following attributes must be added for the IS2RE/IS2RS tasks:\n",
    "\n",
    "- pos_relaxed: Relaxed adslab positions\n",
    "- sid: Unique system identifier, arbitrary\n",
    "- y_init: Initial adslab energy, formerly Data.y\n",
    "- y_relaxed: Relaxed adslab energy\n",
    "- tags (optional): 0 - subsurface, 1 - surface, 2 - adsorbate\n",
    "\n",
    "\n",
    "As a demo, we will use the above generated data to create an IS2R* LMDB file."
   ]
  },
  {
   "cell_type": "markdown",
   "id": "different-produce",
   "metadata": {},
   "source": [
    "#### Initialize AtomsToGraph feature extractor"
   ]
  },
  {
   "cell_type": "code",
   "execution_count": 54,
   "id": "strange-acquisition",
   "metadata": {},
   "outputs": [],
   "source": [
    "a2g = AtomsToGraphs(\n",
    "    max_neigh=50,  # 设置每个原子最多与多少个相邻的原子建立联系。\n",
    "    radius=6,  # 设置建立相邻原子之间边的最大距离。在此半径内的原子将被视为相邻原子。\n",
    "    r_energy=True,  # False for test data 设置是否将能量作为节点特征添加到图中，默认为True，表示将能量添加到图中。\n",
    "    r_forces=True,  # 设置是否将力作为节点特征添加到图中，默认为True，表示将力添加到图中。\n",
    "    r_distances=False,  # 设置是否将原子之间的距离作为特征添加到图中，默认为False，表示不添加距离特征。\n",
    "    r_fixed=True,  # 设置是否将固定性作为节点特征添加到图中，默认为True，表示将固定性添加到图中\n",
    ")"
   ]
  },
  {
   "cell_type": "markdown",
   "id": "manual-seventh",
   "metadata": {},
   "source": [
    "#### Initialize LMDB file"
   ]
  },
  {
   "cell_type": "code",
   "execution_count": 55,
   "id": "binding-grain",
   "metadata": {},
   "outputs": [],
   "source": [
    "db = lmdb.open(\n",
    "    \"sample_CuCO.lmdb\",\n",
    "    map_size=5 * 1024 * 1024 * 1024,  # 5G\n",
    "    subdir=False,\n",
    "    meminit=False,\n",
    "    map_async=True,\n",
    ")"
   ]
  },
  {
   "cell_type": "markdown",
   "id": "alpha-haiti",
   "metadata": {},
   "source": [
    "#### Write data to LMDB"
   ]
  },
  {
   "cell_type": "code",
   "execution_count": 56,
   "id": "sophisticated-verification",
   "metadata": {},
   "outputs": [],
   "source": [
    "def read_trajectory_extract_features(a2g, traj_path):\n",
    "    traj = ase.io.read(traj_path, \":\")\n",
    "    tags = traj[0].get_tags()\n",
    "    images = [traj[0], traj[-1]]\n",
    "    data_objects = a2g.convert_all(images, disable_tqdm=True)\n",
    "    data_objects[0].tags = torch.LongTensor(tags)\n",
    "    data_objects[1].tags = torch.LongTensor(tags)\n",
    "    return data_objects"
   ]
  },
  {
   "cell_type": "code",
   "execution_count": 57,
   "id": "useful-exposure",
   "metadata": {},
   "outputs": [],
   "source": [
    "system_paths = [\"CuCO_adslab.traj\"]\n",
    "idx = 0 \n",
    "\n",
    "for system in system_paths:\n",
    "    # Extract Data object\n",
    "    data_objects = read_trajectory_extract_features(a2g, system)\n",
    "    initial_struc = data_objects[0]\n",
    "    relaxed_struc = data_objects[1]\n",
    "    \n",
    "    initial_struc.y_init = initial_struc.y # subtract off reference energy, if applicable\n",
    "    del initial_struc.y\n",
    "    initial_struc.y_relaxed = relaxed_struc.y # subtract off reference energy, if applicable\n",
    "    initial_struc.pos_relaxed = relaxed_struc.pos\n",
    "    \n",
    "    # Filter data if necessary\n",
    "    # OCP filters adsorption energies > |10| eV\n",
    "    \n",
    "    initial_struc.sid = idx  # arbitrary unique identifier \n",
    "    \n",
    "    # no neighbor edge case check\n",
    "    if initial_struc.edge_index.shape[1] == 0:\n",
    "        print(\"no neighbors\", traj_path)\n",
    "        continue\n",
    "    \n",
    "    # Write to LMDB\n",
    "    txn = db.begin(write=True)\n",
    "    txn.put(f\"{idx}\".encode(\"ascii\"), pickle.dumps(initial_struc, protocol=-1))\n",
    "    txn.commit()\n",
    "    db.sync()\n",
    "    idx += 1\n",
    "\n",
    "db.close()"
   ]
  },
  {
   "cell_type": "code",
   "execution_count": 58,
   "id": "failing-election",
   "metadata": {},
   "outputs": [
    {
     "data": {
      "text/plain": [
       "Data(pos=[14, 3], cell=[1, 3, 3], atomic_numbers=[14], natoms=14, tags=[14], edge_index=[2, 636], cell_offsets=[636, 3], force=[14, 3], fixed=[14], y_init=3.989314410668539, y_relaxed=3.9683558933957266, pos_relaxed=[14, 3], sid=0)"
      ]
     },
     "execution_count": 58,
     "metadata": {},
     "output_type": "execute_result"
    }
   ],
   "source": [
    "dataset = SinglePointLmdbDataset({\"src\": \"sample_CuCO.lmdb\"})\n",
    "len(dataset)\n",
    "dataset\n",
    "data0 = dataset[0]\n",
    "data0"
   ]
  },
  {
   "cell_type": "code",
   "execution_count": null,
   "id": "59c3f5c1",
   "metadata": {},
   "outputs": [],
   "source": []
  },
  {
   "cell_type": "code",
   "execution_count": 59,
   "id": "synthetic-recipient",
   "metadata": {},
   "outputs": [
    {
     "name": "stdout",
     "output_type": "stream",
     "text": [
      "<ocpmodels.datasets.lmdb_dataset.SinglePointLmdbDataset object at 0x7f3bd02875e0>\n"
     ]
    }
   ],
   "source": [
    "dataset[0]\n",
    "print(dataset)"
   ]
  },
  {
   "cell_type": "markdown",
   "id": "governing-liabilities",
   "metadata": {},
   "source": [
    "### Structure to Energy and Forces (S2EF) LMDBs\n",
    "\n",
    "S2EF LMDBs utilize the TrajectoryLmdb dataset. This dataset expects a directory of LMDB files. In addition to the attributes defined by AtomsToGraph, the following attributes must be added for the S2EF task:\n",
    "\n",
    "- tags (optional): 0 - subsurface, 1 - surface, 2 - adsorbate\n",
    "- fid: Frame index along the trajcetory\n",
    "- sid- sid: Unique system identifier, arbitrary\n",
    "\n",
    "Additionally, a \"length\" key must be added to each LMDB file.\n",
    "\n",
    "As a demo, we will use the above generated data to create an S2EF LMDB dataset"
   ]
  },
  {
   "cell_type": "code",
   "execution_count": 60,
   "id": "addressed-underground",
   "metadata": {},
   "outputs": [],
   "source": [
    "os.makedirs(\"s2ef\", exist_ok=True)\n",
    "db = lmdb.open(\n",
    "    \"s2ef/sample_CuCO.lmdb\",\n",
    "    map_size=5 * 1024 * 1024 * 1024, \n",
    "    subdir=False,\n",
    "    meminit=False,\n",
    "    map_async=True,\n",
    ")"
   ]
  },
  {
   "cell_type": "code",
   "execution_count": 61,
   "id": "adjustable-environment",
   "metadata": {},
   "outputs": [
    {
     "name": "stderr",
     "output_type": "stream",
     "text": [
      "100%|██████████| 1001/1001 [00:01<00:00, 783.90it/s]\n"
     ]
    }
   ],
   "source": [
    "tags = raw_data[0].get_tags()\n",
    "data_objects = a2g.convert_all(raw_data, disable_tqdm=True)\n",
    "\n",
    "\n",
    "for fid, data in tqdm(enumerate(data_objects), total=len(data_objects)): # total 用来正确显示进度条的长度\n",
    "    #assign sid\n",
    "    data.sid = torch.LongTensor([2]) # 构型的唯一标识符\n",
    "    #assign fid\n",
    "    data.fid = torch.LongTensor([fid]) # 历史（帧数）的标识符\n",
    "    \n",
    "    #assign tags, if available\n",
    "    data.tags = torch.LongTensor(tags)\n",
    "    \n",
    "    # Filter data if necessary\n",
    "    # OCP filters adsorption energies > |10| eV and forces > |50| eV/A\n",
    "\n",
    "    # no neighbor edge case check\n",
    "    if data.edge_index.shape[1] == 0:\n",
    "        print(\"no neighbors\", traj_path)\n",
    "        continue\n",
    "\n",
    "    txn = db.begin(write=True)\n",
    "    txn.put(f\"{fid}\".encode(\"ascii\"), pickle.dumps(data, protocol=-1))\n",
    "    txn.commit()\n",
    "    \n",
    "txn = db.begin(write=True)\n",
    "txn.put(f\"length\".encode(\"ascii\"), pickle.dumps(len(data_objects), protocol=-1))\n",
    "txn.commit()\n",
    "\n",
    "\n",
    "db.sync()\n",
    "db.close()"
   ]
  },
  {
   "cell_type": "code",
   "execution_count": 62,
   "id": "infectious-approval",
   "metadata": {},
   "outputs": [
    {
     "name": "stderr",
     "output_type": "stream",
     "text": [
      "/home/zwbai/miniconda3/envs/ocp-models/lib/python3.9/site-packages/IPython/core/interactiveshell.py:3505: UserWarning: TrajectoryLmdbDataset is deprecated and will be removed in the future.Please use 'LmdbDataset' instead.\n",
      "  exec(code_obj, self.user_global_ns, self.user_ns)\n"
     ]
    },
    {
     "data": {
      "text/plain": [
       "1001"
      ]
     },
     "execution_count": 62,
     "metadata": {},
     "output_type": "execute_result"
    }
   ],
   "source": [
    "dataset = TrajectoryLmdbDataset({\"src\": \"s2ef/\"})\n",
    "len(dataset)"
   ]
  },
  {
   "cell_type": "code",
   "execution_count": 63,
   "id": "drawn-script",
   "metadata": {},
   "outputs": [
    {
     "data": {
      "text/plain": [
       "Data(pos=[14, 3], cell=[1, 3, 3], atomic_numbers=[14], natoms=14, tags=[14], edge_index=[2, 636], cell_offsets=[636, 3], y=3.989314410668539, force=[14, 3], fixed=[14], sid=[1], fid=[1], id='0_0')"
      ]
     },
     "execution_count": 63,
     "metadata": {},
     "output_type": "execute_result"
    }
   ],
   "source": [
    "dataset[0]"
   ]
  },
  {
   "cell_type": "markdown",
   "id": "fiscal-mother",
   "metadata": {},
   "source": [
    "#### Advanced usage\n",
    "\n",
    "TrajectoryLmdbDataset supports multiple LMDB files because the need to highly parallelize the dataset construction process. With OCP's largest split containing 135M+ frames, the need to parallelize the LMDB generation process for these was necessary. If you find yourself needing to deal with very large datasets we recommend parallelizing this process."
   ]
  },
  {
   "cell_type": "markdown",
   "id": "fuzzy-society",
   "metadata": {},
   "source": [
    "### Interacting with the LMDBs\n",
    "\n",
    "Below we demonstrate how to interact with an LMDB to extract particular information."
   ]
  },
  {
   "cell_type": "code",
   "execution_count": 73,
   "id": "formed-cuisine",
   "metadata": {},
   "outputs": [
    {
     "name": "stdout",
     "output_type": "stream",
     "text": [
      "<ocpmodels.datasets.lmdb_dataset.TrajectoryLmdbDataset object at 0x7f3b7e2fdac0>\n"
     ]
    },
    {
     "data": {
      "text/plain": [
       "1001"
      ]
     },
     "execution_count": 73,
     "metadata": {},
     "output_type": "execute_result"
    }
   ],
   "source": [
    "dataset = TrajectoryLmdbDataset({\"src\": \"s2ef/\"})\n",
    "print(dataset)\n",
    "len(dataset)"
   ]
  },
  {
   "cell_type": "code",
   "execution_count": 65,
   "id": "sexual-atlas",
   "metadata": {},
   "outputs": [
    {
     "data": {
      "text/plain": [
       "Data(pos=[14, 3], cell=[1, 3, 3], atomic_numbers=[14], natoms=14, tags=[14], edge_index=[2, 636], cell_offsets=[636, 3], y=3.989314410668539, force=[14, 3], fixed=[14], sid=[1], fid=[1], id='0_0')"
      ]
     },
     "execution_count": 65,
     "metadata": {},
     "output_type": "execute_result"
    }
   ],
   "source": [
    "data = dataset[0]\n",
    "data"
   ]
  },
  {
   "cell_type": "code",
   "execution_count": 75,
   "id": "developmental-kruger",
   "metadata": {},
   "outputs": [
    {
     "name": "stdout",
     "output_type": "stream",
     "text": [
      "tensor([3.9893, 3.9835, 3.9784,  ..., 3.9684, 3.9684, 3.9684])\n"
     ]
    },
    {
     "data": {
      "text/plain": [
       "1001"
      ]
     },
     "execution_count": 75,
     "metadata": {},
     "output_type": "execute_result"
    }
   ],
   "source": [
    "energies = torch.tensor([data.y for data in dataset])\n",
    "print(energies)\n",
    "len(energies)"
   ]
  },
  {
   "cell_type": "code",
   "execution_count": 67,
   "id": "detailed-flesh",
   "metadata": {},
   "outputs": [
    {
     "data": {
      "image/png": "[encoded data removed]",
      "text/plain": [
       "<Figure size 640x480 with 1 Axes>"
      ]
     },
     "metadata": {},
     "output_type": "display_data"
    }
   ],
   "source": [
    "plt.hist(energies, bins = 10)\n",
    "plt.yscale(\"log\")\n",
    "plt.xlabel(\"Energies\")\n",
    "plt.show()"
   ]
  }
 ],
 "metadata": {
  "kernelspec": {
   "display_name": "ocp-models",
   "language": "python",
   "name": "python3"
  },
  "language_info": {
   "codemirror_mode": {
    "name": "ipython",
    "version": 3
   },
   "file_extension": ".py",
   "mimetype": "text/x-python",
   "name": "python",
   "nbconvert_exporter": "python",
   "pygments_lexer": "ipython3",
   "version": "3.9.16"
  }
 },
 "nbformat": 4,
 "nbformat_minor": 5
}
