{
 "cells": [
  {
   "cell_type": "markdown",
   "metadata": {},
   "source": [
    "# Introduction\n",
    "This is a Graph Convolutional Networks (GCN) to predict adsorption energy by density of states of mentals."
   ]
  },
  {
   "cell_type": "markdown",
   "metadata": {},
   "source": [
    "# Function"
   ]
  },
  {
   "cell_type": "code",
   "execution_count": 93,
   "metadata": {},
   "outputs": [],
   "source": [
    "import tensorflow as tf\n",
    "from tensorflow import keras\n",
    "from tensorflow.keras import layers\n",
    "\n",
    "from sklearn.model_selection import train_test_split\n",
    "import numpy as np\n",
    "import pickle\n",
    "\n",
    "import spektral\n",
    "\n",
    "from spektral.data import Dataset,Graph\n",
    "\n",
    "from tensorflow.keras.layers import Input, BatchNormalization, Dropout, Dense\n",
    "from tensorflow.keras.layers import AveragePooling1D, Concatenate, Conv1D, Flatten\n",
    "from tensorflow.keras.models import Model\n",
    "\n",
    "from tensorflow.keras.layers import Dense\n",
    "from tensorflow.keras.losses import MeanSquaredError\n",
    "from tensorflow.keras.optimizers import Adam\n",
    "from spektral.data import DisjointLoader\n",
    "from spektral import models\n",
    "from spektral.layers import ECCConv, GlobalSumPool, GlobalAvgPool\n",
    "\n",
    "import pandas"
   ]
  },
  {
   "cell_type": "code",
   "execution_count": 94,
   "metadata": {},
   "outputs": [
    {
     "data": {
      "text/plain": [
       "'/home/zwbai/miniconda3/envs/gcn/bin/python'"
      ]
     },
     "execution_count": 94,
     "metadata": {},
     "output_type": "execute_result"
    }
   ],
   "source": [
    "import sys\n",
    "sys.executable"
   ]
  },
  {
   "cell_type": "code",
   "execution_count": 95,
   "metadata": {},
   "outputs": [
    {
     "name": "stdout",
     "output_type": "stream",
     "text": [
      "True\n"
     ]
    }
   ],
   "source": [
    "tf.config.run_functions_eagerly(True)\n",
    "print(tf.executing_eagerly())"
   ]
  },
  {
   "cell_type": "markdown",
   "metadata": {},
   "source": [
    "# Load Data"
   ]
  },
  {
   "cell_type": "code",
   "execution_count": 96,
   "metadata": {},
   "outputs": [],
   "source": [
    "class MyGraphDataset(Dataset):\n",
    "    \"\"\"\n",
    "    A dataset of density of states of mentals\n",
    "    \"\"\"\n",
    "    def __init__(self, graph_list, **kwargs):\n",
    "        self.graph_list = graph_list\n",
    "        super().__init__(**kwargs)\n",
    "    \n",
    "    def download(self):\n",
    "        if self.path is None:\n",
    "            print('self.path is None')\n",
    "        else:\n",
    "            with open(self.path, 'wb') as file:\n",
    "                pickle.dump(self.graph_list, file)\n",
    "\n",
    "    def read(self):\n",
    "        # We must return a list of Graph objects\n",
    "        output = []\n",
    "        for i in range(len(self.graph_list)):\n",
    "            output.append(\n",
    "                self.graph_list[i]\n",
    "            )\n",
    "        return output\n",
    "\n",
    "    def __len__(self):\n",
    "        return len(self.graph_list)\n",
    "\n",
    "    def __getitem__(self, index):\n",
    "        return self.graph_list[index]"
   ]
  },
  {
   "cell_type": "code",
   "execution_count": 97,
   "metadata": {},
   "outputs": [
    {
     "name": "stdout",
     "output_type": "stream",
     "text": [
      "MyGraphDataset(n_graphs=120)\n"
     ]
    },
    {
     "data": {
      "text/plain": [
       "(8, 2000)"
      ]
     },
     "execution_count": 97,
     "metadata": {},
     "output_type": "execute_result"
    }
   ],
   "source": [
    "# 从文件中提取数据\n",
    "folder_path_all = '/media/zwbai/DATA/dft/shear/' # 当前文件执行的文件夹，包括输出和输入文件夹\n",
    "output_path = folder_path_all + 'output/'\n",
    "dos_energy_data_file = output_path + 'dos_energy_data.pkl'\n",
    "with open(dos_energy_data_file, 'rb') as file:\n",
    "    dataset1 = pickle.load(file)\n",
    "\n",
    "print(dataset1)  # 输出：[1, 2, 3, 4, 5]\n",
    "dataset1[0].x.shape"
   ]
  },
  {
   "cell_type": "code",
   "execution_count": null,
   "metadata": {},
   "outputs": [],
   "source": [
    "dataset = dataset1"
   ]
  },
  {
   "cell_type": "code",
   "execution_count": 98,
   "metadata": {},
   "outputs": [
    {
     "name": "stdout",
     "output_type": "stream",
     "text": [
      "MyGraphDataset(n_graphs=594)\n"
     ]
    },
    {
     "data": {
      "text/plain": [
       "Graph(n_nodes=8, n_node_features=2000, n_edge_features=4, n_labels=1)"
      ]
     },
     "execution_count": 98,
     "metadata": {},
     "output_type": "execute_result"
    }
   ],
   "source": [
    "# # 从文件中提取数据\n",
    "# file_path = '/home/zwbai/work/ocp-main/ocp/new/vasp_cala/dos_energy_data.pkl'\n",
    "# with open(file_path, 'rb') as file:\n",
    "#     dataset2 = pickle.load(file)\n",
    "\n",
    "# print(dataset2)  # 输出：[1, 2, 3, 4, 5]\n",
    "# dataset2[0]"
   ]
  },
  {
   "cell_type": "code",
   "execution_count": 99,
   "metadata": {},
   "outputs": [
    {
     "data": {
      "text/plain": [
       "714"
      ]
     },
     "execution_count": 99,
     "metadata": {},
     "output_type": "execute_result"
    }
   ],
   "source": [
    "# graph_data = []\n",
    "# for i in range(len(dataset1)):\n",
    "#     g = dataset1[i]\n",
    "#     graph_data.append(g)\n",
    "# for i in range(len(dataset2)):\n",
    "#     g = dataset2[i]\n",
    "#     graph_data.append(g)\n",
    "# len(graph_data)\n"
   ]
  },
  {
   "cell_type": "code",
   "execution_count": 100,
   "metadata": {},
   "outputs": [],
   "source": [
    "# dataset = MyGraphDataset(graph_data)"
   ]
  },
  {
   "cell_type": "code",
   "execution_count": 101,
   "metadata": {},
   "outputs": [
    {
     "data": {
      "text/plain": [
       "Graph(n_nodes=8, n_node_features=2000, n_edge_features=4, n_labels=1)"
      ]
     },
     "execution_count": 101,
     "metadata": {},
     "output_type": "execute_result"
    }
   ],
   "source": [
    "dataset[200]"
   ]
  },
  {
   "cell_type": "markdown",
   "metadata": {},
   "source": [
    "# Build GCN model"
   ]
  },
  {
   "cell_type": "code",
   "execution_count": 72,
   "metadata": {},
   "outputs": [
    {
     "data": {
      "text/plain": [
       "(2000, 4, 1)"
      ]
     },
     "execution_count": 72,
     "metadata": {},
     "output_type": "execute_result"
    }
   ],
   "source": [
    "F = dataset.n_node_features  # Dimension of node features\n",
    "S = dataset.n_edge_features  # Dimension of edge features\n",
    "n_out = dataset.n_labels  # Dimension of the target\n",
    "F, S, n_out"
   ]
  },
  {
   "cell_type": "code",
   "execution_count": 73,
   "metadata": {},
   "outputs": [
    {
     "name": "stdout",
     "output_type": "stream",
     "text": [
      "None\n"
     ]
    }
   ],
   "source": [
    "print(dataset.n_nodes)"
   ]
  },
  {
   "cell_type": "code",
   "execution_count": 74,
   "metadata": {},
   "outputs": [],
   "source": [
    "learning_rate = 1e-3  # Learning rate\n",
    "epochs = 40  # Number of training epochs\n",
    "batch_size = 16  # Batch size\n"
   ]
  },
  {
   "cell_type": "code",
   "execution_count": 75,
   "metadata": {},
   "outputs": [],
   "source": [
    "def dos_featurize(length, channel):\n",
    "    input_dos = Input(shape=(length, channel)) # 400, 5\n",
    "    x1 = AveragePooling1D(pool_size=2, strides=2, padding='same')(input_dos)  # 窗口 步长\n",
    "    x2 = AveragePooling1D(pool_size=4, strides=2, padding='same')(input_dos)\n",
    "    x3 = AveragePooling1D(pool_size=8, strides=2, padding='same')(input_dos)\n",
    "    x = Concatenate(axis=-1)([x1, x2, x3])  # 沿着最后一个轴拼接\n",
    "    x = Conv1D(250, 9, activation='relu', padding='same', strides=2)(x)\n",
    "    x = BatchNormalization()(x)\n",
    "    x = Conv1D(175, 3, activation='relu', padding='same', strides=2)(x)\n",
    "    x = AveragePooling1D(pool_size=3, strides=2, padding='same')(x)\n",
    "    x = Conv1D(150, 3, activation='relu', padding='same', strides=2)(x)\n",
    "    x = AveragePooling1D(pool_size=3, strides=2, padding='same')(x)\n",
    "    x = Conv1D(125, 3, activation='relu', padding='same', strides=2)(x)\n",
    "    x = AveragePooling1D(pool_size=3, strides=2, padding='same')(x)\n",
    "    x = Conv1D(100, 3, activation='relu', padding='same', strides=2)(x)\n",
    "    x = tf.squeeze(x)\n",
    "    # x = x.numpy()\n",
    "    shared_model = Model(input_dos, x)\n",
    "    return shared_model\n",
    "\n",
    "channels = 5\n",
    "length = int(F/channels) # 400\n",
    "shared_conv = dos_featurize(length, channels)"
   ]
  },
  {
   "cell_type": "code",
   "execution_count": 76,
   "metadata": {},
   "outputs": [
    {
     "name": "stdout",
     "output_type": "stream",
     "text": [
      "((TensorSpec(shape=(None, 2000), dtype=tf.float64, name=None), SparseTensorSpec(TensorShape([None, None]), tf.float32), TensorSpec(shape=(None, 4), dtype=tf.float64, name=None), TensorSpec(shape=(None,), dtype=tf.int64, name=None)), TensorSpec(shape=(None, 1), dtype=tf.float64, name=None))\n",
      "(128, 2000)\n",
      "(128, 2000)\n",
      "(128, 2000)\n",
      "(128, 2000)\n",
      "(16, 2000)\n",
      "(128, 2000)\n",
      "(128, 2000)\n",
      "(128, 2000)\n",
      "(128, 2000)\n",
      "(16, 2000)\n",
      "(128, 2000)\n",
      "(128, 2000)\n",
      "(128, 2000)\n",
      "(128, 2000)\n",
      "(16, 2000)\n",
      "(128, 2000)\n",
      "(128, 2000)\n",
      "(128, 2000)\n",
      "(128, 2000)\n",
      "(16, 2000)\n",
      "(128, 2000)\n",
      "(128, 2000)\n",
      "(128, 2000)\n",
      "(128, 2000)\n",
      "(16, 2000)\n",
      "(128, 2000)\n",
      "(128, 2000)\n",
      "(128, 2000)\n",
      "(128, 2000)\n",
      "(16, 2000)\n",
      "(128, 2000)\n",
      "(128, 2000)\n",
      "(128, 2000)\n",
      "(128, 2000)\n",
      "(16, 2000)\n",
      "(128, 2000)\n",
      "(128, 2000)\n",
      "(128, 2000)\n",
      "(128, 2000)\n",
      "(16, 2000)\n",
      "(128, 2000)\n",
      "(128, 2000)\n",
      "(128, 2000)\n",
      "(128, 2000)\n",
      "(16, 2000)\n",
      "(128, 2000)\n",
      "(128, 2000)\n",
      "(128, 2000)\n",
      "(128, 2000)\n",
      "(16, 2000)\n",
      "(128, 2000)\n",
      "(128, 2000)\n",
      "(128, 2000)\n",
      "(128, 2000)\n",
      "(16, 2000)\n",
      "(128, 2000)\n",
      "(128, 2000)\n",
      "(128, 2000)\n",
      "(128, 2000)\n",
      "(16, 2000)\n",
      "(128, 2000)\n",
      "(128, 2000)\n",
      "(128, 2000)\n",
      "(128, 2000)\n",
      "(16, 2000)\n",
      "(128, 2000)\n",
      "(128, 2000)\n",
      "(128, 2000)\n",
      "(128, 2000)\n",
      "(16, 2000)\n",
      "(128, 2000)\n",
      "(128, 2000)\n",
      "(128, 2000)\n",
      "(128, 2000)\n",
      "(16, 2000)\n",
      "(128, 2000)\n",
      "(128, 2000)\n",
      "(128, 2000)\n",
      "(128, 2000)\n",
      "(16, 2000)\n",
      "(128, 2000)\n",
      "(128, 2000)\n",
      "(128, 2000)\n",
      "(128, 2000)\n",
      "(16, 2000)\n",
      "(128, 2000)\n",
      "(128, 2000)\n",
      "(128, 2000)\n",
      "(128, 2000)\n",
      "(16, 2000)\n",
      "(128, 2000)\n",
      "(128, 2000)\n",
      "(128, 2000)\n",
      "(128, 2000)\n",
      "(16, 2000)\n",
      "(128, 2000)\n",
      "(128, 2000)\n",
      "(128, 2000)\n",
      "(128, 2000)\n",
      "(16, 2000)\n",
      "(128, 2000)\n",
      "(128, 2000)\n",
      "(128, 2000)\n",
      "(128, 2000)\n",
      "(16, 2000)\n",
      "(128, 2000)\n",
      "(128, 2000)\n",
      "(128, 2000)\n",
      "(128, 2000)\n",
      "(16, 2000)\n",
      "(128, 2000)\n",
      "(128, 2000)\n",
      "(128, 2000)\n",
      "(128, 2000)\n",
      "(16, 2000)\n",
      "(128, 2000)\n",
      "(128, 2000)\n",
      "(128, 2000)\n",
      "(128, 2000)\n",
      "(16, 2000)\n",
      "(128, 2000)\n",
      "(128, 2000)\n",
      "(128, 2000)\n",
      "(128, 2000)\n",
      "(16, 2000)\n",
      "(128, 2000)\n",
      "(128, 2000)\n",
      "(128, 2000)\n",
      "(128, 2000)\n",
      "(16, 2000)\n",
      "(128, 2000)\n",
      "(128, 2000)\n",
      "(128, 2000)\n",
      "(128, 2000)\n",
      "(16, 2000)\n",
      "(128, 2000)\n",
      "(128, 2000)\n",
      "(128, 2000)\n",
      "(128, 2000)\n",
      "(16, 2000)\n",
      "(128, 2000)\n",
      "(128, 2000)\n",
      "(128, 2000)\n",
      "(128, 2000)\n",
      "(16, 2000)\n",
      "(128, 2000)\n",
      "(128, 2000)\n",
      "(128, 2000)\n",
      "(128, 2000)\n",
      "(16, 2000)\n",
      "(128, 2000)\n",
      "(128, 2000)\n",
      "(128, 2000)\n",
      "(128, 2000)\n",
      "(16, 2000)\n",
      "(128, 2000)\n",
      "(128, 2000)\n",
      "(128, 2000)\n",
      "(128, 2000)\n",
      "(16, 2000)\n",
      "(128, 2000)\n",
      "(128, 2000)\n",
      "(128, 2000)\n",
      "(128, 2000)\n",
      "(16, 2000)\n",
      "(128, 2000)\n",
      "(128, 2000)\n",
      "(128, 2000)\n",
      "(128, 2000)\n",
      "(16, 2000)\n",
      "(128, 2000)\n",
      "(128, 2000)\n",
      "(128, 2000)\n",
      "(128, 2000)\n",
      "(16, 2000)\n",
      "(128, 2000)\n",
      "(128, 2000)\n",
      "(128, 2000)\n",
      "(128, 2000)\n",
      "(16, 2000)\n",
      "(128, 2000)\n",
      "(128, 2000)\n",
      "(128, 2000)\n",
      "(128, 2000)\n",
      "(16, 2000)\n",
      "(128, 2000)\n",
      "(128, 2000)\n",
      "(128, 2000)\n",
      "(128, 2000)\n",
      "(16, 2000)\n",
      "(128, 2000)\n",
      "(128, 2000)\n",
      "(128, 2000)\n",
      "(128, 2000)\n",
      "(16, 2000)\n",
      "(128, 2000)\n",
      "(128, 2000)\n",
      "(128, 2000)\n",
      "(128, 2000)\n",
      "(16, 2000)\n"
     ]
    }
   ],
   "source": [
    "dataset_tr = MyGraphDataset(dataset[:66])\n",
    "loader_tr = DisjointLoader(dataset_tr, batch_size=batch_size, epochs=epochs)\n",
    "print(loader_tr.tf_signature())\n",
    "for batch in loader_tr:\n",
    "    print(batch[0][0].shape) # batch[0~3] 有四个属性"
   ]
  },
  {
   "cell_type": "code",
   "execution_count": 105,
   "metadata": {},
   "outputs": [
    {
     "data": {
      "text/plain": [
       "(8, 2000)"
      ]
     },
     "execution_count": 105,
     "metadata": {},
     "output_type": "execute_result"
    }
   ],
   "source": [
    "batch[0][0].shape"
   ]
  },
  {
   "cell_type": "markdown",
   "metadata": {},
   "source": [
    "# "
   ]
  },
  {
   "cell_type": "code",
   "execution_count": 78,
   "metadata": {},
   "outputs": [],
   "source": [
    "def get_range(lst, ran=[0,1], per_batch=8):\n",
    "    # 分割\n",
    "    return (np.array([item for i in range(0, len(lst), per_batch) for item in lst[i+ran[0]:i+ran[1]]]))\n",
    "\n",
    "def repeat_and_stack(matrix, repeat_times=6):\n",
    "    # 扩展\n",
    "    m0 = tf.reshape(matrix, [-1, 1, matrix.shape[-1]])\n",
    "    m1 = tf.tile(m0, [1, repeat_times, 1])\n",
    "    m2 = tf.reshape(m1, [-1, matrix.shape[-1]])\n",
    "    return m2\n",
    "\n",
    "def assemble(lst, ran=6, per_batch=8):\n",
    "    # 装配\n",
    "    lst0 = tf.reshape(lst, [-1, ran, lst.shape[-1]])\n",
    "    padded_matrix = tf.pad(lst0, [[0, 0], [0, per_batch-ran], [0, 0]])\n",
    "    padded_matrix = tf.reshape(padded_matrix, [-1, lst.shape[-1]])\n",
    "    return padded_matrix"
   ]
  },
  {
   "cell_type": "code",
   "execution_count": 110,
   "metadata": {},
   "outputs": [
    {
     "data": {
      "text/plain": [
       "(8, 2000)"
      ]
     },
     "execution_count": 110,
     "metadata": {},
     "output_type": "execute_result"
    }
   ],
   "source": [
    "x = batch[0][0]\n",
    "x.shape"
   ]
  },
  {
   "cell_type": "code",
   "execution_count": 80,
   "metadata": {},
   "outputs": [
    {
     "data": {
      "text/plain": [
       "(2, 2000)"
      ]
     },
     "execution_count": 80,
     "metadata": {},
     "output_type": "execute_result"
    }
   ],
   "source": [
    "x0 = get_range(x)\n",
    "x0.shape"
   ]
  },
  {
   "cell_type": "code",
   "execution_count": 81,
   "metadata": {},
   "outputs": [
    {
     "data": {
      "text/plain": [
       "TensorShape([2, 400, 5])"
      ]
     },
     "execution_count": 81,
     "metadata": {},
     "output_type": "execute_result"
    }
   ],
   "source": [
    "x1 = tf.reshape(x0,(-1, length, channels))\n",
    "x1.shape"
   ]
  },
  {
   "cell_type": "code",
   "execution_count": 82,
   "metadata": {},
   "outputs": [
    {
     "data": {
      "text/plain": [
       "TensorShape([2, 100])"
      ]
     },
     "execution_count": 82,
     "metadata": {},
     "output_type": "execute_result"
    }
   ],
   "source": [
    "x2 = shared_conv(x1)\n",
    "# x1 = x1.numpy()\n",
    "x2.shape"
   ]
  },
  {
   "cell_type": "code",
   "execution_count": 83,
   "metadata": {},
   "outputs": [
    {
     "data": {
      "text/plain": [
       "TensorShape([16, 100])"
      ]
     },
     "execution_count": 83,
     "metadata": {},
     "output_type": "execute_result"
    }
   ],
   "source": [
    "x6 = repeat_and_stack(x2)\n",
    "x8 = assemble(x6)\n",
    "x8.shape"
   ]
  },
  {
   "cell_type": "code",
   "execution_count": 84,
   "metadata": {},
   "outputs": [
    {
     "data": {
      "text/plain": [
       "TensorShape([16, 100])"
      ]
     },
     "execution_count": 84,
     "metadata": {},
     "output_type": "execute_result"
    }
   ],
   "source": [
    "x8.shape"
   ]
  },
  {
   "cell_type": "code",
   "execution_count": 85,
   "metadata": {},
   "outputs": [],
   "source": [
    "class Net(Model):\n",
    "    def __init__(self):\n",
    "        super().__init__()\n",
    "        self.share = shared_conv\n",
    "        self.conv1 = ECCConv(64, activation=\"relu\")\n",
    "        self.conv2 = ECCConv(64, activation=\"relu\")\n",
    "        # self.conv3 = ECCConv(128, activation=\"relu\")\n",
    "        self.global_pool = GlobalAvgPool()\n",
    "        self.dense = Dense(n_out)\n",
    "\n",
    "    def call(self, inputs):\n",
    "        x, a, e, i = inputs\n",
    "        x = tf.reshape(x, (-1, length, channels))\n",
    "        x1 = get_range(x)\n",
    "        x1 = shared_conv(x1)\n",
    "        x6 = repeat_and_stack(x1)\n",
    "        x = assemble(x6)\n",
    "        \n",
    "        x = self.conv1([x, a, e])\n",
    "        x = self.conv2([x, a, e])\n",
    "        # x = self.conv3([x, a, e])\n",
    "        output = self.global_pool([x, i])\n",
    "        output = self.dense(output)\n",
    "\n",
    "        return output"
   ]
  },
  {
   "cell_type": "code",
   "execution_count": 86,
   "metadata": {},
   "outputs": [],
   "source": [
    "model = Net()\n",
    "learning_rate = 1E-3\n",
    "optimizer = Adam(learning_rate)\n",
    "loss_fn = MeanSquaredError()\n",
    "\n",
    "dataset_tr = MyGraphDataset(dataset)\n",
    "loader_tr = DisjointLoader(dataset_tr, batch_size=batch_size, epochs=epochs)"
   ]
  },
  {
   "cell_type": "code",
   "execution_count": 87,
   "metadata": {},
   "outputs": [],
   "source": [
    "# Fit model\n",
    "@tf.function(input_signature=loader_tr.tf_signature(), experimental_relax_shapes=True)\n",
    "def train_step(inputs, target):\n",
    "    with tf.GradientTape() as tape:\n",
    "        predictions = model(inputs, training=True)\n",
    "        loss = loss_fn(target, predictions) + sum(model.losses)\n",
    "    gradients = tape.gradient(loss, model.trainable_variables)\n",
    "    optimizer.apply_gradients(zip(gradients, model.trainable_variables))\n",
    "    return loss"
   ]
  },
  {
   "cell_type": "code",
   "execution_count": 88,
   "metadata": {},
   "outputs": [
    {
     "data": {
      "text/plain": [
       "[<keras.engine.functional.Functional at 0x7f05dc67e730>,\n",
       " <spektral.layers.convolutional.ecc_conv.ECCConv at 0x7f0674e2e8e0>,\n",
       " <spektral.layers.convolutional.ecc_conv.ECCConv at 0x7f05e40cf790>,\n",
       " <spektral.layers.pooling.global_pool.GlobalAvgPool at 0x7f0674e76dc0>,\n",
       " <keras.layers.core.Dense at 0x7f0674e76280>]"
      ]
     },
     "execution_count": 88,
     "metadata": {},
     "output_type": "execute_result"
    }
   ],
   "source": [
    "model.layers"
   ]
  },
  {
   "cell_type": "code",
   "execution_count": 89,
   "metadata": {},
   "outputs": [
    {
     "name": "stdout",
     "output_type": "stream",
     "text": [
      "Loss: 0.6611832976341248\n",
      "Loss: 0.5391253232955933\n",
      "Loss: 0.44640052318573\n",
      "Loss: 0.9447290301322937\n",
      "Loss: 0.5366478562355042\n",
      "Loss: 0.39401355385780334\n",
      "Loss: 0.3940383791923523\n",
      "Loss: 0.24525967240333557\n",
      "Loss: 0.3741205334663391\n",
      "Loss: 0.40095847845077515\n",
      "Loss: 0.47146928310394287\n",
      "Loss: 0.359571248292923\n",
      "Loss: 0.3371698260307312\n",
      "Loss: 0.25395631790161133\n",
      "Loss: 0.24241162836551666\n",
      "Loss: 0.2060127705335617\n",
      "Loss: 0.19287309050559998\n",
      "Loss: 0.18568994104862213\n",
      "Loss: 0.1869192272424698\n",
      "Loss: 0.17134180665016174\n",
      "Loss: 0.16002902388572693\n",
      "Loss: 0.17038509249687195\n",
      "Loss: 0.1504097431898117\n",
      "Loss: 0.1331743746995926\n",
      "Loss: 0.12285339832305908\n",
      "Loss: 0.12161390483379364\n",
      "Loss: 0.11787386983633041\n",
      "Loss: 0.11523227393627167\n",
      "Loss: 0.11327314376831055\n",
      "Loss: 0.11195728182792664\n",
      "Loss: 0.11224839836359024\n",
      "Loss: 0.11150088906288147\n",
      "Loss: 0.1098175123333931\n",
      "Loss: 0.10783728212118149\n",
      "Loss: 0.1075858548283577\n",
      "Loss: 0.1063339114189148\n",
      "Loss: 0.10606534034013748\n",
      "Loss: 0.10475517064332962\n",
      "Loss: 0.10392206907272339\n",
      "Loss: 0.10192333906888962\n"
     ]
    }
   ],
   "source": [
    "step = loss = 0\n",
    "for batch in loader_tr:\n",
    "    step += 1\n",
    "    loss += train_step(*batch)\n",
    "    if step == loader_tr.steps_per_epoch:\n",
    "        step = 0\n",
    "        print(\"Loss: {}\".format(loss / loader_tr.steps_per_epoch))\n",
    "        loss = 0"
   ]
  },
  {
   "cell_type": "code",
   "execution_count": 90,
   "metadata": {},
   "outputs": [
    {
     "name": "stdout",
     "output_type": "stream",
     "text": [
      "Model: \"net_2\"\n",
      "_________________________________________________________________\n",
      "Layer (type)                 Output Shape              Param #   \n",
      "=================================================================\n",
      "model_2 (Functional)         None                      339300    \n",
      "_________________________________________________________________\n",
      "ecc_conv_4 (ECCConv)         multiple                  38464     \n",
      "_________________________________________________________________\n",
      "ecc_conv_5 (ECCConv)         multiple                  24640     \n",
      "_________________________________________________________________\n",
      "global_avg_pool_2 (GlobalAvg multiple                  0         \n",
      "_________________________________________________________________\n",
      "dense_2 (Dense)              multiple                  65        \n",
      "=================================================================\n",
      "Total params: 402,469\n",
      "Trainable params: 401,969\n",
      "Non-trainable params: 500\n",
      "_________________________________________________________________\n"
     ]
    }
   ],
   "source": [
    "model.summary()"
   ]
  },
  {
   "cell_type": "code",
   "execution_count": 91,
   "metadata": {},
   "outputs": [
    {
     "data": {
      "image/png": "[encoded data removed]",
      "text/plain": [
       "<Figure size 640x480 with 1 Axes>"
      ]
     },
     "metadata": {},
     "output_type": "display_data"
    }
   ],
   "source": [
    "\n",
    "# dataset_tr = dataset\n",
    "loader_tr = DisjointLoader(dataset_tr, batch_size=1,epochs=1)\n",
    "# 对整个数据集进行预测\n",
    "predictions = []\n",
    "targets = []\n",
    "for batch in loader_tr:\n",
    "    output = model(batch[0], training=False)\n",
    "    predictions.append(output)\n",
    "    targets.append(batch[1])\n",
    "predictions = np.concatenate(predictions, axis=0)\n",
    "targets = np.concatenate(targets, axis=0)\n",
    "\n",
    "# 组合预测值和真实值\n",
    "data = np.concatenate([predictions, targets], axis=1)\n",
    "\n",
    "# 画图\n",
    "import matplotlib.pyplot as plt\n",
    "plt.scatter(data[:, 1], data[:, 0])\n",
    "\n",
    "plt.plot([min(data[:, 1]),max(data[:, 1])],[min(data[:, 1]),max(data[:, 1])], color = 'red' )\n",
    "plt.xlabel(\"Targets\")\n",
    "plt.ylabel(\"Predictions\")\n",
    "\n",
    "plt.show()"
   ]
  }
 ],
 "metadata": {
  "kernelspec": {
   "display_name": "ocp-models",
   "language": "python",
   "name": "python3"
  },
  "language_info": {
   "codemirror_mode": {
    "name": "ipython",
    "version": 3
   },
   "file_extension": ".py",
   "mimetype": "text/x-python",
   "name": "python",
   "nbconvert_exporter": "python",
   "pygments_lexer": "ipython3",
   "version": "3.9.15"
  }
 },
 "nbformat": 4,
 "nbformat_minor": 2
}
