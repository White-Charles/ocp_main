{
 "cells": [
  {
   "cell_type": "code",
   "execution_count": 2,
   "metadata": {},
   "outputs": [],
   "source": [
    "import os\n",
    "import re\n",
    "import math\n",
    "import lmdb\n",
    "import torch\n",
    "import random\n",
    "import pickle\n",
    "import shutil\n",
    "import itertools\n",
    "import collections\n",
    "import numpy as np\n",
    "import pandas as pd\n",
    "import matplotlib.pyplot as plt\n",
    "import scipy.spatial.distance as sp_distance\n",
    "\n",
    "from ase.atoms import Atoms\n",
    "from vaspvis import standard\n",
    "from ase.build import add_vacuum\n",
    "from ase.calculators.emt import EMT\n",
    "from ase.optimize import LBFGS, BFGS\n",
    "from spektral.data import Dataset, Graph\n",
    "from ase.visualize.plot import plot_atoms\n",
    "from ase.io import write, read, lammpsdata\n",
    "from ocpmodels.datasets import LmdbDataset\n",
    "from ocpmodels.preprocessing import AtomsToGraphs\n",
    "from ase.constraints import FixAtoms, FixCartesian\n",
    "from ase.build import add_adsorbate, molecule, fcc111\n",
    "\n",
    "from sklearn.model_selection import train_test_split\n",
    "\n",
    "from ocpre import *  # loading functions related with the program. 本项目相关的基础函数写在ocpre中"
   ]
  },
  {
   "cell_type": "code",
   "execution_count": 5,
   "metadata": {},
   "outputs": [
    {
     "data": {
      "text/plain": [
       "(27, 22, 3)"
      ]
     },
     "execution_count": 5,
     "metadata": {},
     "output_type": "execute_result"
    }
   ],
   "source": [
    "strain1 = np.load('/home/zwbai/work/ocp-main/ocp/new/code/strain_matrix.npy')\n",
    "strain1.shape"
   ]
  }
 ],
 "metadata": {
  "kernelspec": {
   "display_name": "ocp-models2",
   "language": "python",
   "name": "python3"
  },
  "language_info": {
   "codemirror_mode": {
    "name": "ipython",
    "version": 3
   },
   "file_extension": ".py",
   "mimetype": "text/x-python",
   "name": "python",
   "nbconvert_exporter": "python",
   "pygments_lexer": "ipython3",
   "version": "3.9.18"
  }
 },
 "nbformat": 4,
 "nbformat_minor": 2
}
