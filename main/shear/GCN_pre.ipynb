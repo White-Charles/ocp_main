{
 "cells": [
  {
   "cell_type": "markdown",
   "metadata": {},
   "source": [
    "# Introduction\n",
    "This is a Graph Convolutional Networks (GCN) to predict adsorption energy by density of states of mentals."
   ]
  },
  {
   "cell_type": "markdown",
   "metadata": {},
   "source": [
    "# Function"
   ]
  },
  {
   "cell_type": "code",
   "execution_count": 278,
   "metadata": {},
   "outputs": [],
   "source": [
    "import tensorflow as tf\n",
    "from tensorflow import keras\n",
    "from tensorflow.keras import layers\n",
    "\n",
    "from sklearn.model_selection import train_test_split\n",
    "import numpy as np\n",
    "import pickle\n",
    "\n",
    "import spektral\n",
    "\n",
    "from spektral.data import Dataset,Graph\n",
    "\n",
    "from tensorflow.keras.layers import Input, BatchNormalization, Dropout, Dense\n",
    "from tensorflow.keras.layers import AveragePooling1D, Concatenate, Conv1D, Flatten\n",
    "from tensorflow.keras.models import Model\n",
    "\n",
    "from tensorflow.keras.layers import Dense\n",
    "from tensorflow.keras.losses import MeanSquaredError\n",
    "from tensorflow.keras.optimizers import Adam\n",
    "from spektral.data import DisjointLoader\n",
    "from spektral import models\n",
    "from spektral.layers import ECCConv, GlobalSumPool, GlobalAvgPool\n",
    "\n",
    "import pandas"
   ]
  },
  {
   "cell_type": "code",
   "execution_count": 279,
   "metadata": {},
   "outputs": [
    {
     "data": {
      "text/plain": [
       "'/home/zwbai/miniconda3/envs/gcn/bin/python'"
      ]
     },
     "execution_count": 279,
     "metadata": {},
     "output_type": "execute_result"
    }
   ],
   "source": [
    "import sys\n",
    "sys.executable"
   ]
  },
  {
   "cell_type": "code",
   "execution_count": 280,
   "metadata": {},
   "outputs": [
    {
     "name": "stdout",
     "output_type": "stream",
     "text": [
      "True\n"
     ]
    }
   ],
   "source": [
    "tf.config.run_functions_eagerly(True)\n",
    "print(tf.executing_eagerly())"
   ]
  },
  {
   "cell_type": "markdown",
   "metadata": {},
   "source": [
    "# Load Data"
   ]
  },
  {
   "cell_type": "code",
   "execution_count": 281,
   "metadata": {},
   "outputs": [],
   "source": [
    "class MyGraphDataset(Dataset):\n",
    "    \"\"\"\n",
    "    A dataset of density of states of mentals\n",
    "    \"\"\"\n",
    "    def __init__(self, graph_list, **kwargs):\n",
    "        self.graph_list = graph_list\n",
    "        super().__init__(**kwargs)\n",
    "    \n",
    "    def download(self):\n",
    "        if self.path is None:\n",
    "            print('self.path is None')\n",
    "        else:\n",
    "            with open(self.path, 'wb') as file:\n",
    "                pickle.dump(self.graph_list, file)\n",
    "\n",
    "    def read(self):\n",
    "        # We must return a list of Graph objects\n",
    "        output = []\n",
    "        for i in range(len(self.graph_list)):\n",
    "            output.append(\n",
    "                self.graph_list[i]\n",
    "            )\n",
    "        return output\n",
    "\n",
    "    def __len__(self):\n",
    "        return len(self.graph_list)\n",
    "\n",
    "    def __getitem__(self, index):\n",
    "        return self.graph_list[index]"
   ]
  },
  {
   "cell_type": "code",
   "execution_count": 282,
   "metadata": {},
   "outputs": [
    {
     "name": "stdout",
     "output_type": "stream",
     "text": [
      "MyGraphDataset(n_graphs=120)\n"
     ]
    },
    {
     "data": {
      "text/plain": [
       "(8, 2000)"
      ]
     },
     "execution_count": 282,
     "metadata": {},
     "output_type": "execute_result"
    }
   ],
   "source": [
    "# 从文件中提取数据\n",
    "folder_path_all = '/media/zwbai/DATA/dft/shear/' # 当前文件执行的文件夹，包括输出和输入文件夹\n",
    "output_path = folder_path_all + 'output/'\n",
    "dos_energy_data_file = output_path + 'dos_energy_data.pkl'\n",
    "with open(dos_energy_data_file, 'rb') as file:\n",
    "    dataset1 = pickle.load(file)\n",
    "\n",
    "print(dataset1)  # 输出：[1, 2, 3, 4, 5]\n",
    "dataset1[0].x.shape"
   ]
  },
  {
   "cell_type": "code",
   "execution_count": 283,
   "metadata": {},
   "outputs": [
    {
     "name": "stdout",
     "output_type": "stream",
     "text": [
      "MyGraphDataset(n_graphs=126)\n"
     ]
    },
    {
     "data": {
      "text/plain": [
       "(8, 2000)"
      ]
     },
     "execution_count": 283,
     "metadata": {},
     "output_type": "execute_result"
    }
   ],
   "source": [
    "# 从文件中提取数据\n",
    "file_path = '/media/zwbai/DATA/dft/new_Cu_tc/dos_energy_data.pkl'\n",
    "with open(file_path, 'rb') as file:\n",
    "    dataset2 = pickle.load(file)\n",
    "\n",
    "print(dataset2)  # 输出：[1, 2, 3, 4, 5]\n",
    "dataset2[0].x.shape"
   ]
  },
  {
   "cell_type": "code",
   "execution_count": 284,
   "metadata": {},
   "outputs": [
    {
     "data": {
      "text/plain": [
       "246"
      ]
     },
     "execution_count": 284,
     "metadata": {},
     "output_type": "execute_result"
    }
   ],
   "source": [
    "graph_data = []\n",
    "for i in range(len(dataset1)):\n",
    "    g = dataset1[i]\n",
    "    graph_data.append(g)\n",
    "for i in range(len(dataset2)):\n",
    "    g = dataset2[i]\n",
    "    graph_data.append(g)\n",
    "len(graph_data)\n"
   ]
  },
  {
   "cell_type": "code",
   "execution_count": 285,
   "metadata": {},
   "outputs": [],
   "source": [
    "dataset = MyGraphDataset(graph_data)"
   ]
  },
  {
   "cell_type": "code",
   "execution_count": 286,
   "metadata": {},
   "outputs": [
    {
     "data": {
      "text/plain": [
       "Graph(n_nodes=8, n_node_features=2000, n_edge_features=4, n_labels=1)"
      ]
     },
     "execution_count": 286,
     "metadata": {},
     "output_type": "execute_result"
    }
   ],
   "source": [
    "dataset[200]"
   ]
  },
  {
   "cell_type": "markdown",
   "metadata": {},
   "source": [
    "# Build GCN model"
   ]
  },
  {
   "cell_type": "code",
   "execution_count": 287,
   "metadata": {},
   "outputs": [
    {
     "data": {
      "text/plain": [
       "(2000, 4, 1)"
      ]
     },
     "execution_count": 287,
     "metadata": {},
     "output_type": "execute_result"
    }
   ],
   "source": [
    "F = dataset.n_node_features  # Dimension of node features\n",
    "S = dataset.n_edge_features  # Dimension of edge features\n",
    "n_out = dataset.n_labels  # Dimension of the target\n",
    "F, S, n_out"
   ]
  },
  {
   "cell_type": "code",
   "execution_count": 288,
   "metadata": {},
   "outputs": [
    {
     "name": "stdout",
     "output_type": "stream",
     "text": [
      "None\n"
     ]
    }
   ],
   "source": [
    "print(dataset.n_nodes)"
   ]
  },
  {
   "cell_type": "code",
   "execution_count": 289,
   "metadata": {},
   "outputs": [],
   "source": [
    "learning_rate = 1e-3  # Learning rate\n",
    "epochs = 40  # Number of training epochs\n",
    "batch_size = 5  # Batch size\n"
   ]
  },
  {
   "cell_type": "code",
   "execution_count": 290,
   "metadata": {},
   "outputs": [],
   "source": [
    "def dos_featurize(length, channel):\n",
    "    input_dos = Input(shape=(length, channel)) # 400, 5\n",
    "    x1 = AveragePooling1D(pool_size=2, strides=2, padding='same')(input_dos)  # 窗口 步长\n",
    "    x2 = AveragePooling1D(pool_size=4, strides=2, padding='same')(input_dos)\n",
    "    x3 = AveragePooling1D(pool_size=8, strides=2, padding='same')(input_dos)\n",
    "    x = Concatenate(axis=-1)([x1, x2, x3])  # 沿着最后一个轴拼接\n",
    "    x = Conv1D(250, 9, activation='relu', padding='same', strides=2)(x)\n",
    "    x = BatchNormalization()(x)\n",
    "    x = Conv1D(175, 3, activation='relu', padding='same', strides=2)(x)\n",
    "    x = AveragePooling1D(pool_size=3, strides=2, padding='same')(x)\n",
    "    x = Conv1D(150, 3, activation='relu', padding='same', strides=2)(x)\n",
    "    x = AveragePooling1D(pool_size=3, strides=2, padding='same')(x)\n",
    "    x = Conv1D(125, 3, activation='relu', padding='same', strides=2)(x)\n",
    "    x = AveragePooling1D(pool_size=3, strides=2, padding='same')(x)\n",
    "    x = Conv1D(100, 3, activation='relu', padding='same', strides=2)(x)\n",
    "    x = tf.squeeze(x)\n",
    "    # x = x.numpy()\n",
    "    shared_model = Model(input_dos, x)\n",
    "    return shared_model\n",
    "\n",
    "channels = 5\n",
    "length = int(F/channels) # 400\n",
    "shared_conv = dos_featurize(length, channels)"
   ]
  },
  {
   "cell_type": "code",
   "execution_count": 291,
   "metadata": {},
   "outputs": [
    {
     "name": "stdout",
     "output_type": "stream",
     "text": [
      "((TensorSpec(shape=(None, 2000), dtype=tf.float64, name=None), SparseTensorSpec(TensorShape([None, None]), tf.float32), TensorSpec(shape=(None, 4), dtype=tf.float64, name=None), TensorSpec(shape=(None,), dtype=tf.int64, name=None)), TensorSpec(shape=(None, 1), dtype=tf.float64, name=None))\n",
      "(40, 2000)\n",
      "(40, 2000)\n",
      "(40, 2000)\n",
      "(40, 2000)\n",
      "(40, 2000)\n",
      "(40, 2000)\n",
      "(40, 2000)\n",
      "(40, 2000)\n",
      "(40, 2000)\n",
      "(40, 2000)\n",
      "(40, 2000)\n",
      "(40, 2000)\n",
      "(40, 2000)\n",
      "(8, 2000)\n",
      "(40, 2000)\n",
      "(40, 2000)\n",
      "(40, 2000)\n",
      "(40, 2000)\n",
      "(40, 2000)\n",
      "(40, 2000)\n",
      "(40, 2000)\n",
      "(40, 2000)\n",
      "(40, 2000)\n",
      "(40, 2000)\n",
      "(40, 2000)\n",
      "(40, 2000)\n",
      "(40, 2000)\n",
      "(8, 2000)\n",
      "(40, 2000)\n",
      "(40, 2000)\n",
      "(40, 2000)\n",
      "(40, 2000)\n",
      "(40, 2000)\n",
      "(40, 2000)\n",
      "(40, 2000)\n",
      "(40, 2000)\n",
      "(40, 2000)\n",
      "(40, 2000)\n",
      "(40, 2000)\n",
      "(40, 2000)\n",
      "(40, 2000)\n",
      "(8, 2000)\n",
      "(40, 2000)\n",
      "(40, 2000)\n",
      "(40, 2000)\n",
      "(40, 2000)\n",
      "(40, 2000)\n",
      "(40, 2000)\n",
      "(40, 2000)\n",
      "(40, 2000)\n",
      "(40, 2000)\n",
      "(40, 2000)\n",
      "(40, 2000)\n",
      "(40, 2000)\n",
      "(40, 2000)\n",
      "(8, 2000)\n",
      "(40, 2000)\n",
      "(40, 2000)\n",
      "(40, 2000)\n",
      "(40, 2000)\n",
      "(40, 2000)\n",
      "(40, 2000)\n",
      "(40, 2000)\n",
      "(40, 2000)\n",
      "(40, 2000)\n",
      "(40, 2000)\n",
      "(40, 2000)\n",
      "(40, 2000)\n",
      "(40, 2000)\n",
      "(8, 2000)\n",
      "(40, 2000)\n",
      "(40, 2000)\n",
      "(40, 2000)\n",
      "(40, 2000)\n",
      "(40, 2000)\n",
      "(40, 2000)\n",
      "(40, 2000)\n",
      "(40, 2000)\n",
      "(40, 2000)\n",
      "(40, 2000)\n",
      "(40, 2000)\n",
      "(40, 2000)\n",
      "(40, 2000)\n",
      "(8, 2000)\n",
      "(40, 2000)\n",
      "(40, 2000)\n",
      "(40, 2000)\n",
      "(40, 2000)\n",
      "(40, 2000)\n",
      "(40, 2000)\n",
      "(40, 2000)\n",
      "(40, 2000)\n",
      "(40, 2000)\n",
      "(40, 2000)\n",
      "(40, 2000)\n",
      "(40, 2000)\n",
      "(40, 2000)\n",
      "(8, 2000)\n",
      "(40, 2000)\n",
      "(40, 2000)\n",
      "(40, 2000)\n",
      "(40, 2000)\n",
      "(40, 2000)\n",
      "(40, 2000)\n",
      "(40, 2000)\n",
      "(40, 2000)\n",
      "(40, 2000)\n",
      "(40, 2000)\n",
      "(40, 2000)\n",
      "(40, 2000)\n",
      "(40, 2000)\n",
      "(8, 2000)\n",
      "(40, 2000)\n",
      "(40, 2000)\n",
      "(40, 2000)\n",
      "(40, 2000)\n",
      "(40, 2000)\n",
      "(40, 2000)\n",
      "(40, 2000)\n",
      "(40, 2000)\n",
      "(40, 2000)\n",
      "(40, 2000)\n",
      "(40, 2000)\n",
      "(40, 2000)\n",
      "(40, 2000)\n",
      "(8, 2000)\n",
      "(40, 2000)\n",
      "(40, 2000)\n",
      "(40, 2000)\n",
      "(40, 2000)\n",
      "(40, 2000)\n",
      "(40, 2000)\n",
      "(40, 2000)\n",
      "(40, 2000)\n",
      "(40, 2000)\n",
      "(40, 2000)\n",
      "(40, 2000)\n",
      "(40, 2000)\n",
      "(40, 2000)\n",
      "(8, 2000)\n",
      "(40, 2000)\n",
      "(40, 2000)\n",
      "(40, 2000)\n",
      "(40, 2000)\n",
      "(40, 2000)\n",
      "(40, 2000)\n",
      "(40, 2000)\n",
      "(40, 2000)\n",
      "(40, 2000)\n",
      "(40, 2000)\n",
      "(40, 2000)\n",
      "(40, 2000)\n",
      "(40, 2000)\n",
      "(8, 2000)\n",
      "(40, 2000)\n",
      "(40, 2000)\n",
      "(40, 2000)\n",
      "(40, 2000)\n",
      "(40, 2000)\n",
      "(40, 2000)\n",
      "(40, 2000)\n",
      "(40, 2000)\n",
      "(40, 2000)\n",
      "(40, 2000)\n",
      "(40, 2000)\n",
      "(40, 2000)\n",
      "(40, 2000)\n",
      "(8, 2000)\n",
      "(40, 2000)\n",
      "(40, 2000)\n",
      "(40, 2000)\n",
      "(40, 2000)\n",
      "(40, 2000)\n",
      "(40, 2000)\n",
      "(40, 2000)\n",
      "(40, 2000)\n",
      "(40, 2000)\n",
      "(40, 2000)\n",
      "(40, 2000)\n",
      "(40, 2000)\n",
      "(40, 2000)\n",
      "(8, 2000)\n",
      "(40, 2000)\n",
      "(40, 2000)\n",
      "(40, 2000)\n",
      "(40, 2000)\n",
      "(40, 2000)\n",
      "(40, 2000)\n",
      "(40, 2000)\n",
      "(40, 2000)\n",
      "(40, 2000)\n",
      "(40, 2000)\n",
      "(40, 2000)\n",
      "(40, 2000)\n",
      "(40, 2000)\n",
      "(8, 2000)\n",
      "(40, 2000)\n",
      "(40, 2000)\n",
      "(40, 2000)\n",
      "(40, 2000)\n",
      "(40, 2000)\n",
      "(40, 2000)\n",
      "(40, 2000)\n",
      "(40, 2000)\n",
      "(40, 2000)\n",
      "(40, 2000)\n",
      "(40, 2000)\n",
      "(40, 2000)\n",
      "(40, 2000)\n",
      "(8, 2000)\n",
      "(40, 2000)\n",
      "(40, 2000)\n",
      "(40, 2000)\n",
      "(40, 2000)\n",
      "(40, 2000)\n",
      "(40, 2000)\n",
      "(40, 2000)\n",
      "(40, 2000)\n",
      "(40, 2000)\n",
      "(40, 2000)\n",
      "(40, 2000)\n",
      "(40, 2000)\n",
      "(40, 2000)\n",
      "(8, 2000)\n",
      "(40, 2000)\n",
      "(40, 2000)\n",
      "(40, 2000)\n",
      "(40, 2000)\n",
      "(40, 2000)\n",
      "(40, 2000)\n",
      "(40, 2000)\n",
      "(40, 2000)\n",
      "(40, 2000)\n",
      "(40, 2000)\n",
      "(40, 2000)\n",
      "(40, 2000)\n",
      "(40, 2000)\n",
      "(8, 2000)\n",
      "(40, 2000)\n",
      "(40, 2000)\n",
      "(40, 2000)\n",
      "(40, 2000)\n",
      "(40, 2000)\n",
      "(40, 2000)\n",
      "(40, 2000)\n",
      "(40, 2000)\n",
      "(40, 2000)\n",
      "(40, 2000)\n",
      "(40, 2000)\n",
      "(40, 2000)\n",
      "(40, 2000)\n",
      "(8, 2000)\n",
      "(40, 2000)\n",
      "(40, 2000)\n",
      "(40, 2000)\n",
      "(40, 2000)\n",
      "(40, 2000)\n",
      "(40, 2000)\n",
      "(40, 2000)\n",
      "(40, 2000)\n",
      "(40, 2000)\n",
      "(40, 2000)\n",
      "(40, 2000)\n",
      "(40, 2000)\n",
      "(40, 2000)\n",
      "(8, 2000)\n",
      "(40, 2000)\n",
      "(40, 2000)\n",
      "(40, 2000)\n",
      "(40, 2000)\n",
      "(40, 2000)\n",
      "(40, 2000)\n",
      "(40, 2000)\n",
      "(40, 2000)\n",
      "(40, 2000)\n",
      "(40, 2000)\n",
      "(40, 2000)\n",
      "(40, 2000)\n",
      "(40, 2000)\n",
      "(8, 2000)\n",
      "(40, 2000)\n",
      "(40, 2000)\n",
      "(40, 2000)\n",
      "(40, 2000)\n",
      "(40, 2000)\n",
      "(40, 2000)\n",
      "(40, 2000)\n",
      "(40, 2000)\n",
      "(40, 2000)\n",
      "(40, 2000)\n",
      "(40, 2000)\n",
      "(40, 2000)\n",
      "(40, 2000)\n",
      "(8, 2000)\n",
      "(40, 2000)\n",
      "(40, 2000)\n",
      "(40, 2000)\n",
      "(40, 2000)\n",
      "(40, 2000)\n",
      "(40, 2000)\n",
      "(40, 2000)\n",
      "(40, 2000)\n",
      "(40, 2000)\n",
      "(40, 2000)\n",
      "(40, 2000)\n",
      "(40, 2000)\n",
      "(40, 2000)\n",
      "(8, 2000)\n",
      "(40, 2000)\n",
      "(40, 2000)\n",
      "(40, 2000)\n",
      "(40, 2000)\n",
      "(40, 2000)\n",
      "(40, 2000)\n",
      "(40, 2000)\n",
      "(40, 2000)\n",
      "(40, 2000)\n",
      "(40, 2000)\n",
      "(40, 2000)\n",
      "(40, 2000)\n",
      "(40, 2000)\n",
      "(8, 2000)\n",
      "(40, 2000)\n",
      "(40, 2000)\n",
      "(40, 2000)\n",
      "(40, 2000)\n",
      "(40, 2000)\n",
      "(40, 2000)\n",
      "(40, 2000)\n",
      "(40, 2000)\n",
      "(40, 2000)\n",
      "(40, 2000)\n",
      "(40, 2000)\n",
      "(40, 2000)\n",
      "(40, 2000)\n",
      "(8, 2000)\n",
      "(40, 2000)\n",
      "(40, 2000)\n",
      "(40, 2000)\n",
      "(40, 2000)\n",
      "(40, 2000)\n",
      "(40, 2000)\n",
      "(40, 2000)\n",
      "(40, 2000)\n",
      "(40, 2000)\n",
      "(40, 2000)\n",
      "(40, 2000)\n",
      "(40, 2000)\n",
      "(40, 2000)\n",
      "(8, 2000)\n",
      "(40, 2000)\n",
      "(40, 2000)\n",
      "(40, 2000)\n",
      "(40, 2000)\n",
      "(40, 2000)\n",
      "(40, 2000)\n",
      "(40, 2000)\n",
      "(40, 2000)\n",
      "(40, 2000)\n",
      "(40, 2000)\n",
      "(40, 2000)\n",
      "(40, 2000)\n",
      "(40, 2000)\n",
      "(8, 2000)\n",
      "(40, 2000)\n",
      "(40, 2000)\n",
      "(40, 2000)\n",
      "(40, 2000)\n",
      "(40, 2000)\n",
      "(40, 2000)\n",
      "(40, 2000)\n",
      "(40, 2000)\n",
      "(40, 2000)\n",
      "(40, 2000)\n",
      "(40, 2000)\n",
      "(40, 2000)\n",
      "(40, 2000)\n",
      "(8, 2000)\n",
      "(40, 2000)\n",
      "(40, 2000)\n",
      "(40, 2000)\n",
      "(40, 2000)\n",
      "(40, 2000)\n",
      "(40, 2000)\n",
      "(40, 2000)\n",
      "(40, 2000)\n",
      "(40, 2000)\n",
      "(40, 2000)\n",
      "(40, 2000)\n",
      "(40, 2000)\n",
      "(40, 2000)\n",
      "(8, 2000)\n",
      "(40, 2000)\n",
      "(40, 2000)\n",
      "(40, 2000)\n",
      "(40, 2000)\n",
      "(40, 2000)\n",
      "(40, 2000)\n",
      "(40, 2000)\n",
      "(40, 2000)\n",
      "(40, 2000)\n",
      "(40, 2000)\n",
      "(40, 2000)\n",
      "(40, 2000)\n",
      "(40, 2000)\n",
      "(8, 2000)\n",
      "(40, 2000)\n",
      "(40, 2000)\n",
      "(40, 2000)\n",
      "(40, 2000)\n",
      "(40, 2000)\n",
      "(40, 2000)\n",
      "(40, 2000)\n",
      "(40, 2000)\n",
      "(40, 2000)\n",
      "(40, 2000)\n",
      "(40, 2000)\n",
      "(40, 2000)\n",
      "(40, 2000)\n",
      "(8, 2000)\n",
      "(40, 2000)\n",
      "(40, 2000)\n",
      "(40, 2000)\n",
      "(40, 2000)\n",
      "(40, 2000)\n",
      "(40, 2000)\n",
      "(40, 2000)\n",
      "(40, 2000)\n",
      "(40, 2000)\n",
      "(40, 2000)\n",
      "(40, 2000)\n",
      "(40, 2000)\n",
      "(40, 2000)\n",
      "(8, 2000)\n",
      "(40, 2000)\n",
      "(40, 2000)\n",
      "(40, 2000)\n",
      "(40, 2000)\n",
      "(40, 2000)\n",
      "(40, 2000)\n",
      "(40, 2000)\n",
      "(40, 2000)\n",
      "(40, 2000)\n",
      "(40, 2000)\n",
      "(40, 2000)\n",
      "(40, 2000)\n",
      "(40, 2000)\n",
      "(8, 2000)\n",
      "(40, 2000)\n",
      "(40, 2000)\n",
      "(40, 2000)\n",
      "(40, 2000)\n",
      "(40, 2000)\n",
      "(40, 2000)\n",
      "(40, 2000)\n",
      "(40, 2000)\n",
      "(40, 2000)\n",
      "(40, 2000)\n",
      "(40, 2000)\n",
      "(40, 2000)\n",
      "(40, 2000)\n",
      "(8, 2000)\n",
      "(40, 2000)\n",
      "(40, 2000)\n",
      "(40, 2000)\n",
      "(40, 2000)\n",
      "(40, 2000)\n",
      "(40, 2000)\n",
      "(40, 2000)\n",
      "(40, 2000)\n",
      "(40, 2000)\n",
      "(40, 2000)\n",
      "(40, 2000)\n",
      "(40, 2000)\n",
      "(40, 2000)\n",
      "(8, 2000)\n",
      "(40, 2000)\n",
      "(40, 2000)\n",
      "(40, 2000)\n",
      "(40, 2000)\n",
      "(40, 2000)\n",
      "(40, 2000)\n",
      "(40, 2000)\n",
      "(40, 2000)\n",
      "(40, 2000)\n",
      "(40, 2000)\n",
      "(40, 2000)\n",
      "(40, 2000)\n",
      "(40, 2000)\n",
      "(8, 2000)\n",
      "(40, 2000)\n",
      "(40, 2000)\n",
      "(40, 2000)\n",
      "(40, 2000)\n",
      "(40, 2000)\n",
      "(40, 2000)\n",
      "(40, 2000)\n",
      "(40, 2000)\n",
      "(40, 2000)\n",
      "(40, 2000)\n",
      "(40, 2000)\n",
      "(40, 2000)\n",
      "(40, 2000)\n",
      "(8, 2000)\n",
      "(40, 2000)\n",
      "(40, 2000)\n",
      "(40, 2000)\n",
      "(40, 2000)\n",
      "(40, 2000)\n",
      "(40, 2000)\n",
      "(40, 2000)\n",
      "(40, 2000)\n",
      "(40, 2000)\n",
      "(40, 2000)\n",
      "(40, 2000)\n",
      "(40, 2000)\n",
      "(40, 2000)\n",
      "(8, 2000)\n",
      "(40, 2000)\n",
      "(40, 2000)\n",
      "(40, 2000)\n",
      "(40, 2000)\n",
      "(40, 2000)\n",
      "(40, 2000)\n",
      "(40, 2000)\n",
      "(40, 2000)\n",
      "(40, 2000)\n",
      "(40, 2000)\n",
      "(40, 2000)\n",
      "(40, 2000)\n",
      "(40, 2000)\n",
      "(8, 2000)\n",
      "(40, 2000)\n",
      "(40, 2000)\n",
      "(40, 2000)\n",
      "(40, 2000)\n",
      "(40, 2000)\n",
      "(40, 2000)\n",
      "(40, 2000)\n",
      "(40, 2000)\n",
      "(40, 2000)\n",
      "(40, 2000)\n",
      "(40, 2000)\n",
      "(40, 2000)\n",
      "(40, 2000)\n",
      "(8, 2000)\n",
      "(40, 2000)\n",
      "(40, 2000)\n",
      "(40, 2000)\n",
      "(40, 2000)\n",
      "(40, 2000)\n",
      "(40, 2000)\n",
      "(40, 2000)\n",
      "(40, 2000)\n",
      "(40, 2000)\n",
      "(40, 2000)\n",
      "(40, 2000)\n",
      "(40, 2000)\n",
      "(40, 2000)\n",
      "(8, 2000)\n"
     ]
    }
   ],
   "source": [
    "dataset_tr = MyGraphDataset(dataset[:66])\n",
    "loader_tr = DisjointLoader(dataset_tr, batch_size=batch_size, epochs=epochs)\n",
    "print(loader_tr.tf_signature())\n",
    "for batch in loader_tr:\n",
    "    print(batch[0][0].shape) # batch[0~3] 有四个属性"
   ]
  },
  {
   "cell_type": "code",
   "execution_count": 292,
   "metadata": {},
   "outputs": [
    {
     "data": {
      "text/plain": [
       "(8, 2000)"
      ]
     },
     "execution_count": 292,
     "metadata": {},
     "output_type": "execute_result"
    }
   ],
   "source": [
    "batch[0][0].shape"
   ]
  },
  {
   "cell_type": "markdown",
   "metadata": {},
   "source": [
    "# "
   ]
  },
  {
   "cell_type": "code",
   "execution_count": 293,
   "metadata": {},
   "outputs": [],
   "source": [
    "def get_range(lst, ran=[0,1], per_batch=8):\n",
    "    # 分割\n",
    "    return (np.array([item for i in range(0, len(lst), per_batch) for item in lst[i+ran[0]:i+ran[1]]]))\n",
    "\n",
    "def repeat_and_stack(matrix, repeat_times=6):\n",
    "    # 扩展\n",
    "    m0 = tf.reshape(matrix, [-1, 1, matrix.shape[-1]])\n",
    "    m1 = tf.tile(m0, [1, repeat_times, 1])\n",
    "    m2 = tf.reshape(m1, [-1, matrix.shape[-1]])\n",
    "    return m2\n",
    "\n",
    "def assemble(lst, ran=6, per_batch=8):\n",
    "    # 装配\n",
    "    lst0 = tf.reshape(lst, [-1, ran, lst.shape[-1]])\n",
    "    padded_matrix = tf.pad(lst0, [[0, 0], [0, per_batch-ran], [0, 0]])\n",
    "    padded_matrix = tf.reshape(padded_matrix, [-1, lst.shape[-1]])\n",
    "    return padded_matrix"
   ]
  },
  {
   "cell_type": "code",
   "execution_count": 294,
   "metadata": {},
   "outputs": [
    {
     "data": {
      "text/plain": [
       "(8, 2000)"
      ]
     },
     "execution_count": 294,
     "metadata": {},
     "output_type": "execute_result"
    }
   ],
   "source": [
    "x = batch[0][0]\n",
    "x.shape"
   ]
  },
  {
   "cell_type": "code",
   "execution_count": 295,
   "metadata": {},
   "outputs": [
    {
     "data": {
      "text/plain": [
       "(1, 2000)"
      ]
     },
     "execution_count": 295,
     "metadata": {},
     "output_type": "execute_result"
    }
   ],
   "source": [
    "x0 = get_range(x)\n",
    "x0.shape"
   ]
  },
  {
   "cell_type": "code",
   "execution_count": 296,
   "metadata": {},
   "outputs": [
    {
     "data": {
      "text/plain": [
       "TensorShape([1, 400, 5])"
      ]
     },
     "execution_count": 296,
     "metadata": {},
     "output_type": "execute_result"
    }
   ],
   "source": [
    "x1 = tf.reshape(x0,(-1, length, channels))\n",
    "x1.shape"
   ]
  },
  {
   "cell_type": "code",
   "execution_count": 297,
   "metadata": {},
   "outputs": [
    {
     "data": {
      "text/plain": [
       "TensorShape([100])"
      ]
     },
     "execution_count": 297,
     "metadata": {},
     "output_type": "execute_result"
    }
   ],
   "source": [
    "x2 = shared_conv(x1)\n",
    "# x1 = x1.numpy()\n",
    "x2.shape"
   ]
  },
  {
   "cell_type": "code",
   "execution_count": 298,
   "metadata": {},
   "outputs": [
    {
     "data": {
      "text/plain": [
       "TensorShape([8, 100])"
      ]
     },
     "execution_count": 298,
     "metadata": {},
     "output_type": "execute_result"
    }
   ],
   "source": [
    "x6 = repeat_and_stack(x2)\n",
    "x8 = assemble(x6)\n",
    "x8.shape"
   ]
  },
  {
   "cell_type": "code",
   "execution_count": 299,
   "metadata": {},
   "outputs": [
    {
     "data": {
      "text/plain": [
       "TensorShape([8, 100])"
      ]
     },
     "execution_count": 299,
     "metadata": {},
     "output_type": "execute_result"
    }
   ],
   "source": [
    "x8.shape"
   ]
  },
  {
   "cell_type": "code",
   "execution_count": 300,
   "metadata": {},
   "outputs": [],
   "source": [
    "class Net(Model):\n",
    "    def __init__(self):\n",
    "        super().__init__()\n",
    "        self.share = shared_conv\n",
    "        self.conv1 = ECCConv(64, activation=\"relu\")\n",
    "        self.conv2 = ECCConv(64, activation=\"relu\")\n",
    "        # self.conv3 = ECCConv(128, activation=\"relu\")\n",
    "        self.global_pool = GlobalAvgPool()\n",
    "        self.dense = Dense(n_out)\n",
    "\n",
    "    def call(self, inputs):\n",
    "        x, a, e, i = inputs\n",
    "        x = tf.reshape(x, (-1, length, channels))\n",
    "        x1 = get_range(x)\n",
    "        x1 = shared_conv(x1)\n",
    "        x6 = repeat_and_stack(x1)\n",
    "        x = assemble(x6)\n",
    "        \n",
    "        x = self.conv1([x, a, e])\n",
    "        x = self.conv2([x, a, e])\n",
    "        # x = self.conv3([x, a, e])\n",
    "        output = self.global_pool([x, i])\n",
    "        output = self.dense(output)\n",
    "\n",
    "        return output"
   ]
  },
  {
   "cell_type": "code",
   "execution_count": 301,
   "metadata": {},
   "outputs": [],
   "source": [
    "model = Net()\n",
    "learning_rate = 1E-3\n",
    "optimizer = Adam(learning_rate)\n",
    "loss_fn = MeanSquaredError()\n",
    "\n",
    "dataset_tr = MyGraphDataset(dataset)\n",
    "loader_tr = DisjointLoader(dataset_tr, batch_size=batch_size, epochs=epochs)"
   ]
  },
  {
   "cell_type": "code",
   "execution_count": 302,
   "metadata": {},
   "outputs": [],
   "source": [
    "# Fit model\n",
    "@tf.function(input_signature=loader_tr.tf_signature(), experimental_relax_shapes=True)\n",
    "def train_step(inputs, target):\n",
    "    with tf.GradientTape() as tape:\n",
    "        predictions = model(inputs, training=True)\n",
    "        loss = loss_fn(target, predictions) + sum(model.losses)\n",
    "    gradients = tape.gradient(loss, model.trainable_variables)\n",
    "    optimizer.apply_gradients(zip(gradients, model.trainable_variables))\n",
    "    return loss"
   ]
  },
  {
   "cell_type": "code",
   "execution_count": 303,
   "metadata": {},
   "outputs": [
    {
     "data": {
      "text/plain": [
       "[<keras.engine.functional.Functional at 0x7f041860ce50>,\n",
       " <spektral.layers.convolutional.ecc_conv.ECCConv at 0x7f045803f0d0>,\n",
       " <spektral.layers.convolutional.ecc_conv.ECCConv at 0x7f04581c5e50>,\n",
       " <spektral.layers.pooling.global_pool.GlobalAvgPool at 0x7f04187cd160>,\n",
       " <keras.layers.core.Dense at 0x7f04581f5d30>]"
      ]
     },
     "execution_count": 303,
     "metadata": {},
     "output_type": "execute_result"
    }
   ],
   "source": [
    "model.layers"
   ]
  },
  {
   "cell_type": "code",
   "execution_count": 304,
   "metadata": {},
   "outputs": [
    {
     "name": "stdout",
     "output_type": "stream",
     "text": [
      "Loss: 0.22252574563026428\n",
      "Loss: 0.264910489320755\n",
      "Loss: 0.21615153551101685\n",
      "Loss: 0.1899760216474533\n",
      "Loss: 0.12542174756526947\n",
      "Loss: 0.0775722861289978\n",
      "Loss: 0.06698441505432129\n",
      "Loss: 0.059383440762758255\n",
      "Loss: 0.05314004793763161\n",
      "Loss: 0.04339081794023514\n",
      "Loss: 0.04953073337674141\n",
      "Loss: 0.019653255119919777\n",
      "Loss: 0.034301888197660446\n",
      "Loss: 0.02313479408621788\n",
      "Loss: 0.010719277895987034\n",
      "Loss: 0.008630596101284027\n",
      "Loss: 0.009938289411365986\n",
      "Loss: 0.0236440971493721\n",
      "Loss: 0.020420528948307037\n",
      "Loss: 0.02485540136694908\n",
      "Loss: 0.00972296204417944\n",
      "Loss: 0.03197043016552925\n",
      "Loss: 0.032050300389528275\n",
      "Loss: 0.025352468714118004\n",
      "Loss: 0.034232720732688904\n",
      "Loss: 0.044087447226047516\n",
      "Loss: 0.043394070118665695\n",
      "Loss: 0.007589653600007296\n",
      "Loss: 0.00404737563803792\n",
      "Loss: 0.004517069552093744\n",
      "Loss: 0.004072098061442375\n",
      "Loss: 0.010385903529822826\n",
      "Loss: 0.004971626680344343\n",
      "Loss: 0.010421164333820343\n",
      "Loss: 0.008133303374052048\n",
      "Loss: 0.014841336756944656\n",
      "Loss: 0.009156572632491589\n",
      "Loss: 0.011382541619241238\n",
      "Loss: 0.007634710054844618\n",
      "Loss: 0.008646703325212002\n"
     ]
    }
   ],
   "source": [
    "step = loss = 0\n",
    "for batch in loader_tr:\n",
    "    step += 1\n",
    "    loss += train_step(*batch)\n",
    "    if step == loader_tr.steps_per_epoch:\n",
    "        step = 0\n",
    "        print(\"Loss: {}\".format(loss / loader_tr.steps_per_epoch))\n",
    "        loss = 0"
   ]
  },
  {
   "cell_type": "code",
   "execution_count": 305,
   "metadata": {},
   "outputs": [
    {
     "name": "stdout",
     "output_type": "stream",
     "text": [
      "Model: \"net_8\"\n",
      "_________________________________________________________________\n",
      "Layer (type)                 Output Shape              Param #   \n",
      "=================================================================\n",
      "model_8 (Functional)         None                      339300    \n",
      "_________________________________________________________________\n",
      "ecc_conv_16 (ECCConv)        multiple                  38464     \n",
      "_________________________________________________________________\n",
      "ecc_conv_17 (ECCConv)        multiple                  24640     \n",
      "_________________________________________________________________\n",
      "global_avg_pool_8 (GlobalAvg multiple                  0         \n",
      "_________________________________________________________________\n",
      "dense_8 (Dense)              multiple                  65        \n",
      "=================================================================\n",
      "Total params: 402,469\n",
      "Trainable params: 401,969\n",
      "Non-trainable params: 500\n",
      "_________________________________________________________________\n"
     ]
    }
   ],
   "source": [
    "model.summary()"
   ]
  },
  {
   "cell_type": "code",
   "execution_count": 306,
   "metadata": {},
   "outputs": [
    {
     "data": {
      "image/png": "[encoded data removed]",
      "text/plain": [
       "<Figure size 640x480 with 1 Axes>"
      ]
     },
     "metadata": {},
     "output_type": "display_data"
    }
   ],
   "source": [
    "\n",
    "# dataset_tr = dataset\n",
    "loader_tr = DisjointLoader(dataset_tr, batch_size=1,epochs=1)\n",
    "# 对整个数据集进行预测\n",
    "predictions = []\n",
    "targets = []\n",
    "for batch in loader_tr:\n",
    "    output = model(batch[0], training=False)\n",
    "    predictions.append(output)\n",
    "    targets.append(batch[1])\n",
    "predictions = np.concatenate(predictions, axis=0)\n",
    "targets = np.concatenate(targets, axis=0)\n",
    "\n",
    "# 组合预测值和真实值\n",
    "data = np.concatenate([predictions, targets], axis=1)\n",
    "\n",
    "# 画图\n",
    "import matplotlib.pyplot as plt\n",
    "plt.scatter(data[:, 1], data[:, 0])\n",
    "\n",
    "plt.plot([min(data[:, 1]),max(data[:, 1])],[min(data[:, 1]),max(data[:, 1])], color = 'red' )\n",
    "plt.xlabel(\"Targets\")\n",
    "plt.ylabel(\"Predictions\") \n",
    "\n",
    "plt.show()"
   ]
  }
 ],
 "metadata": {
  "kernelspec": {
   "display_name": "ocp-models",
   "language": "python",
   "name": "python3"
  },
  "language_info": {
   "codemirror_mode": {
    "name": "ipython",
    "version": 3
   },
   "file_extension": ".py",
   "mimetype": "text/x-python",
   "name": "python",
   "nbconvert_exporter": "python",
   "pygments_lexer": "ipython3",
   "version": "3.9.15"
  }
 },
 "nbformat": 4,
 "nbformat_minor": 2
}
