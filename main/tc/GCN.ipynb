{
 "cells": [
  {
   "cell_type": "markdown",
   "metadata": {},
   "source": [
    "# Introduction\n",
    "This is a Graph Convolutional Networks (GCN) to predict adsorption energy by density of states of mentals."
   ]
  },
  {
   "cell_type": "markdown",
   "metadata": {},
   "source": [
    "# Function"
   ]
  },
  {
   "cell_type": "code",
   "execution_count": 259,
   "metadata": {},
   "outputs": [],
   "source": [
    "\n",
    "import sys\n",
    "import pickle\n",
    "import spektral\n",
    "import visualkeras\n",
    "import numpy as np\n",
    "import pandas as pd\n",
    "import tensorflow as tf\n",
    "from tensorflow import keras\n",
    "import matplotlib.pyplot as plt\n",
    "from tensorflow.keras import layers\n",
    "\n",
    "from spektral import models\n",
    "from spektral.models.gnn_explainer import GNNExplainer\n",
    "from spektral.data import Graph, Dataset, DisjointLoader\n",
    "from spektral.layers import ECCConv, GlobalSumPool, GlobalAvgPool\n",
    "\n",
    "from sklearn.model_selection import train_test_split\n",
    "\n",
    "from tensorflow.keras.layers import Dense\n",
    "from tensorflow.keras.optimizers import Adam\n",
    "from tensorflow.keras.losses import MeanSquaredError\n",
    "from tensorflow.keras.layers import Input, BatchNormalization, Dropout, Dense, AveragePooling1D, Concatenate, Conv1D, Flatten\n",
    "from tensorflow.keras.models import Model\n",
    "\n",
    "sys.executable\n",
    "\n",
    "# TSNE PCA\n",
    "from sklearn.manifold import TSNE\n",
    "from sklearn.decomposition import PCA"
   ]
  },
  {
   "cell_type": "code",
   "execution_count": 260,
   "metadata": {},
   "outputs": [
    {
     "name": "stdout",
     "output_type": "stream",
     "text": [
      "True\n"
     ]
    }
   ],
   "source": [
    "tf.config.run_functions_eagerly(True)\n",
    "print(tf.executing_eagerly())"
   ]
  },
  {
   "cell_type": "markdown",
   "metadata": {},
   "source": [
    "# Load Data"
   ]
  },
  {
   "cell_type": "code",
   "execution_count": 261,
   "metadata": {},
   "outputs": [],
   "source": [
    "class MyGraphDataset(Dataset):\n",
    "    \"\"\"\n",
    "    A dataset of density of states of mentals\n",
    "    \"\"\"\n",
    "\n",
    "    def __init__(self, graph_list, **kwargs):\n",
    "        self.graph_list = graph_list\n",
    "        super().__init__(**kwargs)\n",
    "\n",
    "    def download(self):\n",
    "        if self.path is None:\n",
    "            print(\"self.path is None\")\n",
    "        else:\n",
    "            with open(self.path, \"wb\") as file:\n",
    "                pickle.dump(self.graph_list, file)\n",
    "\n",
    "    def read(self):\n",
    "        # We must return a list of Graph objects\n",
    "        output = []\n",
    "        for i in range(len(self.graph_list)):\n",
    "            output.append(self.graph_list[i])\n",
    "        return output\n",
    "\n",
    "    def __len__(self):\n",
    "        return len(self.graph_list)\n",
    "\n",
    "    def __getitem__(self, index):\n",
    "        return self.graph_list[index]"
   ]
  },
  {
   "cell_type": "code",
   "execution_count": 262,
   "metadata": {},
   "outputs": [
    {
     "name": "stdout",
     "output_type": "stream",
     "text": [
      "MyGraphDataset(n_graphs=126)\n"
     ]
    },
    {
     "data": {
      "text/plain": [
       "(8, 2000)"
      ]
     },
     "execution_count": 262,
     "metadata": {},
     "output_type": "execute_result"
    }
   ],
   "source": [
    "# 从文件中提取数据\n",
    "data_path = \"./vasp_cal/\"  # 当前文件执行的文件夹，包括输出和输入文件夹\n",
    "dos_energy_data_file = data_path + \"dos_energy_data.pkl\"\n",
    "with open(dos_energy_data_file, \"rb\") as file:\n",
    "    dataset1 = pickle.load(file)\n",
    "\n",
    "print(dataset1)  # 输出：[1, 2, 3, 4, 5]\n",
    "dataset1[0].x.shape"
   ]
  },
  {
   "cell_type": "code",
   "execution_count": 263,
   "metadata": {},
   "outputs": [
    {
     "name": "stdout",
     "output_type": "stream",
     "text": [
      "MyGraphDataset(n_graphs=594)\n"
     ]
    },
    {
     "data": {
      "text/plain": [
       "(8, 2000)"
      ]
     },
     "execution_count": 263,
     "metadata": {},
     "output_type": "execute_result"
    }
   ],
   "source": [
    "# 从文件中提取数据\n",
    "file_path = \"/home/zwbai/work/ocp-main/ocp/new/vasp_cala/dos_energy_data.pkl\"\n",
    "with open(file_path, \"rb\") as file:\n",
    "    dataset2 = pickle.load(file)\n",
    "\n",
    "print(dataset2)  # 输出：[1, 2, 3, 4, 5]\n",
    "dataset2[0].x.shape"
   ]
  },
  {
   "cell_type": "code",
   "execution_count": 264,
   "metadata": {},
   "outputs": [
    {
     "data": {
      "text/plain": [
       "MyGraphDataset(n_graphs=720)"
      ]
     },
     "execution_count": 264,
     "metadata": {},
     "output_type": "execute_result"
    }
   ],
   "source": [
    "graph_data = []\n",
    "for i in range(len(dataset1)):\n",
    "    g = dataset1[i]\n",
    "    graph_data.append(g)\n",
    "for i in range(len(dataset2)):\n",
    "    g = dataset2[i]\n",
    "    graph_data.append(g)\n",
    "\n",
    "dataset = MyGraphDataset(graph_data)\n",
    "dataset"
   ]
  },
  {
   "cell_type": "markdown",
   "metadata": {},
   "source": [
    "# Build GCN model"
   ]
  },
  {
   "cell_type": "code",
   "execution_count": 265,
   "metadata": {},
   "outputs": [
    {
     "data": {
      "text/plain": [
       "(2000, 4, 1)"
      ]
     },
     "execution_count": 265,
     "metadata": {},
     "output_type": "execute_result"
    }
   ],
   "source": [
    "F = dataset.n_node_features  # Dimension of node features\n",
    "S = dataset.n_edge_features  # Dimension of edge features\n",
    "n_out = dataset.n_labels  # Dimension of the target\n",
    "F, S, n_out"
   ]
  },
  {
   "cell_type": "code",
   "execution_count": 266,
   "metadata": {},
   "outputs": [],
   "source": [
    "learning_rate = 1e-4  # Learning rate\n",
    "epochs = 40  # Number of training epochs\n",
    "batch_size = 32  # Batch size"
   ]
  },
  {
   "cell_type": "code",
   "execution_count": 267,
   "metadata": {},
   "outputs": [],
   "source": [
    "def dos_featurize(length, channel):\n",
    "    input_dos = Input(shape=(length, channel))  # 400, 5\n",
    "    x1 = AveragePooling1D(pool_size=2, strides=4, padding=\"same\")(input_dos)  # 窗口 步长\n",
    "    x2 = AveragePooling1D(pool_size=4, strides=4, padding=\"same\")(input_dos)\n",
    "    x3 = AveragePooling1D(pool_size=8, strides=4, padding=\"same\")(input_dos)\n",
    "    x = Concatenate(axis=-1)([x1, x2, x3])  # 沿着最后一个轴拼接\n",
    "    x = Conv1D(250, 6, activation=\"relu\", padding=\"same\", strides=2)(x)\n",
    "    x = BatchNormalization()(x)\n",
    "    x = Conv1D(175, 3, activation=\"relu\", padding=\"same\", strides=2)(x)\n",
    "    x = AveragePooling1D(pool_size=3, strides=2, padding=\"same\")(x)\n",
    "    x = Conv1D(150, 3, activation=\"relu\", padding=\"same\", strides=2)(x)\n",
    "    x = AveragePooling1D(pool_size=3, strides=2, padding=\"same\")(x)\n",
    "    x = Conv1D(125, 3, activation=\"relu\", padding=\"same\", strides=2)(x)\n",
    "    x = AveragePooling1D(pool_size=3, strides=2, padding=\"same\")(x)\n",
    "    x = Conv1D(100, 3, activation=\"relu\", padding=\"same\", strides=2)(x)\n",
    "    x = tf.squeeze(x)\n",
    "    shared_model = Model(input_dos, x)\n",
    "    return shared_model\n",
    "\n",
    "channels = 5\n",
    "length = int(F / channels)  # 400\n",
    "shared_conv = dos_featurize(length, channels)"
   ]
  },
  {
   "cell_type": "markdown",
   "metadata": {},
   "source": [
    "# "
   ]
  },
  {
   "cell_type": "code",
   "execution_count": 268,
   "metadata": {},
   "outputs": [],
   "source": [
    "class Net(Model):\n",
    "    \n",
    "    def __init__(self):\n",
    "        super().__init__()\n",
    "        self.share = shared_conv\n",
    "        self.conv1 = ECCConv(256, activation=\"relu\")\n",
    "        self.conv2 = ECCConv(128, activation=\"relu\")\n",
    "        # self.conv3 = ECCConv(128, activation=\"relu\")\n",
    "        self.global_pool = GlobalAvgPool()\n",
    "        self.dense0 = Dense(64)\n",
    "        self.dense = Dense(n_out)\n",
    "\n",
    "    def call(self, inputs):\n",
    "        x, a, e, i = inputs\n",
    "        x = tf.reshape(x, (-1, length, channels))\n",
    "        x = shared_conv(x) # dos feature\n",
    "\n",
    "\n",
    "        x = self.conv1([x, a, e])\n",
    "        x = self.conv2([x, a, e])\n",
    "        output = self.global_pool([x, i])\n",
    "        output = tf.keras.layers.Flatten()(output)\n",
    "        output = self.dense0(output)\n",
    "        output = self.dense(output)\n",
    "\n",
    "        return output"
   ]
  },
  {
   "cell_type": "code",
   "execution_count": 269,
   "metadata": {},
   "outputs": [
    {
     "data": {
      "text/plain": [
       "[<keras.src.engine.functional.Functional at 0x7f8e27e6f3a0>,\n",
       " <spektral.layers.convolutional.ecc_conv.ECCConv at 0x7f8e35438ee0>,\n",
       " <spektral.layers.convolutional.ecc_conv.ECCConv at 0x7f8e27aa7b80>,\n",
       " <spektral.layers.pooling.global_pool.GlobalAvgPool at 0x7f8e2789df70>,\n",
       " <keras.src.layers.core.dense.Dense at 0x7f8e2789d1c0>,\n",
       " <keras.src.layers.core.dense.Dense at 0x7f8e27805490>]"
      ]
     },
     "execution_count": 269,
     "metadata": {},
     "output_type": "execute_result"
    }
   ],
   "source": [
    "model = Net()\n",
    "model.layers"
   ]
  },
  {
   "cell_type": "code",
   "execution_count": 270,
   "metadata": {},
   "outputs": [],
   "source": [
    "learning_rate = 1e-3\n",
    "optimizer = Adam(learning_rate)\n",
    "loss_fn = MeanSquaredError()\n",
    "\n",
    "# Train/valid/test split\n",
    "data = np.array(graph_data)\n",
    "idxs = np.random.permutation(len(data))\n",
    "split_va_te = int(0.90 * len(data))\n",
    "idx_tr, idx_va = np.split(idxs, [split_va_te])\n",
    "data_tr = data[idx_tr]\n",
    "data_va = data[idx_va]\n",
    "\n",
    "loader_tr = DisjointLoader(MyGraphDataset(data_tr), batch_size=batch_size, epochs=epochs)\n",
    "loader_va = DisjointLoader(MyGraphDataset(data_va), batch_size=1, epochs=1)"
   ]
  },
  {
   "cell_type": "code",
   "execution_count": 271,
   "metadata": {},
   "outputs": [],
   "source": [
    "# Fit model\n",
    "@tf.function(input_signature=loader_tr.tf_signature(), experimental_relax_shapes=True)\n",
    "def train_step(inputs, target):\n",
    "    with tf.GradientTape() as tape:\n",
    "        predictions = model(inputs, training=True)\n",
    "        loss = loss_fn(target, predictions) + sum(model.losses)\n",
    "    gradients = tape.gradient(loss, model.trainable_variables)\n",
    "    optimizer.apply_gradients(zip(gradients, model.trainable_variables))\n",
    "    return loss"
   ]
  },
  {
   "cell_type": "code",
   "execution_count": 272,
   "metadata": {},
   "outputs": [
    {
     "name": "stderr",
     "output_type": "stream",
     "text": [
      "/home/zwbai/miniconda3/envs/ocp-models2/lib/python3.9/site-packages/spektral/data/utils.py:221: UserWarning: you are shuffling a 'MyGraphDataset' object which is not a subclass of 'Sequence'; `shuffle` is not guaranteed to behave correctly. E.g., non-numpy array/tensor objects with view semantics may contain duplicates after shuffling.\n",
      "  np.random.shuffle(a)\n"
     ]
    },
    {
     "name": "stdout",
     "output_type": "stream",
     "text": [
      "Loss: 0.4085472524166107\n",
      "Loss: 0.13246572017669678\n",
      "Loss: 0.08712510019540787\n",
      "Loss: 0.06227037310600281\n",
      "Loss: 0.04281361401081085\n",
      "Loss: 0.035129815340042114\n",
      "Loss: 0.023739419877529144\n",
      "Loss: 0.016311291605234146\n",
      "Loss: 0.012919563800096512\n",
      "Loss: 0.011460291221737862\n",
      "Loss: 0.01112272683531046\n",
      "Loss: 0.009786988608539104\n",
      "Loss: 0.009685150347650051\n",
      "Loss: 0.008149402216076851\n",
      "Loss: 0.007752156816422939\n",
      "Loss: 0.007015972398221493\n",
      "Loss: 0.006522229872643948\n",
      "Loss: 0.006302741356194019\n",
      "Loss: 0.00617998605594039\n",
      "Loss: 0.006325980182737112\n",
      "Loss: 0.0061636921018362045\n",
      "Loss: 0.0062104505486786366\n",
      "Loss: 0.005982222501188517\n",
      "Loss: 0.005937258247286081\n",
      "Loss: 0.006085865665227175\n",
      "Loss: 0.006192995700985193\n",
      "Loss: 0.006073313299566507\n",
      "Loss: 0.005910628009587526\n",
      "Loss: 0.005863752216100693\n",
      "Loss: 0.006075917277485132\n",
      "Loss: 0.005861634388566017\n",
      "Loss: 0.0056861634366214275\n",
      "Loss: 0.005927486810833216\n",
      "Loss: 0.0058306483551859856\n",
      "Loss: 0.005982105154544115\n",
      "Loss: 0.005654860287904739\n",
      "Loss: 0.005915777757763863\n",
      "Loss: 0.00581952091306448\n",
      "Loss: 0.005957347806543112\n",
      "Loss: 0.005893093999475241\n"
     ]
    }
   ],
   "source": [
    "istrain = True\n",
    "if istrain:\n",
    "    step = loss = 0\n",
    "    for batch in loader_tr:\n",
    "        step += 1\n",
    "        loss += train_step(*batch)\n",
    "        if step == loader_tr.steps_per_epoch:\n",
    "            step = 0\n",
    "            print(\"Loss: {}\".format(loss / loader_tr.steps_per_epoch))\n",
    "            loss = 0\n",
    "    model.save_weights('./vasp_cal/model_weightas') # 保存GCN權重"
   ]
  },
  {
   "cell_type": "code",
   "execution_count": 273,
   "metadata": {},
   "outputs": [],
   "source": [
    "if istrain == False:\n",
    "    model.load_weights('./vasp_cal/model_weightas') # 加载GCN权重"
   ]
  },
  {
   "cell_type": "code",
   "execution_count": 274,
   "metadata": {},
   "outputs": [],
   "source": [
    "# Train/valid/test split\n",
    "data = np.array(graph_data)\n",
    "idxs = np.random.permutation(len(data))\n",
    "split_va_te = int(0.9 * len(data))\n",
    "idx_tr, idx_va = np.split(idxs, [split_va_te])\n",
    "data_tr = data[idx_tr]\n",
    "data_va = data[idx_va]\n",
    "\n",
    "# Data loaders\n",
    "loader_tr = DisjointLoader(MyGraphDataset(data_tr), batch_size=1, epochs=1)\n",
    "loader_va = DisjointLoader(MyGraphDataset(data_va), batch_size=1, epochs=1)"
   ]
  },
  {
   "cell_type": "code",
   "execution_count": 275,
   "metadata": {},
   "outputs": [],
   "source": [
    "# 对训练集进行预测\n",
    "predictions = []\n",
    "targets = []\n",
    "for batch in loader_tr:\n",
    "    output = model(batch[0], training=False)\n",
    "    predictions.append(output)\n",
    "    targets.append(batch[1])\n",
    "predictions = np.concatenate(predictions, axis=0)\n",
    "targets = np.concatenate(targets, axis=0)\n",
    "# 组合预测值和真实值\n",
    "data0 = np.concatenate([predictions, targets], axis=1)\n",
    "\n",
    "# 对测试集进行预测\n",
    "predictions = []\n",
    "targets = []\n",
    "for batch in loader_va:\n",
    "    output = model(batch[0], training=False)\n",
    "    predictions.append(output)\n",
    "    targets.append(batch[1])\n",
    "predictions = np.concatenate(predictions, axis=0)\n",
    "targets = np.concatenate(targets, axis=0)\n",
    "\n",
    "# 组合预测值和真实值\n",
    "data1 = np.concatenate([predictions, targets], axis=1)"
   ]
  },
  {
   "cell_type": "code",
   "execution_count": 276,
   "metadata": {},
   "outputs": [
    {
     "data": {
      "image/png": "[encoded data removed]",
      "text/plain": [
       "<Figure size 640x480 with 1 Axes>"
      ]
     },
     "metadata": {},
     "output_type": "display_data"
    }
   ],
   "source": [
    "# 画图\n",
    "plt.rcParams.update({\"font.size\": 18})\n",
    "\n",
    "plt.scatter(data0[:, 1], data0[:, 0], color=(1, 0.5, 0, 0.8), label=\"Train\")\n",
    "plt.scatter(data1[:, 1], data1[:, 0], color=(0, 0.5, 0, 0.5), label=\"Test\")\n",
    "\n",
    "plt.plot(\n",
    "    [min(data0[:, 1]), max(data0[:, 1])],\n",
    "    [min(data0[:, 1]), max(data0[:, 1])],\n",
    "    color=\"green\",\n",
    ")\n",
    "\n",
    "plt.xlabel(\"True E_ads(eV)\")\n",
    "plt.ylabel(\"Predicted E_ads(eV)\")\n",
    "plt.legend()\n",
    "plt.show()"
   ]
  },
  {
   "cell_type": "code",
   "execution_count": 277,
   "metadata": {},
   "outputs": [],
   "source": [
    "class FeatureExtraction(Model):\n",
    "    def __init__(self):\n",
    "        super().__init__()\n",
    "        self.share = shared_conv\n",
    "        self.conv1 = ECCConv(128, activation=\"relu\")\n",
    "        self.conv2 = ECCConv(128, activation=\"relu\")\n",
    "        # self.conv3 = ECCConv(128, activation=\"relu\")\n",
    "        self.global_pool = GlobalAvgPool()\n",
    "        self.dense0 = Dense(64)\n",
    "        self.dense = Dense(n_out)\n",
    "\n",
    "    def call(self, inputs):\n",
    "        x, a, e, i = inputs\n",
    "        x = tf.reshape(x, (-1, length, channels))\n",
    "        x = shared_conv(x)\n",
    "\n",
    "        x = self.conv1([x, a, e])\n",
    "        feature1 = x  # 保存第一层卷积的特征\n",
    "        x = self.conv2([x, a, e])\n",
    "        feature2 = x  # 保存第二层卷积的特征\n",
    "        output = self.global_pool([x, i])\n",
    "        output = tf.keras.layers.Flatten()(output)\n",
    "        output = self.dense0(output)\n",
    "        feature3 = output\n",
    "        output = self.dense(output)\n",
    "\n",
    "        return output, feature1, feature2, feature3  # 返回输出和需要提取的特征\\\n",
    "\n",
    "Model_feature = FeatureExtraction()"
   ]
  },
  {
   "cell_type": "code",
   "execution_count": 278,
   "metadata": {},
   "outputs": [],
   "source": [
    "def plot_feature(X_embedded, z):\n",
    "    dim = X_embedded.shape[1]\n",
    "    # 创建彩虹图的 colormap\n",
    "    cmap = plt.get_cmap(\"rainbow\")\n",
    "\n",
    "    # 创建彩虹图的 colormap\n",
    "    cmap = plt.get_cmap(\"viridis\")\n",
    "\n",
    "    # 设置合适的数值范围\n",
    "    vmin = np.min(z)\n",
    "    vmax = np.max(z)\n",
    "    fig = plt.figure()\n",
    "    \n",
    "    if dim == 1:\n",
    "        ax = fig.add_subplot()\n",
    "        ax.scatter(X_embedded[:, 0], z, c=z, cmap=cmap)\n",
    "        ax.set_xticks([])  # 移除y轴刻度\n",
    "    elif dim == 2:\n",
    "        ax = fig.add_subplot()\n",
    "        ax.scatter(X_embedded[:, 0], X_embedded[:, 1], c=z, cmap=cmap)\n",
    "        ax.set_xticks([])  # 移除x轴刻度\n",
    "        ax.set_yticks([])  # 移除y轴刻度\n",
    "    elif dim == 3:\n",
    "        ax = fig.add_subplot(111, projection='3d')\n",
    "        ax.scatter(X_embedded[:, 0], X_embedded[:, 1], X_embedded[:, 2], c=targets, cmap=cmap)\n",
    "        ax.set_xticks([])  # 移除x轴刻度\n",
    "        ax.set_yticks([])  # 移除y轴刻度\n",
    "        ax.set_zticks([])  # 移除z轴刻度\n",
    "\n",
    "    # ax.set_axis_off()  # 移除所有坐标轴刻度\n",
    "    \n",
    "    sm = plt.cm.ScalarMappable(cmap=cmap, norm=plt.Normalize(vmin=vmin, vmax=vmax))\n",
    "    sm.set_array([])  # 设置一个空数组，传递给 colorbar\n",
    "    cbar = plt.colorbar(sm, ax=ax)\n",
    "    cbar.set_label(\"Adsorption Energy (eV)\")\n",
    "    plt.show()"
   ]
  },
  {
   "cell_type": "code",
   "execution_count": 279,
   "metadata": {},
   "outputs": [],
   "source": [
    "# Data loaders\n",
    "loader_data = DisjointLoader(MyGraphDataset(data), batch_size=1, epochs=1)\n",
    "predictions, targets, feature1, feature2, feature3 = [], [], [], [], []\n",
    "for batch in loader_data:\n",
    "    output, f1, f2, f3 = Model_feature(batch[0], training=False)\n",
    "    predictions.append(output)\n",
    "    feature1.append(f1)\n",
    "    feature2.append(f2)\n",
    "    feature3.append(f3)\n",
    "    targets.append(batch[1])\n",
    "predictions = np.concatenate(predictions, axis=0)\n",
    "targets = np.concatenate(targets, axis=0)\n",
    "# 组合预测值和真实值\n",
    "data0 = np.concatenate([predictions, targets], axis=1)"
   ]
  },
  {
   "cell_type": "code",
   "execution_count": 280,
   "metadata": {},
   "outputs": [
    {
     "data": {
      "text/plain": [
       "(720, 1024)"
      ]
     },
     "execution_count": 280,
     "metadata": {},
     "output_type": "execute_result"
    }
   ],
   "source": [
    "fone = [f.numpy().reshape((1, -1))[0] for f in feature1]\n",
    "fone = np.array(fone)\n",
    "fone.shape"
   ]
  },
  {
   "cell_type": "code",
   "execution_count": 281,
   "metadata": {},
   "outputs": [],
   "source": [
    "X_embedded = TSNE(\n",
    "    n_components=2, learning_rate=\"auto\", init=\"random\", perplexity=3\n",
    ").fit_transform(fone)"
   ]
  },
  {
   "cell_type": "code",
   "execution_count": 282,
   "metadata": {},
   "outputs": [
    {
     "data": {
      "text/plain": [
       "(720, 64)"
      ]
     },
     "execution_count": 282,
     "metadata": {},
     "output_type": "execute_result"
    }
   ],
   "source": [
    "ftwo = [f.numpy().reshape((1, -1))[0] for f in feature2]\n",
    "ftwo = np.array(ftwo)\n",
    "ftwo.shape\n",
    "\n",
    "fthree = [f.numpy().reshape((1, -1))[0] for f in feature3]\n",
    "fthree = np.array(fthree)\n",
    "fthree.shape"
   ]
  },
  {
   "cell_type": "code",
   "execution_count": 283,
   "metadata": {},
   "outputs": [],
   "source": [
    "X_embedded = TSNE(\n",
    "    n_components=2, learning_rate=\"auto\", init=\"random\", perplexity=3\n",
    ").fit_transform(ftwo)"
   ]
  },
  {
   "cell_type": "code",
   "execution_count": 296,
   "metadata": {},
   "outputs": [
    {
     "data": {
      "image/png": "[encoded data removed]",
      "text/plain": [
       "<Figure size 640x480 with 2 Axes>"
      ]
     },
     "metadata": {},
     "output_type": "display_data"
    }
   ],
   "source": [
    "pca3 = PCA(n_components=3)\n",
    "X_embedded = pca3.fit_transform(fthree)\n",
    "plot_feature(X_embedded, targets)"
   ]
  },
  {
   "cell_type": "code",
   "execution_count": 304,
   "metadata": {},
   "outputs": [],
   "source": [
    "datatest = data[0].x[0].reshape((-1,5))\n",
    "x = "
   ]
  },
  {
   "cell_type": "code",
   "execution_count": 305,
   "metadata": {},
   "outputs": [
    {
     "data": {
      "text/plain": [
       "array([[0.0207, 0.0247, 0.0481, 0.0251, 0.0224],\n",
       "       [0.0213, 0.0253, 0.0483, 0.0258, 0.023 ],\n",
       "       [0.0218, 0.0259, 0.0486, 0.0265, 0.0236],\n",
       "       [0.0224, 0.0266, 0.0488, 0.0272, 0.0242],\n",
       "       [0.023 , 0.0274, 0.049 , 0.028 , 0.0249],\n",
       "       [0.0236, 0.0282, 0.0492, 0.0288, 0.0257],\n",
       "       [0.0242, 0.0291, 0.0495, 0.0297, 0.0265],\n",
       "       [0.0249, 0.0301, 0.0497, 0.0306, 0.0273],\n",
       "       [0.0257, 0.0311, 0.05  , 0.0316, 0.0283],\n",
       "       [0.0265, 0.0323, 0.0503, 0.0327, 0.0294],\n",
       "       [0.0274, 0.0335, 0.0506, 0.0339, 0.0305],\n",
       "       [0.0284, 0.0348, 0.051 , 0.0352, 0.0317],\n",
       "       [0.0295, 0.0361, 0.0514, 0.0365, 0.0329],\n",
       "       [0.0306, 0.0374, 0.0518, 0.0379, 0.0342],\n",
       "       [0.0319, 0.0388, 0.0523, 0.0394, 0.0354],\n",
       "       [0.0332, 0.0401, 0.0528, 0.0409, 0.0366],\n",
       "       [0.0345, 0.0413, 0.0532, 0.0424, 0.0378],\n",
       "       [0.0359, 0.0425, 0.0537, 0.0439, 0.0388],\n",
       "       [0.0373, 0.0437, 0.0542, 0.0454, 0.0397],\n",
       "       [0.0386, 0.0447, 0.0547, 0.047 , 0.0405],\n",
       "       [0.0399, 0.0457, 0.0551, 0.0485, 0.0411],\n",
       "       [0.0411, 0.0466, 0.0555, 0.05  , 0.0417],\n",
       "       [0.0421, 0.0474, 0.0558, 0.0514, 0.0421],\n",
       "       [0.0429, 0.0481, 0.0561, 0.0528, 0.0425],\n",
       "       [0.0436, 0.0487, 0.0564, 0.054 , 0.0428],\n",
       "       [0.0442, 0.0492, 0.0566, 0.055 , 0.0431],\n",
       "       [0.0445, 0.0496, 0.0568, 0.0559, 0.0435],\n",
       "       [0.0448, 0.0498, 0.057 , 0.0566, 0.044 ],\n",
       "       [0.045 , 0.05  , 0.0571, 0.0571, 0.0447],\n",
       "       [0.0452, 0.0501, 0.0572, 0.0574, 0.0458],\n",
       "       [0.0454, 0.0501, 0.0573, 0.0575, 0.0474],\n",
       "       [0.0458, 0.0502, 0.0574, 0.0575, 0.0495],\n",
       "       [0.0464, 0.0504, 0.0575, 0.0573, 0.0523],\n",
       "       [0.0474, 0.0507, 0.0577, 0.0571, 0.0559],\n",
       "       [0.0489, 0.0511, 0.0578, 0.0569, 0.0602],\n",
       "       [0.0511, 0.0517, 0.058 , 0.0568, 0.0652],\n",
       "       [0.0541, 0.0525, 0.0582, 0.0568, 0.0708],\n",
       "       [0.058 , 0.0533, 0.0585, 0.0571, 0.0767],\n",
       "       [0.0627, 0.0542, 0.0588, 0.0577, 0.0826],\n",
       "       [0.0683, 0.0551, 0.0591, 0.0585, 0.0882],\n",
       "       [0.0745, 0.056 , 0.0594, 0.0596, 0.0931],\n",
       "       [0.081 , 0.0567, 0.0597, 0.0608, 0.0972],\n",
       "       [0.0874, 0.0573, 0.06  , 0.0622, 0.1   ],\n",
       "       [0.0934, 0.0577, 0.0602, 0.0636, 0.1017],\n",
       "       [0.0986, 0.0579, 0.0605, 0.0648, 0.1022],\n",
       "       [0.1026, 0.058 , 0.0607, 0.0659, 0.1017],\n",
       "       [0.1053, 0.0579, 0.0608, 0.0667, 0.1002],\n",
       "       [0.1064, 0.0577, 0.061 , 0.0673, 0.098 ],\n",
       "       [0.1062, 0.0575, 0.0611, 0.0675, 0.0953],\n",
       "       [0.1047, 0.0572, 0.0613, 0.0675, 0.0924],\n",
       "       [0.1022, 0.057 , 0.0615, 0.0673, 0.0895],\n",
       "       [0.099 , 0.0568, 0.0618, 0.0669, 0.0869],\n",
       "       [0.0955, 0.0566, 0.0622, 0.0664, 0.0846],\n",
       "       [0.0918, 0.0566, 0.0627, 0.066 , 0.0831],\n",
       "       [0.0884, 0.0566, 0.0633, 0.0656, 0.0826],\n",
       "       [0.0855, 0.0568, 0.0642, 0.0652, 0.0834],\n",
       "       [0.0833, 0.0571, 0.0652, 0.065 , 0.0859],\n",
       "       [0.0821, 0.0575, 0.0665, 0.0648, 0.0905],\n",
       "       [0.0823, 0.058 , 0.068 , 0.0648, 0.0975],\n",
       "       [0.0842, 0.0586, 0.0698, 0.0649, 0.1074],\n",
       "       [0.0882, 0.0594, 0.0718, 0.0652, 0.1202],\n",
       "       [0.0946, 0.0603, 0.0741, 0.0657, 0.136 ],\n",
       "       [0.104 , 0.0613, 0.0767, 0.0663, 0.1547],\n",
       "       [0.1164, 0.0624, 0.0795, 0.0671, 0.1756],\n",
       "       [0.132 , 0.0635, 0.0825, 0.068 , 0.1981],\n",
       "       [0.1505, 0.0648, 0.0857, 0.0692, 0.2214],\n",
       "       [0.1715, 0.066 , 0.0891, 0.0705, 0.2443],\n",
       "       [0.1943, 0.0673, 0.0927, 0.0719, 0.2659],\n",
       "       [0.218 , 0.0686, 0.0963, 0.0734, 0.2854],\n",
       "       [0.2417, 0.0698, 0.0998, 0.0749, 0.3022],\n",
       "       [0.2642, 0.0709, 0.1034, 0.0763, 0.3161],\n",
       "       [0.285 , 0.072 , 0.1068, 0.0777, 0.3272],\n",
       "       [0.3034, 0.073 , 0.1101, 0.079 , 0.3358],\n",
       "       [0.3193, 0.074 , 0.1132, 0.0802, 0.3425],\n",
       "       [0.3328, 0.075 , 0.1162, 0.0813, 0.3479],\n",
       "       [0.3442, 0.0759, 0.119 , 0.0822, 0.3525],\n",
       "       [0.3541, 0.0768, 0.1218, 0.0832, 0.3568],\n",
       "       [0.363 , 0.0778, 0.1243, 0.0841, 0.361 ],\n",
       "       [0.3712, 0.0787, 0.1267, 0.0849, 0.3651],\n",
       "       [0.3789, 0.0796, 0.1288, 0.0858, 0.369 ],\n",
       "       [0.3862, 0.0805, 0.1307, 0.0866, 0.3722],\n",
       "       [0.3927, 0.0813, 0.1321, 0.0873, 0.3745],\n",
       "       [0.3982, 0.0819, 0.1331, 0.0879, 0.3754],\n",
       "       [0.4021, 0.0823, 0.1336, 0.0882, 0.3747],\n",
       "       [0.4042, 0.0825, 0.1335, 0.0882, 0.3722],\n",
       "       [0.404 , 0.0824, 0.1329, 0.0879, 0.3679],\n",
       "       [0.4015, 0.082 , 0.1317, 0.0873, 0.3619],\n",
       "       [0.3969, 0.0813, 0.1303, 0.0863, 0.3545],\n",
       "       [0.3904, 0.0805, 0.1286, 0.085 , 0.3461],\n",
       "       [0.3825, 0.0797, 0.1269, 0.0837, 0.3372],\n",
       "       [0.3738, 0.0789, 0.1254, 0.0823, 0.3282],\n",
       "       [0.365 , 0.0785, 0.1245, 0.0811, 0.3198],\n",
       "       [0.3567, 0.0785, 0.1242, 0.0804, 0.3124],\n",
       "       [0.3495, 0.0792, 0.1247, 0.0802, 0.3065],\n",
       "       [0.3439, 0.0806, 0.1263, 0.0808, 0.3023],\n",
       "       [0.3403, 0.0827, 0.129 , 0.0823, 0.3001],\n",
       "       [0.3388, 0.0856, 0.1327, 0.0847, 0.2999],\n",
       "       [0.3395, 0.0892, 0.1374, 0.088 , 0.3017],\n",
       "       [0.3422, 0.0932, 0.1429, 0.0921, 0.3052],\n",
       "       [0.3467, 0.0974, 0.149 , 0.0966, 0.3101],\n",
       "       [0.3526, 0.1015, 0.1554, 0.1015, 0.3161],\n",
       "       [0.3593, 0.1053, 0.1618, 0.1063, 0.3226],\n",
       "       [0.3663, 0.1085, 0.168 , 0.1108, 0.3292],\n",
       "       [0.3732, 0.1109, 0.1738, 0.1146, 0.3357],\n",
       "       [0.3797, 0.1123, 0.1789, 0.1176, 0.3418],\n",
       "       [0.3852, 0.1128, 0.1832, 0.1197, 0.3471],\n",
       "       [0.3897, 0.1124, 0.1867, 0.1207, 0.3517],\n",
       "       [0.3932, 0.1112, 0.1893, 0.1209, 0.3555],\n",
       "       [0.3955, 0.1094, 0.1911, 0.1202, 0.3585],\n",
       "       [0.3969, 0.1072, 0.1921, 0.1188, 0.3607],\n",
       "       [0.3975, 0.1048, 0.1924, 0.117 , 0.3624],\n",
       "       [0.3976, 0.1025, 0.1922, 0.115 , 0.3635],\n",
       "       [0.3975, 0.1004, 0.1917, 0.113 , 0.3642],\n",
       "       [0.3973, 0.0987, 0.1909, 0.1112, 0.3646],\n",
       "       [0.3972, 0.0976, 0.1902, 0.1098, 0.3649],\n",
       "       [0.3974, 0.097 , 0.1897, 0.1089, 0.3652],\n",
       "       [0.3978, 0.0972, 0.1897, 0.1087, 0.3654],\n",
       "       [0.3982, 0.0983, 0.1904, 0.1094, 0.3656],\n",
       "       [0.3987, 0.1005, 0.1919, 0.111 , 0.3659],\n",
       "       [0.3989, 0.1041, 0.1944, 0.1138, 0.3661],\n",
       "       [0.3988, 0.1095, 0.1979, 0.1182, 0.3662],\n",
       "       [0.3981, 0.1171, 0.2025, 0.1244, 0.3663],\n",
       "       [0.3968, 0.1275, 0.2081, 0.1329, 0.3663],\n",
       "       [0.3951, 0.141 , 0.2147, 0.1441, 0.3663],\n",
       "       [0.3932, 0.1578, 0.2222, 0.1583, 0.3667],\n",
       "       [0.3916, 0.1778, 0.2307, 0.1756, 0.3679],\n",
       "       [0.3911, 0.2008, 0.2401, 0.196 , 0.3703],\n",
       "       [0.3925, 0.2259, 0.2503, 0.2191, 0.3747],\n",
       "       [0.3966, 0.2521, 0.2614, 0.2441, 0.3814],\n",
       "       [0.4041, 0.2779, 0.2731, 0.2699, 0.3909],\n",
       "       [0.4152, 0.3018, 0.2853, 0.2951, 0.4031],\n",
       "       [0.4295, 0.3224, 0.2977, 0.3182, 0.4175],\n",
       "       [0.4461, 0.3382, 0.31  , 0.3377, 0.4331],\n",
       "       [0.4634, 0.3483, 0.3216, 0.3523, 0.4483],\n",
       "       [0.4795, 0.3523, 0.3321, 0.3611, 0.4612],\n",
       "       [0.4922, 0.3501, 0.3411, 0.3638, 0.47  ],\n",
       "       [0.4998, 0.3424, 0.3484, 0.3607, 0.4732],\n",
       "       [0.501 , 0.3304, 0.3539, 0.3524, 0.4699],\n",
       "       [0.4953, 0.3157, 0.3578, 0.3404, 0.4598],\n",
       "       [0.4834, 0.2999, 0.3605, 0.3264, 0.4437],\n",
       "       [0.4663, 0.2849, 0.3625, 0.3119, 0.4231],\n",
       "       [0.446 , 0.2722, 0.3641, 0.2989, 0.4001],\n",
       "       [0.4244, 0.2631, 0.3658, 0.2885, 0.3766],\n",
       "       [0.4035, 0.2584, 0.3679, 0.2819, 0.3548],\n",
       "       [0.3848, 0.2582, 0.3705, 0.2795, 0.3363],\n",
       "       [0.3693, 0.2625, 0.3737, 0.2812, 0.3221],\n",
       "       [0.3574, 0.2707, 0.3774, 0.2866, 0.3127],\n",
       "       [0.349 , 0.282 , 0.3813, 0.2952, 0.3081],\n",
       "       [0.3437, 0.2957, 0.3853, 0.3061, 0.3079],\n",
       "       [0.3408, 0.311 , 0.3893, 0.3186, 0.3114],\n",
       "       [0.3397, 0.3269, 0.393 , 0.3321, 0.3179],\n",
       "       [0.3398, 0.3428, 0.3964, 0.3462, 0.3265],\n",
       "       [0.3406, 0.3579, 0.3993, 0.3605, 0.3363],\n",
       "       [0.3419, 0.3712, 0.4018, 0.3748, 0.3466],\n",
       "       [0.3435, 0.3821, 0.4036, 0.3886, 0.3566],\n",
       "       [0.3451, 0.3895, 0.4046, 0.4015, 0.3655],\n",
       "       [0.3467, 0.3929, 0.4047, 0.4127, 0.3727],\n",
       "       [0.3481, 0.3916, 0.4038, 0.4214, 0.3776],\n",
       "       [0.3489, 0.3857, 0.4017, 0.4266, 0.3797],\n",
       "       [0.3488, 0.3754, 0.3985, 0.4275, 0.3788],\n",
       "       [0.3477, 0.3613, 0.3941, 0.4236, 0.375 ],\n",
       "       [0.3451, 0.3446, 0.3889, 0.4147, 0.3687],\n",
       "       [0.341 , 0.3265, 0.3829, 0.4012, 0.3605],\n",
       "       [0.3355, 0.3086, 0.3764, 0.384 , 0.3515],\n",
       "       [0.3289, 0.2921, 0.3699, 0.3645, 0.3429],\n",
       "       [0.3218, 0.2783, 0.3637, 0.3441, 0.3359],\n",
       "       [0.3149, 0.2681, 0.3581, 0.3247, 0.3317],\n",
       "       [0.3092, 0.262 , 0.3535, 0.3077, 0.3312],\n",
       "       [0.3055, 0.2602, 0.3501, 0.2946, 0.335 ],\n",
       "       [0.3046, 0.2626, 0.3482, 0.2862, 0.343 ],\n",
       "       [0.307 , 0.2686, 0.348 , 0.283 , 0.3548],\n",
       "       [0.3127, 0.2775, 0.3493, 0.2849, 0.3697],\n",
       "       [0.3215, 0.2883, 0.3523, 0.2914, 0.3864],\n",
       "       [0.3327, 0.3002, 0.3567, 0.3018, 0.4037],\n",
       "       [0.3454, 0.312 , 0.3624, 0.3151, 0.4205],\n",
       "       [0.3586, 0.3229, 0.3692, 0.3301, 0.4359],\n",
       "       [0.3712, 0.3323, 0.3767, 0.3456, 0.4496],\n",
       "       [0.3825, 0.3395, 0.3851, 0.3607, 0.4614],\n",
       "       [0.3921, 0.3446, 0.394 , 0.3746, 0.4718],\n",
       "       [0.3998, 0.3475, 0.4037, 0.3867, 0.4816],\n",
       "       [0.4061, 0.3488, 0.4145, 0.3968, 0.4916],\n",
       "       [0.4116, 0.349 , 0.4266, 0.4049, 0.5028],\n",
       "       [0.4171, 0.349 , 0.4408, 0.4114, 0.5161],\n",
       "       [0.4232, 0.3497, 0.4576, 0.4168, 0.5321],\n",
       "       [0.4309, 0.3521, 0.4781, 0.4216, 0.5512],\n",
       "       [0.4405, 0.3569, 0.503 , 0.4265, 0.5734],\n",
       "       [0.4525, 0.3647, 0.5332, 0.4321, 0.5983],\n",
       "       [0.4667, 0.3759, 0.5696, 0.4388, 0.6255],\n",
       "       [0.4832, 0.3904, 0.6127, 0.447 , 0.6539],\n",
       "       [0.5015, 0.4078, 0.6625, 0.4568, 0.6825],\n",
       "       [0.5213, 0.4274, 0.7189, 0.4683, 0.7099],\n",
       "       [0.5418, 0.4484, 0.7807, 0.4812, 0.7347],\n",
       "       [0.5624, 0.4694, 0.8466, 0.4952, 0.7557],\n",
       "       [0.5822, 0.4895, 0.9143, 0.5099, 0.7715],\n",
       "       [0.6005, 0.5076, 0.9813, 0.5245, 0.7815],\n",
       "       [0.6164, 0.5227, 1.0449, 0.5386, 0.785 ],\n",
       "       [0.6292, 0.5344, 1.1022, 0.5515, 0.7823],\n",
       "       [0.6383, 0.5424, 1.1506, 0.5627, 0.7738],\n",
       "       [0.6436, 0.5467, 1.1881, 0.5716, 0.7607],\n",
       "       [0.6449, 0.5476, 1.2131, 0.5781, 0.7444],\n",
       "       [0.6426, 0.5456, 1.2248, 0.582 , 0.7268],\n",
       "       [0.6373, 0.5414, 1.223 , 0.5833, 0.7101],\n",
       "       [0.6297, 0.5358, 1.2082, 0.5822, 0.6966],\n",
       "       [0.621 , 0.5297, 1.1816, 0.5792, 0.6885],\n",
       "       [0.6121, 0.5241, 1.1449, 0.575 , 0.688 ],\n",
       "       [0.6044, 0.5203, 1.1003, 0.5706, 0.6967],\n",
       "       [0.5992, 0.5194, 1.05  , 0.567 , 0.716 ],\n",
       "       [0.5976, 0.523 , 0.9967, 0.5658, 0.7465],\n",
       "       [0.6009, 0.5324, 0.9429, 0.5685, 0.7879],\n",
       "       [0.6103, 0.549 , 0.8909, 0.5766, 0.8392],\n",
       "       [0.6264, 0.574 , 0.8425, 0.5915, 0.8985],\n",
       "       [0.6498, 0.608 , 0.799 , 0.6139, 0.9631],\n",
       "       [0.68  , 0.6512, 0.7613, 0.6443, 1.0294],\n",
       "       [0.7163, 0.7028, 0.7294, 0.6822, 1.0938],\n",
       "       [0.757 , 0.7612, 0.703 , 0.7264, 1.1526],\n",
       "       [0.8001, 0.8239, 0.6812, 0.7749, 1.2022],\n",
       "       [0.8434, 0.888 , 0.6629, 0.8255, 1.2403],\n",
       "       [0.8844, 0.9501, 0.647 , 0.8757, 1.2655],\n",
       "       [0.9213, 1.0073, 0.6324, 0.9232, 1.2777],\n",
       "       [0.9526, 1.0567, 0.6183, 0.9661, 1.2782],\n",
       "       [0.9778, 1.0965, 0.6042, 1.0033, 1.2694],\n",
       "       [0.9967, 1.1256, 0.5899, 1.034 , 1.2539],\n",
       "       [1.0097, 1.1434, 0.5755, 1.0579, 1.2347],\n",
       "       [1.0176, 1.1504, 0.5611, 1.075 , 1.2138],\n",
       "       [1.021 , 1.1472, 0.5471, 1.0854, 1.1925],\n",
       "       [1.0204, 1.1346, 0.5334, 1.0889, 1.1706],\n",
       "       [1.016 , 1.1135, 0.5203, 1.0851, 1.1474],\n",
       "       [1.0083, 1.085 , 0.5076, 1.0738, 1.121 ],\n",
       "       [0.9975, 1.0501, 0.4952, 1.0547, 1.0899],\n",
       "       [0.9843, 1.0101, 0.483 , 1.028 , 1.0528],\n",
       "       [0.9696, 0.9663, 0.4708, 0.9944, 1.0094],\n",
       "       [0.9549, 0.9206, 0.4589, 0.9555, 0.9603],\n",
       "       [0.9416, 0.875 , 0.4475, 0.9133, 0.9074],\n",
       "       [0.9312, 0.8316, 0.4372, 0.8707, 0.8534],\n",
       "       [0.925 , 0.7927, 0.4285, 0.8302, 0.8013],\n",
       "       [0.9235, 0.7602, 0.4219, 0.7945, 0.7541],\n",
       "       [0.9266, 0.7355, 0.4178, 0.7655, 0.7141],\n",
       "       [0.9335, 0.7194, 0.4168, 0.7445, 0.6828],\n",
       "       [0.9427, 0.7121, 0.4187, 0.7315, 0.6605],\n",
       "       [0.9522, 0.713 , 0.4237, 0.7262, 0.6468],\n",
       "       [0.9602, 0.7209, 0.4316, 0.7272, 0.64  ],\n",
       "       [0.9648, 0.7343, 0.4421, 0.7331, 0.6382],\n",
       "       [0.9649, 0.7514, 0.455 , 0.7423, 0.639 ],\n",
       "       [0.9596, 0.7706, 0.4701, 0.7534, 0.6402],\n",
       "       [0.9486, 0.7904, 0.4869, 0.7656, 0.64  ],\n",
       "       [0.932 , 0.8098, 0.5052, 0.7781, 0.6368],\n",
       "       [0.9102, 0.8277, 0.5244, 0.7908, 0.63  ],\n",
       "       [0.8837, 0.8437, 0.5438, 0.8034, 0.6191],\n",
       "       [0.8531, 0.857 , 0.5626, 0.8157, 0.6043],\n",
       "       [0.819 , 0.8674, 0.5798, 0.8273, 0.5862],\n",
       "       [0.7819, 0.8742, 0.5945, 0.8376, 0.5658],\n",
       "       [0.7426, 0.877 , 0.6059, 0.8458, 0.5439],\n",
       "       [0.7019, 0.8756, 0.6132, 0.8509, 0.5217],\n",
       "       [0.6608, 0.87  , 0.6162, 0.8522, 0.5002],\n",
       "       [0.6205, 0.8604, 0.6149, 0.8494, 0.4804],\n",
       "       [0.5821, 0.8475, 0.6099, 0.8425, 0.4629],\n",
       "       [0.5466, 0.8324, 0.6021, 0.832 , 0.4485],\n",
       "       [0.5152, 0.8163, 0.5924, 0.8191, 0.4375],\n",
       "       [0.4884, 0.8008, 0.5823, 0.8052, 0.4302],\n",
       "       [0.4669, 0.7871, 0.5728, 0.7918, 0.4268],\n",
       "       [0.4508, 0.7769, 0.565 , 0.7806, 0.4274],\n",
       "       [0.4402, 0.7711, 0.5595, 0.7729, 0.4318],\n",
       "       [0.435 , 0.7706, 0.5567, 0.7696, 0.4397],\n",
       "       [0.4348, 0.7762, 0.5567, 0.7711, 0.4507],\n",
       "       [0.4393, 0.7879, 0.5592, 0.7774, 0.4643],\n",
       "       [0.4481, 0.8057, 0.5638, 0.7883, 0.4795],\n",
       "       [0.4606, 0.8293, 0.5698, 0.8028, 0.4954],\n",
       "       [0.4761, 0.8577, 0.5765, 0.8202, 0.511 ],\n",
       "       [0.4939, 0.8899, 0.5834, 0.8394, 0.5252],\n",
       "       [0.5128, 0.9244, 0.5898, 0.8596, 0.5371],\n",
       "       [0.5318, 0.9596, 0.5953, 0.88  , 0.546 ],\n",
       "       [0.5499, 0.9937, 0.5997, 0.9002, 0.5514],\n",
       "       [0.566 , 1.0253, 0.6028, 0.92  , 0.5534],\n",
       "       [0.5793, 1.0531, 0.6048, 0.9396, 0.5521],\n",
       "       [0.5893, 1.0766, 0.6059, 0.9592, 0.5482],\n",
       "       [0.5957, 1.0956, 0.6064, 0.9791, 0.5422],\n",
       "       [0.5986, 1.1106, 0.6066, 0.9998, 0.5349],\n",
       "       [0.5984, 1.1225, 0.6069, 1.0212, 0.5272],\n",
       "       [0.5957, 1.1324, 0.6076, 1.0431, 0.5196],\n",
       "       [0.5912, 1.1415, 0.6089, 1.065 , 0.5127],\n",
       "       [0.5855, 1.1505, 0.6108, 1.0863, 0.5068],\n",
       "       [0.5793, 1.1601, 0.6137, 1.1063, 0.5022],\n",
       "       [0.5733, 1.1707, 0.6173, 1.1243, 0.4988],\n",
       "       [0.5679, 1.1822, 0.622 , 1.1402, 0.4968],\n",
       "       [0.5635, 1.1945, 0.6276, 1.154 , 0.496 ],\n",
       "       [0.5605, 1.2074, 0.6342, 1.1661, 0.4961],\n",
       "       [0.5589, 1.2207, 0.6419, 1.177 , 0.4971],\n",
       "       [0.5587, 1.2342, 0.6507, 1.1872, 0.4988],\n",
       "       [0.5598, 1.2479, 0.6606, 1.1972, 0.5008],\n",
       "       [0.5618, 1.2616, 0.6716, 1.2071, 0.5032],\n",
       "       [0.5646, 1.2752, 0.6836, 1.2165, 0.5057],\n",
       "       [0.5677, 1.2884, 0.6968, 1.2253, 0.5083],\n",
       "       [0.5709, 1.3009, 0.711 , 1.2327, 0.5109],\n",
       "       [0.574 , 1.3125, 0.7265, 1.2384, 0.5136],\n",
       "       [0.5769, 1.3226, 0.7434, 1.242 , 0.5165],\n",
       "       [0.5796, 1.3308, 0.7617, 1.2434, 0.5195],\n",
       "       [0.5823, 1.3369, 0.7816, 1.2426, 0.5227],\n",
       "       [0.585 , 1.3403, 0.8031, 1.2401, 0.526 ],\n",
       "       [0.588 , 1.3409, 0.8262, 1.2361, 0.5294],\n",
       "       [0.5912, 1.3386, 0.8509, 1.2311, 0.5326],\n",
       "       [0.5947, 1.3331, 0.8768, 1.2254, 0.5353],\n",
       "       [0.5984, 1.3249, 0.9036, 1.2193, 0.5372],\n",
       "       [0.602 , 1.3141, 0.9311, 1.2131, 0.5379],\n",
       "       [0.6053, 1.3013, 0.9586, 1.2069, 0.5372],\n",
       "       [0.608 , 1.2873, 0.9855, 1.2006, 0.5348],\n",
       "       [0.6097, 1.2727, 1.0112, 1.1943, 0.5307],\n",
       "       [0.6099, 1.258 , 1.035 , 1.1878, 0.5247],\n",
       "       [0.6086, 1.2437, 1.0562, 1.1809, 0.5171],\n",
       "       [0.6053, 1.2301, 1.0743, 1.1734, 0.508 ],\n",
       "       [0.6001, 1.2172, 1.0892, 1.1652, 0.4978],\n",
       "       [0.5929, 1.2047, 1.1014, 1.1561, 0.4869],\n",
       "       [0.5841, 1.1926, 1.1116, 1.1461, 0.4757],\n",
       "       [0.5739, 1.1809, 1.1213, 1.1355, 0.4648],\n",
       "       [0.5631, 1.1696, 1.1324, 1.1248, 0.4549],\n",
       "       [0.5522, 1.1593, 1.1472, 1.1147, 0.4465],\n",
       "       [0.5422, 1.1507, 1.168 , 1.1061, 0.4403],\n",
       "       [0.5339, 1.1449, 1.1966, 1.1003, 0.437 ],\n",
       "       [0.5282, 1.1431, 1.2346, 1.0984, 0.4374],\n",
       "       [0.5261, 1.1468, 1.2822, 1.1014, 0.442 ],\n",
       "       [0.5284, 1.157 , 1.3387, 1.1106, 0.4513],\n",
       "       [0.5357, 1.1747, 1.4019, 1.1267, 0.4658],\n",
       "       [0.5485, 1.2   , 1.4686, 1.15  , 0.4855],\n",
       "       [0.5672, 1.2325, 1.5346, 1.1808, 0.5104],\n",
       "       [0.5917, 1.2708, 1.5956, 1.2185, 0.5401],\n",
       "       [0.6217, 1.3128, 1.6474, 1.2617, 0.5739],\n",
       "       [0.6566, 1.3553, 1.6867, 1.3088, 0.6107],\n",
       "       [0.6952, 1.3945, 1.7113, 1.3568, 0.6494],\n",
       "       [0.7365, 1.4262, 1.7205, 1.4023, 0.6886],\n",
       "       [0.7788, 1.446 , 1.7151, 1.4413, 0.7271],\n",
       "       [0.8207, 1.4502, 1.6967, 1.4695, 0.7636],\n",
       "       [0.8606, 1.4358, 1.6676, 1.483 , 0.7972],\n",
       "       [0.897 , 1.4014, 1.6301, 1.4783, 0.8272],\n",
       "       [0.9289, 1.3468, 1.5863, 1.4532, 0.8532],\n",
       "       [0.9553, 1.2739, 1.5376, 1.407 , 0.8753],\n",
       "       [0.9759, 1.1857, 1.4849, 1.3408, 0.8937],\n",
       "       [0.9905, 1.0865, 1.4283, 1.2572, 0.9089],\n",
       "       [0.9993, 0.9812, 1.3678, 1.16  , 0.9214],\n",
       "       [1.0029, 0.8746, 1.3031, 1.054 , 0.9317],\n",
       "       [1.0017, 0.7709, 1.2339, 0.9441, 0.9399],\n",
       "       [0.9962, 0.6735, 1.1602, 0.8348, 0.9461],\n",
       "       [0.987 , 0.5847, 1.0824, 0.73  , 0.9503],\n",
       "       [0.9744, 0.5057, 1.0012, 0.6325, 0.9519],\n",
       "       [0.9588, 0.4366, 0.9176, 0.544 , 0.9506],\n",
       "       [0.9404, 0.377 , 0.833 , 0.4654, 0.9458],\n",
       "       [0.9195, 0.3258, 0.7487, 0.3965, 0.9371],\n",
       "       [0.8964, 0.2819, 0.6663, 0.337 , 0.9243],\n",
       "       [0.8716, 0.2443, 0.5874, 0.2858, 0.9073],\n",
       "       [0.8453, 0.2119, 0.5133, 0.2423, 0.8865],\n",
       "       [0.8181, 0.1839, 0.4452, 0.2053, 0.8624],\n",
       "       [0.7904, 0.1597, 0.3839, 0.174 , 0.8357],\n",
       "       [0.7623, 0.1387, 0.33  , 0.1478, 0.8073],\n",
       "       [0.7341, 0.1208, 0.2836, 0.1259, 0.778 ],\n",
       "       [0.7057, 0.1054, 0.2445, 0.1078, 0.7485],\n",
       "       [0.6767, 0.0924, 0.2122, 0.0929, 0.719 ],\n",
       "       [0.647 , 0.0815, 0.1862, 0.0807, 0.6899],\n",
       "       [0.6159, 0.0724, 0.1656, 0.0709, 0.6608],\n",
       "       [0.5832, 0.0649, 0.1494, 0.0629, 0.6314],\n",
       "       [0.5486, 0.0587, 0.137 , 0.0564, 0.6012],\n",
       "       [0.512 , 0.0535, 0.1274, 0.0512, 0.5695],\n",
       "       [0.4738, 0.0493, 0.1201, 0.047 , 0.536 ],\n",
       "       [0.4344, 0.0457, 0.1143, 0.0435, 0.5003],\n",
       "       [0.3946, 0.0427, 0.1097, 0.0406, 0.4628],\n",
       "       [0.3553, 0.0401, 0.1058, 0.0382, 0.4236],\n",
       "       [0.3174, 0.0379, 0.1025, 0.0361, 0.3837],\n",
       "       [0.2819, 0.0359, 0.0996, 0.0343, 0.344 ],\n",
       "       [0.2494, 0.0342, 0.0968, 0.0326, 0.3055],\n",
       "       [0.2206, 0.0326, 0.0943, 0.0311, 0.2693],\n",
       "       [0.1957, 0.0312, 0.0918, 0.0298, 0.2362],\n",
       "       [0.1747, 0.0299, 0.0895, 0.0285, 0.2069],\n",
       "       [0.1574, 0.0287, 0.0873, 0.0274, 0.1817],\n",
       "       [0.1434, 0.0276, 0.0852, 0.0263, 0.1605],\n",
       "       [0.1323, 0.0266, 0.0833, 0.0254, 0.1433],\n",
       "       [0.1236, 0.0256, 0.0815, 0.0245, 0.1297],\n",
       "       [0.1167, 0.0248, 0.0799, 0.0238, 0.119 ],\n",
       "       [0.1114, 0.024 , 0.0784, 0.0231, 0.1108],\n",
       "       [0.1071, 0.0233, 0.0772, 0.0226, 0.1045],\n",
       "       [0.1037, 0.0228, 0.076 , 0.0221, 0.0996],\n",
       "       [0.1009, 0.0223, 0.0751, 0.0218, 0.0959],\n",
       "       [0.0987, 0.0218, 0.0742, 0.0215, 0.0929],\n",
       "       [0.0967, 0.0215, 0.0735, 0.0212, 0.0905],\n",
       "       [0.0951, 0.0212, 0.0729, 0.021 , 0.0885],\n",
       "       [0.0937, 0.021 , 0.0724, 0.0209, 0.0869],\n",
       "       [0.0925, 0.0208, 0.0719, 0.0208, 0.0854],\n",
       "       [0.0914, 0.0207, 0.0715, 0.0207, 0.0842],\n",
       "       [0.0904, 0.0206, 0.0712, 0.0206, 0.0832],\n",
       "       [0.0896, 0.0205, 0.0709, 0.0206, 0.0823],\n",
       "       [0.0888, 0.0204, 0.0706, 0.0206, 0.0816],\n",
       "       [0.0881, 0.0204, 0.0703, 0.0205, 0.0809],\n",
       "       [0.0874, 0.0204, 0.0701, 0.0205, 0.0803],\n",
       "       [0.0868, 0.0203, 0.0699, 0.0205, 0.0797],\n",
       "       [0.0862, 0.0203, 0.0697, 0.0205, 0.0792],\n",
       "       [0.0856, 0.0203, 0.0694, 0.0204, 0.0787],\n",
       "       [0.0851, 0.0203, 0.0692, 0.0204, 0.0782],\n",
       "       [0.0845, 0.0203, 0.069 , 0.0204, 0.0777],\n",
       "       [0.084 , 0.0203, 0.0688, 0.0204, 0.0772],\n",
       "       [0.0835, 0.0203, 0.0686, 0.0203, 0.0767],\n",
       "       [0.083 , 0.0202, 0.0683, 0.0203, 0.0762],\n",
       "       [0.0826, 0.0202, 0.0681, 0.0203, 0.0758],\n",
       "       [0.0821, 0.0202, 0.0678, 0.0202, 0.0753],\n",
       "       [0.0816, 0.0201, 0.0674, 0.0202, 0.0748]])"
      ]
     },
     "execution_count": 305,
     "metadata": {},
     "output_type": "execute_result"
    }
   ],
   "source": [
    "datatest"
   ]
  }
 ],
 "metadata": {
  "kernelspec": {
   "display_name": "ocp-models",
   "language": "python",
   "name": "python3"
  },
  "language_info": {
   "codemirror_mode": {
    "name": "ipython",
    "version": 3
   },
   "file_extension": ".py",
   "mimetype": "text/x-python",
   "name": "python",
   "nbconvert_exporter": "python",
   "pygments_lexer": "ipython3",
   "version": "3.9.18"
  }
 },
 "nbformat": 4,
 "nbformat_minor": 2
}
