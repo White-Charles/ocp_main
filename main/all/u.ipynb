{
 "cells": [
  {
   "cell_type": "code",
   "execution_count": 10,
   "metadata": {},
   "outputs": [],
   "source": [
    "import numpy as np\n",
    "import networkx as nx\n",
    "import random\n",
    "import matplotlib.pyplot as plt\n",
    "from matplotlib import animation"
   ]
  },
  {
   "cell_type": "code",
   "execution_count": null,
   "metadata": {},
   "outputs": [
    {
     "data": {
      "text/plain": [
       "(534, 60)"
      ]
     },
     "metadata": {},
     "output_type": "display_data"
    }
   ],
   "source": [
    "with open(GNN_data_dict, \"rb\") as file:\n",
    "    GNN_data_d = pickle.load(file)\n",
    "\n",
    "GNN_data_list = []\n",
    "# 遍历字典中的每个键值对\n",
    "for key, value_list in GNN_data_d.items():\n",
    "    # 将当前键的列表扩展到合并后的列表中\n",
    "    GNN_data_list.extend(value_list)\n",
    "# 打印合并后的列表\n",
    "\n",
    "train_data, test_data = train_test_split(GNN_data_list, test_size=0.1)\n",
    "len(train_data), len(test_data),"
   ]
  },
  {
   "cell_type": "code",
   "execution_count": null,
   "metadata": {},
   "outputs": [
    {
     "data": {
      "text/plain": [
       "Data(pos=[114, 3], cell=[1, 3, 3], atomic_numbers=[114], natoms=114, tags=[114], edge_index=[2, 5547], cell_offsets=[5547, 3], force=[114, 3], fixed=[114], y_init=-0.19955779999996714, y_relaxed=-0.3541478000000087, pos_relaxed=[114, 3])"
      ]
     },
     "metadata": {},
     "output_type": "display_data"
    }
   ],
   "source": [
    "test_data[0]"
   ]
  },
  {
   "cell_type": "code",
   "execution_count": null,
   "metadata": {},
   "outputs": [],
   "source": [
    "a2g_test = AtomsToGraphs(\n",
    "    max_neigh=12,  # 设置每个原子最多与多少个相邻的原子建立联系。\n",
    "    radius=2,  # 设置建立相邻原子之间边的最大距离。在此半径内的原子将被视为相邻原子。\n",
    "    r_energy=True,  # False for test data 设置是否将能量作为节点特征添加到图中，默认为True，表示将能量添加到图中。\n",
    "    r_forces=True,  # 设置是否将力作为节点特征添加到图中，默认为True，表示将力添加到图中。\n",
    "    r_distances=False,  # 设置是否将原子之间的距离作为特征添加到图中，默认为False，表示不添加距离特征。\n",
    "    r_fixed=True,  # 设置是否将固定性作为节点特征添加到图中，默认为True，表示将固定性添加到图中\n",
    ")"
   ]
  },
  {
   "cell_type": "code",
   "execution_count": null,
   "metadata": {},
   "outputs": [],
   "source": [
    "import networkx as nx\n",
    "import torch_geometric\n",
    "\n",
    "import matplotlib\n",
    "import matplotlib.pyplot as plt\n",
    "from matplotlib import colors as m2colors\n",
    "\n",
    "\n",
    "mcolors = dict(m2colors.BASE_COLORS, **m2colors.CSS4_COLORS)\n",
    "\n",
    "\n",
    "def plot_atom_graph(data_obj):\n",
    "    \"\"\"\n",
    "    visualize atomic graph (useful for verifying type / number of elements, size of graph)\n",
    "    \"\"\"\n",
    "\n",
    "    fig = plt.figure()\n",
    "    ax = fig.add_subplot(111, projection='3d')\n",
    "\n",
    "    node_labels = [str(int(i)) for i in data_obj.atomic_numbers.numpy()]\n",
    "    # print(node_labels)\n",
    "    g = torch_geometric.utils.to_networkx(\n",
    "        data_obj, to_undirected=True, node_attrs=[\"atomic_numbers\"]\n",
    "    )\n",
    "\n",
    "    carac = pd.DataFrame(\n",
    "        {\n",
    "            \"ID\": np.arange(len(node_labels)),\n",
    "            \"type\": data_obj.atomic_numbers.numpy(),\n",
    "            \"size\": data_obj.atomic_numbers.numpy(),\n",
    "        }\n",
    "    )  # / np.amax(data_obj.atomic_numbers.numpy())\n",
    "\n",
    "    carac = carac.set_index(\"ID\")\n",
    "    carac = carac.reindex(g.nodes())\n",
    "    carac[\"type\"] = pd.Categorical(carac[\"type\"])\n",
    "    \n",
    "    color_list = [\n",
    "    (1.0, 0.0, 0.0),  # 红色\n",
    "    (0.0, 1.0, 0.0),  # 绿色\n",
    "    (0.0, 0.0, 1.0),  # 蓝色\n",
    "    (0.5, 0.0, 0.5),  # 紫色\n",
    "    (1.0, 1.0, 0.0),  # 黄色\n",
    "    (0.5, 0.5, 0.5),  # 灰色\n",
    "    (1.0, 0.647, 0.0) # 橙色\n",
    "    ]\n",
    "    \n",
    "    # 使用RGB颜色列表创建ListedColormap对象\n",
    "    cmap = matplotlib.colors.ListedColormap(color_list)\n",
    "\n",
    "    G=g\n",
    "    # for v in G:\n",
    "    #     print(v)\n",
    "    #     print(pos[v])\n",
    "    pos = nx.spectral_layout(G, dim=3)\n",
    "    nodes = np.array([pos[v] for v in G])\n",
    "    print(nodes)\n",
    "    edges = np.array([(pos[u], pos[v]) for u, v in G.edges()])\n",
    "\n",
    "    # Draw graph\n",
    "    # 绘制节点\n",
    "    \n",
    "    ax.scatter(*nodes.T, alpha=0.2, s=100, color=\"blue\")\n",
    "\n",
    "    # 绘制边\n",
    "    for edge in edges:\n",
    "        ax.plot(*edge.T, color=\"gray\")\n",
    "    # can use edgecolors attribute to color border of nodes by tag\n",
    "\n",
    "    return ax"
   ]
  },
  {
   "cell_type": "code",
   "execution_count": null,
   "metadata": {},
   "outputs": [],
   "source": [
    "import numpy as np\n",
    "import pandas as pd\n",
    "import networkx as nx\n",
    "import torch_geometric\n",
    "import matplotlib.pyplot as plt\n",
    "from matplotlib import colors as m2colors\n",
    "\n",
    "# 假设其他必要的库（如 torch_geometric, pandas, numpy 等）已经被正确导入\n",
    "\n",
    "def plot_atom_graph(data_obj, spectral=False):\n",
    "    \"\"\"\n",
    "    visualize atomic graph (useful for verifying type / number of elements, size of graph)\n",
    "    \"\"\"\n",
    "\n",
    "    # data_obj.atomic_numbers = data_obj.atomic_numbers +data_obj.fixed\n",
    "    \n",
    "    fig = plt.figure()\n",
    "    ax = fig.add_subplot(111, projection='3d')\n",
    "\n",
    "    g = torch_geometric.utils.to_networkx(\n",
    "        data_obj, to_undirected=True, node_attrs=[\"atomic_numbers\"]\n",
    "    )\n",
    "\n",
    "    carac = pd.DataFrame(\n",
    "        {\n",
    "            \"ID\": np.arange(g.number_of_nodes()),\n",
    "            \"type\":  (data_obj.atomic_numbers+data_obj.fixed).numpy(),\n",
    "            \"size\": data_obj.atomic_numbers.numpy(),\n",
    "        }\n",
    "    )\n",
    "\n",
    "    carac = carac.set_index(\"ID\")\n",
    "    carac = carac.reindex(g.nodes())\n",
    "    carac[\"type\"] = pd.Categorical(carac[\"type\"])\n",
    "    \n",
    "    color_list = [\n",
    "        (1.0, 0.0, 0.0),  # 红色\n",
    "        (170/255, 62/255, 0.0),  # 绿色\n",
    "        (200/255, 128/255, 51/255), # 橙色\n",
    "        (0.0, 0.0, 1.0),  # 蓝色\n",
    "        (0.5, 0.0, 0.5),  # 紫色\n",
    "        (1.0, 1.0, 0.0),  # 黄色\n",
    "        (0.5, 0.5, 0.5),  # 灰色\n",
    "        \n",
    "    ]\n",
    "    \n",
    "    # 使用RGB颜色列表创建ListedColormap对象\n",
    "    cmap = matplotlib.colors.ListedColormap(color_list)\n",
    "    \n",
    "    pos = data_obj.pos.numpy()\n",
    "    r = range(len(pos))\n",
    "    pos = dict(zip(r, pos))\n",
    "    if spectral:\n",
    "        pos = nx.spectral_layout(g, dim=3)  # 生成三维位置\n",
    "        print(pos)\n",
    "    print(pos)\n",
    "    nodes = np.array([pos[v] for v in sorted(g.nodes())])\n",
    "\n",
    "    # 绘制节点，使用原子类型的分类代码作为索引来选择颜色\n",
    "    node_colors = [cmap.colors[code] for code in carac['type'].cat.codes]\n",
    "    ax.scatter(*nodes.T, s=carac['size']*2+40, c=node_colors, alpha=0.7,edgecolors='black')\n",
    "\n",
    "    # 绘制边\n",
    "    edges = np.array([(pos[u], pos[v]) for u, v in g.edges()])\n",
    "    for edge in edges:\n",
    "        ax.plot(*edge.T, color=\"grey\", linewidth= 0.4 )\n",
    "\n",
    "    # ax.grid(False)\n",
    "    # ax.set_axis_off()\n",
    "    # plt.tight_layout()\n",
    "    cube_definition = np.concatenate([np.array([[.0,.0,.0]]),data_obj.cell.numpy()[0]],axis=0)\n",
    "    cube_definition_array = [\n",
    "    np.array(list(item))\n",
    "    for item in cube_definition\n",
    "    ]\n",
    "\n",
    "    points = []\n",
    "    points += cube_definition_array\n",
    "    vectors = [\n",
    "        cube_definition_array[1] - cube_definition_array[0],\n",
    "        cube_definition_array[2] - cube_definition_array[0],\n",
    "        cube_definition_array[3] - cube_definition_array[0]\n",
    "    ]\n",
    "\n",
    "    points += [cube_definition_array[0] + vectors[0] + vectors[1]]\n",
    "    points += [cube_definition_array[0] + vectors[0] + vectors[2]]\n",
    "    points += [cube_definition_array[0] + vectors[1] + vectors[2]]\n",
    "    points += [cube_definition_array[0] + vectors[0] + vectors[1] + vectors[2]]\n",
    "\n",
    "    points = np.array(points)\n",
    "\n",
    "    cubeedges = [\n",
    "        [points[0], points[1]],\n",
    "        [points[0], points[2]],\n",
    "        [points[0], points[3]],\n",
    "        [points[1], points[4]],\n",
    "        [points[1], points[5]],\n",
    "        [points[2], points[4]],\n",
    "        [points[2], points[6]],\n",
    "        [points[3], points[5]],\n",
    "        [points[3], points[6]],\n",
    "        [points[4], points[7]],\n",
    "        [points[5], points[7]],\n",
    "        [points[6], points[7]]\n",
    "    ]\n",
    "    if not spectral:\n",
    "        # Plot the edges\n",
    "        for edge in cubeedges:\n",
    "            ax.plot([edge[0][0], edge[1][0]], [edge[0][1], edge[1][1]], [edge[0][2], edge[1][2]], 'k')\n",
    "\n",
    "    # Hide the axes\n",
    "    ax.set_axis_off()\n",
    "\n",
    "    # Set equal scaling\n",
    "    ax.set_box_aspect([np.ptp(a) for a in zip(*points)])  # 'ptp' stands for 'peak to peak'\n",
    "\n",
    "    plt.show()\n",
    "    \n",
    "\n",
    "    return ax\n"
   ]
  },
  {
   "cell_type": "code",
   "execution_count": null,
   "metadata": {},
   "outputs": [
    {
     "name": "stdout",
     "output_type": "stream",
     "text": [
      "Using matplotlib backend: QtAgg\n",
      "{0: array([1.2937, 0.739 , 0.    ], dtype=float32), 1: array([2.5874, 1.4781, 2.1021], dtype=float32), 2: array([0.    , 0.    , 4.2043], dtype=float32), 3: array([1.2937, 0.739 , 6.3064], dtype=float32), 4: array([2.5874, 1.4781, 8.4086], dtype=float32), 5: array([ 0.    ,  0.    , 10.5069], dtype=float32), 6: array([ 1.2937,  0.739 , 12.584 ], dtype=float32), 7: array([2.5739, 2.9558, 0.    ], dtype=float32), 8: array([3.8676, 3.6949, 2.1021], dtype=float32), 9: array([1.2802, 2.2168, 4.2043], dtype=float32), 10: array([2.5739, 2.9558, 6.3064], dtype=float32), 11: array([3.8676, 3.6949, 8.4086], dtype=float32), 12: array([ 1.2802,  2.2168, 10.5069], dtype=float32), 13: array([ 2.5739,  2.9558, 12.584 ], dtype=float32), 14: array([3.8541, 5.1726, 0.    ], dtype=float32), 15: array([5.1477, 5.9117, 2.1021], dtype=float32), 16: array([2.5604, 4.4336, 4.2043], dtype=float32), 17: array([3.8541, 5.1726, 6.3064], dtype=float32), 18: array([5.1477, 5.9117, 8.4086], dtype=float32), 19: array([ 2.5604,  4.4336, 10.5069], dtype=float32), 20: array([ 3.8541,  5.1726, 12.584 ], dtype=float32), 21: array([5.1342, 7.3894, 0.    ], dtype=float32), 22: array([6.4279, 8.1285, 2.1021], dtype=float32), 23: array([3.8406, 6.6504, 4.2043], dtype=float32), 24: array([5.1342, 7.3894, 6.3064], dtype=float32), 25: array([6.4279, 8.1285, 8.4086], dtype=float32), 26: array([ 3.8406,  6.6504, 10.5069], dtype=float32), 27: array([ 5.1342,  7.3894, 12.584 ], dtype=float32), 28: array([3.8945, 0.7393, 0.    ], dtype=float32), 29: array([5.1882, 1.4783, 2.1021], dtype=float32), 30: array([2.6009, 0.0003, 4.2043], dtype=float32), 31: array([3.8945, 0.7393, 6.3064], dtype=float32), 32: array([5.1882, 1.4783, 8.4086], dtype=float32), 33: array([ 2.6009,  0.0003, 10.5069], dtype=float32), 34: array([ 3.8945,  0.7393, 12.584 ], dtype=float32), 35: array([5.1747, 2.9561, 0.    ], dtype=float32), 36: array([6.4684, 3.6951, 2.1021], dtype=float32), 37: array([3.881 , 2.2171, 4.2043], dtype=float32), 38: array([5.1747, 2.9561, 6.3064], dtype=float32), 39: array([6.4684, 3.6951, 8.4086], dtype=float32), 40: array([ 3.881 ,  2.2171, 10.5069], dtype=float32), 41: array([ 5.1747,  2.9561, 12.584 ], dtype=float32), 42: array([6.4549, 5.1729, 0.    ], dtype=float32), 43: array([7.7486, 5.9119, 2.1021], dtype=float32), 44: array([5.1612, 4.4339, 4.2043], dtype=float32), 45: array([6.4549, 5.1729, 6.3064], dtype=float32), 46: array([7.7486, 5.9119, 8.4086], dtype=float32), 47: array([ 5.1612,  4.4339, 10.5069], dtype=float32), 48: array([ 6.4549,  5.1729, 12.584 ], dtype=float32), 49: array([7.7351, 7.3897, 0.    ], dtype=float32), 50: array([9.0288, 8.1287, 2.1021], dtype=float32), 51: array([6.4414, 6.6507, 4.2043], dtype=float32), 52: array([7.7351, 7.3897, 6.3064], dtype=float32), 53: array([9.0288, 8.1287, 8.4086], dtype=float32), 54: array([ 6.4414,  6.6507, 10.5069], dtype=float32), 55: array([ 7.7351,  7.3897, 12.584 ], dtype=float32), 56: array([6.4954, 0.7396, 0.    ], dtype=float32), 57: array([7.7891, 1.4786, 2.1021], dtype=float32), 58: array([5.2017, 0.0005, 4.2043], dtype=float32), 59: array([6.4954, 0.7396, 6.3064], dtype=float32), 60: array([7.7891, 1.4786, 8.4086], dtype=float32), 61: array([ 5.2017,  0.0005, 10.5069], dtype=float32), 62: array([ 6.4954,  0.7396, 12.584 ], dtype=float32), 63: array([7.7756, 2.9564, 0.    ], dtype=float32), 64: array([9.0693, 3.6954, 2.1021], dtype=float32), 65: array([6.4819, 2.2173, 4.2043], dtype=float32), 66: array([7.7756, 2.9564, 6.3064], dtype=float32), 67: array([9.0693, 3.6954, 8.4086], dtype=float32), 68: array([ 6.4819,  2.2173, 10.5069], dtype=float32), 69: array([ 7.7756,  2.9564, 12.584 ], dtype=float32), 70: array([9.0558, 5.1732, 0.    ], dtype=float32), 71: array([10.3495,  5.9122,  2.1021], dtype=float32), 72: array([7.7621, 4.4342, 4.2043], dtype=float32), 73: array([9.0558, 5.1732, 6.3064], dtype=float32), 74: array([10.3495,  5.9122,  8.4086], dtype=float32), 75: array([ 7.7621,  4.4342, 10.5069], dtype=float32), 76: array([ 9.0558,  5.1732, 12.584 ], dtype=float32), 77: array([10.336,  7.39 ,  0.   ], dtype=float32), 78: array([11.6297,  8.129 ,  2.1021], dtype=float32), 79: array([9.0423, 6.651 , 4.2043], dtype=float32), 80: array([10.336 ,  7.39  ,  6.3064], dtype=float32), 81: array([11.6297,  8.129 ,  8.4086], dtype=float32), 82: array([ 9.0423,  6.651 , 10.5069], dtype=float32), 83: array([10.336,  7.39 , 12.584], dtype=float32), 84: array([9.0963, 0.7398, 0.    ], dtype=float32), 85: array([10.39  ,  1.4789,  2.1021], dtype=float32), 86: array([7.8026, 0.0008, 4.2043], dtype=float32), 87: array([9.0963, 0.7398, 6.3064], dtype=float32), 88: array([10.39  ,  1.4789,  8.4086], dtype=float32), 89: array([ 7.8026,  0.0008, 10.5069], dtype=float32), 90: array([ 9.0963,  0.7398, 12.584 ], dtype=float32), 91: array([10.3765,  2.9566,  0.    ], dtype=float32), 92: array([11.6701,  3.6957,  2.1021], dtype=float32), 93: array([9.0828, 2.2176, 4.2043], dtype=float32), 94: array([10.3765,  2.9566,  6.3064], dtype=float32), 95: array([11.6701,  3.6957,  8.4086], dtype=float32), 96: array([ 9.0828,  2.2176, 10.5069], dtype=float32), 97: array([10.3765,  2.9566, 12.584 ], dtype=float32), 98: array([11.6566,  5.1735,  0.    ], dtype=float32), 99: array([12.9503,  5.9125,  2.1021], dtype=float32), 100: array([10.363 ,  4.4344,  4.2043], dtype=float32), 101: array([11.6566,  5.1735,  6.3064], dtype=float32), 102: array([12.9503,  5.9125,  8.4086], dtype=float32), 103: array([10.363 ,  4.4344, 10.5069], dtype=float32), 104: array([11.6566,  5.1735, 12.584 ], dtype=float32), 105: array([12.9368,  7.3903,  0.    ], dtype=float32), 106: array([14.2305,  8.1293,  2.1021], dtype=float32), 107: array([11.6431,  6.6512,  4.2043], dtype=float32), 108: array([12.9368,  7.3903,  6.3064], dtype=float32), 109: array([14.2305,  8.1293,  8.4086], dtype=float32), 110: array([11.6431,  6.6512, 10.5069], dtype=float32), 111: array([12.9368,  7.3903, 12.584 ], dtype=float32), 112: array([10.3415,  5.1732, 14.2561], dtype=float32), 113: array([10.9788,  6.2765, 14.2561], dtype=float32)}\n"
     ]
    },
    {
     "data": {
      "text/plain": [
       "<Axes3D: >"
      ]
     },
     "metadata": {},
     "output_type": "display_data"
    }
   ],
   "source": [
    "%matplotlib auto\n",
    "\n",
    "plot_atom_graph(test_data[0])"
   ]
  },
  {
   "cell_type": "code",
   "execution_count": null,
   "metadata": {},
   "outputs": [
    {
     "name": "stdout",
     "output_type": "stream",
     "text": [
      "{0: array([ 0.2256,  0.3239, -0.3067]), 1: array([ 0.1774,  0.063 , -0.0013]), 2: array([ 0.1201, -0.052 ,  0.0202]), 3: array([ 0.0082, -0.2072,  0.0428]), 4: array([-0.1076, -0.0907, -0.0795]), 5: array([-0.1677, -0.0227, -0.152 ]), 6: array([-0.2175,  0.206 , -0.1258]), 7: array([ 0.2219,  0.2896, -0.2196]), 8: array([0.1771, 0.0599, 0.0027]), 9: array([ 0.1199, -0.0513,  0.0206]), 10: array([ 0.0081, -0.2053,  0.0494]), 11: array([-0.1058, -0.0972, -0.0692]), 12: array([-0.1717,  0.0203, -0.0256]), 13: array([-0.2193,  0.2217, -0.1837]), 14: array([ 0.2181,  0.2575, -0.1612]), 15: array([0.1772, 0.0598, 0.0025]), 16: array([ 0.1177, -0.0661,  0.0366]), 17: array([ 0.0081, -0.2083,  0.0514]), 18: array([-0.1029, -0.1154, -0.0684]), 19: array([-0.1718,  0.0209, -0.0278]), 20: array([-0.2153,  0.1932, -0.1613]), 21: array([ 0.2181,  0.2577, -0.1634]), 22: array([0.1774, 0.0623, 0.    ]), 23: array([ 0.1157, -0.0786,  0.0489]), 24: array([ 0.0083, -0.2103,  0.0449]), 25: array([-0.103 , -0.1114, -0.0541]), 26: array([-0.1714,  0.0169, -0.0227]), 27: array([-0.2105,  0.1636, -0.1102]), 28: array([ 0.2147,  0.2282, -0.1083]), 29: array([0.1729, 0.0403, 0.0224]), 30: array([ 0.1203, -0.0499,  0.0214]), 31: array([ 0.0128, -0.2129,  0.0543]), 32: array([-0.1031, -0.11  , -0.0594]), 33: array([-0.1708,  0.0208, -0.0288]), 34: array([-0.2196,  0.2266, -0.1912]), 35: array([ 0.2115,  0.2066, -0.086 ]), 36: array([0.1725, 0.036 , 0.0325]), 37: array([ 0.1201, -0.0493,  0.021 ]), 38: array([ 0.0131, -0.2164,  0.0385]), 39: array([-0.1008, -0.1222, -0.0517]), 40: array([-0.1684, -0.0091, -0.1705]), 41: array([-0.22  ,  0.2334, -0.1773]), 42: array([ 0.2085,  0.1871, -0.0695]), 43: array([0.1726, 0.037 , 0.0305]), 44: array([ 0.1181, -0.0618,  0.0328]), 45: array([ 0.0129, -0.2162,  0.0565]), 46: array([-0.0978, -0.1398, -0.0353]), 47: array([-0.1685, -0.0093, -0.17  ]), 48: array([-0.2156,  0.1991, -0.1657]), 49: array([ 0.2086,  0.1881, -0.0699]), 50: array([0.1728, 0.04  , 0.025 ]), 51: array([ 0.1164, -0.0706,  0.0352]), 52: array([ 0.0127, -0.2135,  0.0736]), 53: array([-0.0979, -0.1371, -0.0379]), 54: array([-0.1706,  0.0189, -0.0266]), 55: array([-0.2107,  0.1667, -0.1142]), 56: array([ 0.2057,  0.1597, -0.0338]), 57: array([0.1704, 0.0184, 0.0484]), 58: array([ 0.1155, -0.0891,  0.0757]), 59: array([ 0.0127, -0.2279,  0.0824]), 60: array([-0.0974, -0.154 , -0.0285]), 61: array([-0.1684,  0.0051, -0.0108]), 62: array([-0.209 ,  0.1498, -0.1129]), 63: array([ 0.2031,  0.1467, -0.0257]), 64: array([0.1702, 0.0168, 0.0507]), 65: array([ 0.1155, -0.0892,  0.0669]), 66: array([ 0.0128, -0.2277,  0.081 ]), 67: array([-0.0951, -0.1662, -0.0131]), 68: array([-0.1658, -0.0289, -0.1713]), 69: array([-0.209 ,  0.1503, -0.1123]), 70: array([ 0.2004,  0.1315, -0.0123]), 71: array([0.17  , 0.0142, 0.0627]), 72: array([ 0.1135, -0.0981,  0.0809]), 73: array([ 0.0128, -0.2299,  0.0957]), 74: array([-0.0992, -0.13  ,  0.1225]), 75: array([-0.1683,  0.003 , -0.0076]), 76: array([-0.2056,  0.1326, -0.0703]), 77: array([ 0.2004,  0.1305, -0.0106]), 78: array([0.1701, 0.015 , 0.0608]), 79: array([ 0.1117, -0.1081,  0.0888]), 80: array([ 0.0127, -0.2299,  0.0964]), 81: array([-0.0924, -0.1784, -0.0107]), 82: array([-0.168 ,  0.0004, -0.0018]), 83: array([-0.2025,  0.1166, -0.066 ]), 84: array([ 0.2057,  0.1604, -0.0354]), 85: array([0.1712, 0.035 , 0.0178]), 86: array([ 0.109 , -0.1273,  0.0946]), 87: array([ 0.0083, -0.2395,  0.0767]), 88: array([-0.0983, -0.1459, -0.0313]), 89: array([-0.1638, -0.0127,  0.0024]), 90: array([-0.2017,  0.1109, -0.0913]), 91: array([ 0.203 ,  0.145 , -0.0232]), 92: array([0.171 , 0.0332, 0.0236]), 93: array([ 0.1088, -0.1262,  0.0941]), 94: array([ 0.0082, -0.2372,  0.0857]), 95: array([-0.0962, -0.1564, -0.0258]), 96: array([-0.164 , -0.0102,  0.0012]), 97: array([-0.2019,  0.1132, -0.0778]), 98: array([ 0.2001,  0.1276, -0.0071]), 99: array([0.1709, 0.0311, 0.0264]), 100: array([ 0.1065, -0.137 ,  0.113 ]), 101: array([ 0.0081, -0.2393,  0.097 ]), 102: array([-0.0935, -0.1712, -0.0197]), 103: array([-0.1637, -0.0137,  0.0077]), 104: array([-0.1988,  0.0987, -0.0598]), 105: array([ 0.2   ,  0.1269, -0.007 ]), 106: array([0.171 , 0.0322, 0.0215]), 107: array([ 0.1045, -0.1488,  0.1204]), 108: array([ 0.0081, -0.2408,  0.0878]), 109: array([-0.0936, -0.1684, -0.0242]), 110: array([-0.1635, -0.0161,  0.008 ]), 111: array([-0.1961,  0.0856, -0.0699]), 112: array([-0.2435,  0.4737,  1.    ]), 113: array([-0.2435,  0.4737,  1.    ])}\n"
     ]
    },
    {
     "data": {
      "text/plain": [
       "<Axes3D: >"
      ]
     },
     "metadata": {},
     "output_type": "display_data"
    }
   ],
   "source": [
    "plot_atom_graph(test_data[0],spectral=True)"
   ]
  },
  {
   "cell_type": "code",
   "execution_count": 11,
   "metadata": {},
   "outputs": [],
   "source": [
    "G = nx.dodecahedral_graph()\n",
    "pos = nx.spectral_layout(G, dim=3)\n",
    "nodes = np.array([pos[v] for v in G])\n",
    "edges = np.array([(pos[u], pos[v]) for u, v in G.edges()])"
   ]
  },
  {
   "cell_type": "code",
   "execution_count": 13,
   "metadata": {},
   "outputs": [
    {
     "name": "stdout",
     "output_type": "stream",
     "text": [
      "Using matplotlib backend: QtAgg\n"
     ]
    }
   ],
   "source": [
    "%matplotlib auto\n",
    "\n",
    "import matplotlib.pyplot as plt\n",
    "from mpl_toolkits.mplot3d import Axes3D\n",
    "\n",
    "# 假设 nodes 和 edges 已经被定义为包含坐标信息的数组\n",
    "# nodes 应该是一个形状为 (N, 3) 的数组，其中 N 是点的数量\n",
    "# edges 是一个列表，其中每个元素都是一个形状为 (2, 3) 的数组，表示一条边的两个端点\n",
    "\n",
    "fig = plt.figure()\n",
    "ax = fig.add_subplot(111, projection='3d')\n",
    "\n",
    "# 绘制节点\n",
    "ax.scatter(*nodes.T, alpha=0.2, s=100, color=\"blue\")\n",
    "\n",
    "# 绘制边\n",
    "for edge in edges:\n",
    "    ax.plot(*edge.T, color=\"gray\")\n",
    "\n",
    "ax.grid(False)  # 关闭网格\n",
    "ax.set_axis_off()  # 关闭坐标轴显示\n",
    "plt.tight_layout()  # 调整布局\n",
    "plt.show()  # 显示图形\n"
   ]
  }
 ],
 "metadata": {
  "kernelspec": {
   "display_name": "ocp-models2",
   "language": "python",
   "name": "python3"
  },
  "language_info": {
   "codemirror_mode": {
    "name": "ipython",
    "version": 3
   },
   "file_extension": ".py",
   "mimetype": "text/x-python",
   "name": "python",
   "nbconvert_exporter": "python",
   "pygments_lexer": "ipython3",
   "version": "3.9.18"
  }
 },
 "nbformat": 4,
 "nbformat_minor": 2
}
